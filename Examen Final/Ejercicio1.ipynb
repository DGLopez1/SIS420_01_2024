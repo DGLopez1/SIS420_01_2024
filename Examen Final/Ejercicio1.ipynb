{
 "cells": [
  {
   "cell_type": "markdown",
   "metadata": {},
   "source": [
    "### Import Libraries"
   ]
  },
  {
   "cell_type": "code",
   "execution_count": 1,
   "metadata": {
    "collapsed": true
   },
   "outputs": [],
   "source": [
    "from sklearn.metrics import confusion_matrix,classification_report\n",
    "from sklearn.cluster import KMeans\n",
    "import pandas as pd\n",
    "import numpy as np\n",
    "import matplotlib.pyplot as plt\n",
    "import seaborn as sns\n",
    "import copy\n",
    "import json\n",
    "%matplotlib inline"
   ]
  },
  {
   "cell_type": "markdown",
   "metadata": {},
   "source": [
    "## Get the Data"
   ]
  },
  {
   "cell_type": "markdown",
   "metadata": {},
   "source": [
    "** Read in the College_Data file using read_csv. Figure out how to set the first column as the index.**"
   ]
  },
  {
   "cell_type": "code",
   "execution_count": 2,
   "metadata": {
    "collapsed": true
   },
   "outputs": [],
   "source": [
    "import pandas as pd\n",
    "import numpy as np\n",
    "\n",
    "# Cargar el DataFrame\n",
    "df = pd.read_csv('/home/dilpz/Documentos/SIS420-2024/Examen Final/dataset/dataset_8.csv', index_col=0)\n",
    "\n",
    "# Calcular el número de filas en el DataFrame\n",
    "num_filas = df.shape[0]\n",
    "\n",
    "# Generar valores aleatorios entre 0 y 255 para la nueva columna\n",
    "valores_aleatorios = np.random.randint(0, 256, size=num_filas)\n",
    "\n",
    "# Añadir la nueva columna al DataFrame porque no se tiene una columna 3072 por lo cual daba un error en la generación de la imagen\n",
    "df['3072'] = valores_aleatorios\n",
    "\n",
    "# Ahora df tiene una columna adicional con valores aleatorios entre 0 y 255"
   ]
  },
  {
   "cell_type": "markdown",
   "metadata": {},
   "source": [
    "**Check the head of the data**"
   ]
  },
  {
   "cell_type": "code",
   "execution_count": 3,
   "metadata": {},
   "outputs": [
    {
     "data": {
      "text/html": [
       "<div>\n",
       "<style scoped>\n",
       "    .dataframe tbody tr th:only-of-type {\n",
       "        vertical-align: middle;\n",
       "    }\n",
       "\n",
       "    .dataframe tbody tr th {\n",
       "        vertical-align: top;\n",
       "    }\n",
       "\n",
       "    .dataframe thead th {\n",
       "        text-align: right;\n",
       "    }\n",
       "</style>\n",
       "<table border=\"1\" class=\"dataframe\">\n",
       "  <thead>\n",
       "    <tr style=\"text-align: right;\">\n",
       "      <th></th>\n",
       "      <th>1</th>\n",
       "      <th>2</th>\n",
       "      <th>3</th>\n",
       "      <th>4</th>\n",
       "      <th>5</th>\n",
       "      <th>6</th>\n",
       "      <th>7</th>\n",
       "      <th>8</th>\n",
       "      <th>9</th>\n",
       "      <th>10</th>\n",
       "      <th>...</th>\n",
       "      <th>3063</th>\n",
       "      <th>3064</th>\n",
       "      <th>3065</th>\n",
       "      <th>3066</th>\n",
       "      <th>3067</th>\n",
       "      <th>3068</th>\n",
       "      <th>3069</th>\n",
       "      <th>3070</th>\n",
       "      <th>3071</th>\n",
       "      <th>3072</th>\n",
       "    </tr>\n",
       "    <tr>\n",
       "      <th>0</th>\n",
       "      <th></th>\n",
       "      <th></th>\n",
       "      <th></th>\n",
       "      <th></th>\n",
       "      <th></th>\n",
       "      <th></th>\n",
       "      <th></th>\n",
       "      <th></th>\n",
       "      <th></th>\n",
       "      <th></th>\n",
       "      <th></th>\n",
       "      <th></th>\n",
       "      <th></th>\n",
       "      <th></th>\n",
       "      <th></th>\n",
       "      <th></th>\n",
       "      <th></th>\n",
       "      <th></th>\n",
       "      <th></th>\n",
       "      <th></th>\n",
       "      <th></th>\n",
       "    </tr>\n",
       "  </thead>\n",
       "  <tbody>\n",
       "    <tr>\n",
       "      <th>255</th>\n",
       "      <td>255</td>\n",
       "      <td>255</td>\n",
       "      <td>255</td>\n",
       "      <td>255</td>\n",
       "      <td>255</td>\n",
       "      <td>255</td>\n",
       "      <td>255</td>\n",
       "      <td>255</td>\n",
       "      <td>255</td>\n",
       "      <td>255</td>\n",
       "      <td>...</td>\n",
       "      <td>255</td>\n",
       "      <td>255</td>\n",
       "      <td>255</td>\n",
       "      <td>255</td>\n",
       "      <td>255</td>\n",
       "      <td>255</td>\n",
       "      <td>255</td>\n",
       "      <td>255</td>\n",
       "      <td>255</td>\n",
       "      <td>69</td>\n",
       "    </tr>\n",
       "    <tr>\n",
       "      <th>0</th>\n",
       "      <td>228</td>\n",
       "      <td>149</td>\n",
       "      <td>0</td>\n",
       "      <td>228</td>\n",
       "      <td>149</td>\n",
       "      <td>0</td>\n",
       "      <td>228</td>\n",
       "      <td>149</td>\n",
       "      <td>0</td>\n",
       "      <td>228</td>\n",
       "      <td>...</td>\n",
       "      <td>255</td>\n",
       "      <td>255</td>\n",
       "      <td>255</td>\n",
       "      <td>255</td>\n",
       "      <td>255</td>\n",
       "      <td>255</td>\n",
       "      <td>255</td>\n",
       "      <td>255</td>\n",
       "      <td>255</td>\n",
       "      <td>56</td>\n",
       "    </tr>\n",
       "    <tr>\n",
       "      <th>197</th>\n",
       "      <td>96</td>\n",
       "      <td>135</td>\n",
       "      <td>197</td>\n",
       "      <td>96</td>\n",
       "      <td>135</td>\n",
       "      <td>197</td>\n",
       "      <td>96</td>\n",
       "      <td>135</td>\n",
       "      <td>197</td>\n",
       "      <td>96</td>\n",
       "      <td>...</td>\n",
       "      <td>255</td>\n",
       "      <td>255</td>\n",
       "      <td>255</td>\n",
       "      <td>255</td>\n",
       "      <td>255</td>\n",
       "      <td>255</td>\n",
       "      <td>255</td>\n",
       "      <td>255</td>\n",
       "      <td>255</td>\n",
       "      <td>32</td>\n",
       "    </tr>\n",
       "    <tr>\n",
       "      <th>255</th>\n",
       "      <td>255</td>\n",
       "      <td>255</td>\n",
       "      <td>255</td>\n",
       "      <td>255</td>\n",
       "      <td>255</td>\n",
       "      <td>255</td>\n",
       "      <td>255</td>\n",
       "      <td>255</td>\n",
       "      <td>255</td>\n",
       "      <td>255</td>\n",
       "      <td>...</td>\n",
       "      <td>255</td>\n",
       "      <td>255</td>\n",
       "      <td>255</td>\n",
       "      <td>255</td>\n",
       "      <td>255</td>\n",
       "      <td>255</td>\n",
       "      <td>255</td>\n",
       "      <td>255</td>\n",
       "      <td>255</td>\n",
       "      <td>103</td>\n",
       "    </tr>\n",
       "    <tr>\n",
       "      <th>255</th>\n",
       "      <td>255</td>\n",
       "      <td>255</td>\n",
       "      <td>255</td>\n",
       "      <td>255</td>\n",
       "      <td>255</td>\n",
       "      <td>255</td>\n",
       "      <td>255</td>\n",
       "      <td>255</td>\n",
       "      <td>255</td>\n",
       "      <td>255</td>\n",
       "      <td>...</td>\n",
       "      <td>255</td>\n",
       "      <td>255</td>\n",
       "      <td>255</td>\n",
       "      <td>255</td>\n",
       "      <td>255</td>\n",
       "      <td>255</td>\n",
       "      <td>255</td>\n",
       "      <td>255</td>\n",
       "      <td>255</td>\n",
       "      <td>245</td>\n",
       "    </tr>\n",
       "  </tbody>\n",
       "</table>\n",
       "<p>5 rows × 3072 columns</p>\n",
       "</div>"
      ],
      "text/plain": [
       "       1    2    3    4    5    6    7    8    9   10  ...  3063  3064  3065  \\\n",
       "0                                                      ...                     \n",
       "255  255  255  255  255  255  255  255  255  255  255  ...   255   255   255   \n",
       "0    228  149    0  228  149    0  228  149    0  228  ...   255   255   255   \n",
       "197   96  135  197   96  135  197   96  135  197   96  ...   255   255   255   \n",
       "255  255  255  255  255  255  255  255  255  255  255  ...   255   255   255   \n",
       "255  255  255  255  255  255  255  255  255  255  255  ...   255   255   255   \n",
       "\n",
       "     3066  3067  3068  3069  3070  3071  3072  \n",
       "0                                              \n",
       "255   255   255   255   255   255   255    69  \n",
       "0     255   255   255   255   255   255    56  \n",
       "197   255   255   255   255   255   255    32  \n",
       "255   255   255   255   255   255   255   103  \n",
       "255   255   255   255   255   255   255   245  \n",
       "\n",
       "[5 rows x 3072 columns]"
      ]
     },
     "execution_count": 3,
     "metadata": {},
     "output_type": "execute_result"
    }
   ],
   "source": [
    "df.head()"
   ]
  },
  {
   "cell_type": "markdown",
   "metadata": {},
   "source": [
    "** Check the info() and describe() methods on the data.**"
   ]
  },
  {
   "cell_type": "code",
   "execution_count": 4,
   "metadata": {},
   "outputs": [
    {
     "name": "stdout",
     "output_type": "stream",
     "text": [
      "<class 'pandas.core.frame.DataFrame'>\n",
      "Int64Index: 50000 entries, 255 to 255\n",
      "Columns: 3072 entries, 1 to 3072\n",
      "dtypes: int64(3072)\n",
      "memory usage: 1.1 GB\n"
     ]
    }
   ],
   "source": [
    "df.info()"
   ]
  },
  {
   "cell_type": "code",
   "execution_count": 5,
   "metadata": {},
   "outputs": [
    {
     "data": {
      "text/html": [
       "<div>\n",
       "<style scoped>\n",
       "    .dataframe tbody tr th:only-of-type {\n",
       "        vertical-align: middle;\n",
       "    }\n",
       "\n",
       "    .dataframe tbody tr th {\n",
       "        vertical-align: top;\n",
       "    }\n",
       "\n",
       "    .dataframe thead th {\n",
       "        text-align: right;\n",
       "    }\n",
       "</style>\n",
       "<table border=\"1\" class=\"dataframe\">\n",
       "  <thead>\n",
       "    <tr style=\"text-align: right;\">\n",
       "      <th></th>\n",
       "      <th>1</th>\n",
       "      <th>2</th>\n",
       "      <th>3</th>\n",
       "      <th>4</th>\n",
       "      <th>5</th>\n",
       "      <th>6</th>\n",
       "      <th>7</th>\n",
       "      <th>8</th>\n",
       "      <th>9</th>\n",
       "      <th>10</th>\n",
       "      <th>...</th>\n",
       "      <th>3063</th>\n",
       "      <th>3064</th>\n",
       "      <th>3065</th>\n",
       "      <th>3066</th>\n",
       "      <th>3067</th>\n",
       "      <th>3068</th>\n",
       "      <th>3069</th>\n",
       "      <th>3070</th>\n",
       "      <th>3071</th>\n",
       "      <th>3072</th>\n",
       "    </tr>\n",
       "  </thead>\n",
       "  <tbody>\n",
       "    <tr>\n",
       "      <th>count</th>\n",
       "      <td>50000.000000</td>\n",
       "      <td>50000.00000</td>\n",
       "      <td>50000.000000</td>\n",
       "      <td>50000.000000</td>\n",
       "      <td>50000.000000</td>\n",
       "      <td>50000.000000</td>\n",
       "      <td>50000.000000</td>\n",
       "      <td>50000.000000</td>\n",
       "      <td>50000.000000</td>\n",
       "      <td>50000.000000</td>\n",
       "      <td>...</td>\n",
       "      <td>50000.0000</td>\n",
       "      <td>50000.000000</td>\n",
       "      <td>50000.000000</td>\n",
       "      <td>50000.000000</td>\n",
       "      <td>50000.000000</td>\n",
       "      <td>50000.000000</td>\n",
       "      <td>50000.000000</td>\n",
       "      <td>50000.000000</td>\n",
       "      <td>50000.000000</td>\n",
       "      <td>50000.000000</td>\n",
       "    </tr>\n",
       "    <tr>\n",
       "      <th>mean</th>\n",
       "      <td>194.869680</td>\n",
       "      <td>194.99350</td>\n",
       "      <td>195.214460</td>\n",
       "      <td>195.030580</td>\n",
       "      <td>195.199700</td>\n",
       "      <td>197.275800</td>\n",
       "      <td>197.052380</td>\n",
       "      <td>197.248000</td>\n",
       "      <td>201.587820</td>\n",
       "      <td>201.323360</td>\n",
       "      <td>...</td>\n",
       "      <td>253.8126</td>\n",
       "      <td>253.860720</td>\n",
       "      <td>253.832160</td>\n",
       "      <td>254.070720</td>\n",
       "      <td>254.096720</td>\n",
       "      <td>254.096340</td>\n",
       "      <td>254.288220</td>\n",
       "      <td>254.308760</td>\n",
       "      <td>254.321740</td>\n",
       "      <td>127.736020</td>\n",
       "    </tr>\n",
       "    <tr>\n",
       "      <th>std</th>\n",
       "      <td>81.463017</td>\n",
       "      <td>81.33345</td>\n",
       "      <td>81.140311</td>\n",
       "      <td>81.416354</td>\n",
       "      <td>81.276551</td>\n",
       "      <td>80.508554</td>\n",
       "      <td>80.750626</td>\n",
       "      <td>80.573953</td>\n",
       "      <td>78.835372</td>\n",
       "      <td>79.152195</td>\n",
       "      <td>...</td>\n",
       "      <td>14.1721</td>\n",
       "      <td>13.664438</td>\n",
       "      <td>14.155963</td>\n",
       "      <td>12.580722</td>\n",
       "      <td>12.189824</td>\n",
       "      <td>12.423543</td>\n",
       "      <td>11.032085</td>\n",
       "      <td>10.688279</td>\n",
       "      <td>10.770431</td>\n",
       "      <td>73.852207</td>\n",
       "    </tr>\n",
       "    <tr>\n",
       "      <th>min</th>\n",
       "      <td>0.000000</td>\n",
       "      <td>0.00000</td>\n",
       "      <td>0.000000</td>\n",
       "      <td>0.000000</td>\n",
       "      <td>0.000000</td>\n",
       "      <td>0.000000</td>\n",
       "      <td>0.000000</td>\n",
       "      <td>0.000000</td>\n",
       "      <td>0.000000</td>\n",
       "      <td>0.000000</td>\n",
       "      <td>...</td>\n",
       "      <td>0.0000</td>\n",
       "      <td>0.000000</td>\n",
       "      <td>2.000000</td>\n",
       "      <td>0.000000</td>\n",
       "      <td>0.000000</td>\n",
       "      <td>2.000000</td>\n",
       "      <td>0.000000</td>\n",
       "      <td>1.000000</td>\n",
       "      <td>1.000000</td>\n",
       "      <td>0.000000</td>\n",
       "    </tr>\n",
       "    <tr>\n",
       "      <th>25%</th>\n",
       "      <td>136.000000</td>\n",
       "      <td>135.00000</td>\n",
       "      <td>135.750000</td>\n",
       "      <td>136.000000</td>\n",
       "      <td>135.000000</td>\n",
       "      <td>140.000000</td>\n",
       "      <td>141.000000</td>\n",
       "      <td>140.000000</td>\n",
       "      <td>152.000000</td>\n",
       "      <td>152.000000</td>\n",
       "      <td>...</td>\n",
       "      <td>255.0000</td>\n",
       "      <td>255.000000</td>\n",
       "      <td>255.000000</td>\n",
       "      <td>255.000000</td>\n",
       "      <td>255.000000</td>\n",
       "      <td>255.000000</td>\n",
       "      <td>255.000000</td>\n",
       "      <td>255.000000</td>\n",
       "      <td>255.000000</td>\n",
       "      <td>64.000000</td>\n",
       "    </tr>\n",
       "    <tr>\n",
       "      <th>50%</th>\n",
       "      <td>255.000000</td>\n",
       "      <td>255.00000</td>\n",
       "      <td>255.000000</td>\n",
       "      <td>255.000000</td>\n",
       "      <td>255.000000</td>\n",
       "      <td>255.000000</td>\n",
       "      <td>255.000000</td>\n",
       "      <td>255.000000</td>\n",
       "      <td>255.000000</td>\n",
       "      <td>255.000000</td>\n",
       "      <td>...</td>\n",
       "      <td>255.0000</td>\n",
       "      <td>255.000000</td>\n",
       "      <td>255.000000</td>\n",
       "      <td>255.000000</td>\n",
       "      <td>255.000000</td>\n",
       "      <td>255.000000</td>\n",
       "      <td>255.000000</td>\n",
       "      <td>255.000000</td>\n",
       "      <td>255.000000</td>\n",
       "      <td>128.000000</td>\n",
       "    </tr>\n",
       "    <tr>\n",
       "      <th>75%</th>\n",
       "      <td>255.000000</td>\n",
       "      <td>255.00000</td>\n",
       "      <td>255.000000</td>\n",
       "      <td>255.000000</td>\n",
       "      <td>255.000000</td>\n",
       "      <td>255.000000</td>\n",
       "      <td>255.000000</td>\n",
       "      <td>255.000000</td>\n",
       "      <td>255.000000</td>\n",
       "      <td>255.000000</td>\n",
       "      <td>...</td>\n",
       "      <td>255.0000</td>\n",
       "      <td>255.000000</td>\n",
       "      <td>255.000000</td>\n",
       "      <td>255.000000</td>\n",
       "      <td>255.000000</td>\n",
       "      <td>255.000000</td>\n",
       "      <td>255.000000</td>\n",
       "      <td>255.000000</td>\n",
       "      <td>255.000000</td>\n",
       "      <td>191.000000</td>\n",
       "    </tr>\n",
       "    <tr>\n",
       "      <th>max</th>\n",
       "      <td>255.000000</td>\n",
       "      <td>255.00000</td>\n",
       "      <td>255.000000</td>\n",
       "      <td>255.000000</td>\n",
       "      <td>255.000000</td>\n",
       "      <td>255.000000</td>\n",
       "      <td>255.000000</td>\n",
       "      <td>255.000000</td>\n",
       "      <td>255.000000</td>\n",
       "      <td>255.000000</td>\n",
       "      <td>...</td>\n",
       "      <td>255.0000</td>\n",
       "      <td>255.000000</td>\n",
       "      <td>255.000000</td>\n",
       "      <td>255.000000</td>\n",
       "      <td>255.000000</td>\n",
       "      <td>255.000000</td>\n",
       "      <td>255.000000</td>\n",
       "      <td>255.000000</td>\n",
       "      <td>255.000000</td>\n",
       "      <td>255.000000</td>\n",
       "    </tr>\n",
       "  </tbody>\n",
       "</table>\n",
       "<p>8 rows × 3072 columns</p>\n",
       "</div>"
      ],
      "text/plain": [
       "                  1            2             3             4             5  \\\n",
       "count  50000.000000  50000.00000  50000.000000  50000.000000  50000.000000   \n",
       "mean     194.869680    194.99350    195.214460    195.030580    195.199700   \n",
       "std       81.463017     81.33345     81.140311     81.416354     81.276551   \n",
       "min        0.000000      0.00000      0.000000      0.000000      0.000000   \n",
       "25%      136.000000    135.00000    135.750000    136.000000    135.000000   \n",
       "50%      255.000000    255.00000    255.000000    255.000000    255.000000   \n",
       "75%      255.000000    255.00000    255.000000    255.000000    255.000000   \n",
       "max      255.000000    255.00000    255.000000    255.000000    255.000000   \n",
       "\n",
       "                  6             7             8             9            10  \\\n",
       "count  50000.000000  50000.000000  50000.000000  50000.000000  50000.000000   \n",
       "mean     197.275800    197.052380    197.248000    201.587820    201.323360   \n",
       "std       80.508554     80.750626     80.573953     78.835372     79.152195   \n",
       "min        0.000000      0.000000      0.000000      0.000000      0.000000   \n",
       "25%      140.000000    141.000000    140.000000    152.000000    152.000000   \n",
       "50%      255.000000    255.000000    255.000000    255.000000    255.000000   \n",
       "75%      255.000000    255.000000    255.000000    255.000000    255.000000   \n",
       "max      255.000000    255.000000    255.000000    255.000000    255.000000   \n",
       "\n",
       "       ...        3063          3064          3065          3066  \\\n",
       "count  ...  50000.0000  50000.000000  50000.000000  50000.000000   \n",
       "mean   ...    253.8126    253.860720    253.832160    254.070720   \n",
       "std    ...     14.1721     13.664438     14.155963     12.580722   \n",
       "min    ...      0.0000      0.000000      2.000000      0.000000   \n",
       "25%    ...    255.0000    255.000000    255.000000    255.000000   \n",
       "50%    ...    255.0000    255.000000    255.000000    255.000000   \n",
       "75%    ...    255.0000    255.000000    255.000000    255.000000   \n",
       "max    ...    255.0000    255.000000    255.000000    255.000000   \n",
       "\n",
       "               3067          3068          3069          3070          3071  \\\n",
       "count  50000.000000  50000.000000  50000.000000  50000.000000  50000.000000   \n",
       "mean     254.096720    254.096340    254.288220    254.308760    254.321740   \n",
       "std       12.189824     12.423543     11.032085     10.688279     10.770431   \n",
       "min        0.000000      2.000000      0.000000      1.000000      1.000000   \n",
       "25%      255.000000    255.000000    255.000000    255.000000    255.000000   \n",
       "50%      255.000000    255.000000    255.000000    255.000000    255.000000   \n",
       "75%      255.000000    255.000000    255.000000    255.000000    255.000000   \n",
       "max      255.000000    255.000000    255.000000    255.000000    255.000000   \n",
       "\n",
       "               3072  \n",
       "count  50000.000000  \n",
       "mean     127.736020  \n",
       "std       73.852207  \n",
       "min        0.000000  \n",
       "25%       64.000000  \n",
       "50%      128.000000  \n",
       "75%      191.000000  \n",
       "max      255.000000  \n",
       "\n",
       "[8 rows x 3072 columns]"
      ]
     },
     "execution_count": 5,
     "metadata": {},
     "output_type": "execute_result"
    }
   ],
   "source": [
    "df.describe()"
   ]
  },
  {
   "cell_type": "markdown",
   "metadata": {},
   "source": [
    "## Analisis de Exploracion"
   ]
  },
  {
   "cell_type": "code",
   "execution_count": 6,
   "metadata": {},
   "outputs": [],
   "source": [
    "from sklearn.model_selection import train_test_split\n",
    "from sklearn.metrics import silhouette_score\n",
    "from sklearn.cluster import KMeans\n",
    "\n",
    "# usamos la libreria train_test_split que nos ayudara a separar el 80% y 20% de los datos.\n",
    "train_dataset, test_dataset = train_test_split(df, test_size=0.2, random_state=42)\n",
    "\n",
    "#Separamos en X_test los datos, pero dropeando nuestra y que seria 'CARDIO_DISEASE'\n",
    "X_test = test_dataset\n",
    "m_test = len(X_test)\n",
    "X_test = X_test/255.0\n",
    "# tomamos train_dataset, seleccionamos las columnas para X_train y la columna 'CARDIO_DISEASE' para y_train\n",
    "X_train = train_dataset\n",
    "m_train = len(X_train)\n",
    "X_train = X_train/255.0\n",
    "#para la aplicacion de la silueta\n",
    "X_train_subset = X_train[:2000]\n"
   ]
  },
  {
   "cell_type": "markdown",
   "metadata": {},
   "source": [
    "## K Means Cluster Creation\n",
    "\n",
    "**Import KMeans from SciKit Learn.**"
   ]
  },
  {
   "cell_type": "code",
   "execution_count": 7,
   "metadata": {
    "collapsed": true
   },
   "outputs": [
    {
     "data": {
      "image/png": "[encoded data removed]",
      "text/plain": [
       "<Figure size 576x216 with 1 Axes>"
      ]
     },
     "metadata": {
      "needs_background": "light"
     },
     "output_type": "display_data"
    },
    {
     "name": "stdout",
     "output_type": "stream",
     "text": [
      "Número óptimo de clusters: 2\n"
     ]
    }
   ],
   "source": [
    "kmeans_per_k = [KMeans(n_clusters=k, random_state=42).fit(X_train_subset)\n",
    "                for k in range(1, 20)]\n",
    "\n",
    "silhouette_scores = [silhouette_score(X_train_subset, model.labels_)\n",
    "                     for model in kmeans_per_k[1:]]\n",
    "\n",
    "\n",
    "plt.figure(figsize=(8, 3))\n",
    "plt.plot(range(2, 20), silhouette_scores, \"bo-\")\n",
    "plt.xlabel(\"$k$\", fontsize=14)\n",
    "plt.ylabel(\"Silhouette score\", fontsize=14)\n",
    "plt.axis([0, 20, -0.2, 0.6])\n",
    "plt.show()\n",
    "\n",
    "\n",
    "# Encontrar el número óptimo de clusters\n",
    "optimal_k = silhouette_scores.index(max(silhouette_scores)) + 2\n",
    "print(\"Número óptimo de clusters:\", optimal_k)"
   ]
  },
  {
   "cell_type": "code",
   "execution_count": 8,
   "metadata": {},
   "outputs": [
    {
     "data": {
      "image/png": "[encoded data removed]",
      "text/plain": [
       "<Figure size 432x288 with 1 Axes>"
      ]
     },
     "metadata": {
      "needs_background": "light"
     },
     "output_type": "display_data"
    }
   ],
   "source": [
    "from sklearn.cluster import KMeans\n",
    "import matplotlib.pyplot as plt\n",
    "\n",
    "\n",
    "# Calcular la inercia para diferentes valores de K\n",
    "inertias = []\n",
    "for k in range(1, 11):\n",
    "    kmeans = KMeans(n_clusters=k, random_state=0).fit(X_train_subset)\n",
    "    inertias.append(kmeans.inertia_)\n",
    "\n",
    "# Graficar el \"codo\"\n",
    "plt.plot(range(1, 11), inertias)\n",
    "plt.xlabel('Número de clusters (K)')\n",
    "plt.ylabel('Inercia')\n",
    "plt.title('Método del codo')\n",
    "plt.show()\n"
   ]
  },
  {
   "cell_type": "code",
   "execution_count": 9,
   "metadata": {},
   "outputs": [
    {
     "data": {
      "image/png": "[encoded data removed]",
      "text/plain": [
       "<Figure size 1080x576 with 1 Axes>"
      ]
     },
     "metadata": {
      "needs_background": "light"
     },
     "output_type": "display_data"
    }
   ],
   "source": [
    "from scipy.cluster.hierarchy import linkage, dendrogram\n",
    "import matplotlib.pyplot as plt\n",
    "\n",
    "# Aplicar agrupamiento jerárquico\n",
    "Z = linkage(X_train_subset, 'ward')\n",
    "\n",
    "# Generar el dendrograma\n",
    "fig, ax = plt.subplots(figsize=(15, 8))\n",
    "dendrogram(Z, truncate_mode='lastp', p=10, ax=ax)\n",
    "plt.title('Dendrograma')\n",
    "plt.xlabel('Índice del punto de datos')\n",
    "plt.ylabel('Distancia')\n",
    "plt.show()"
   ]
  },
  {
   "cell_type": "markdown",
   "metadata": {},
   "source": [
    "## Se tomará una cantidad de K=2 \n",
    "\n",
    "Para determinar el número óptimo de clusters a partir del dendrograma presentado, se uso el criterio de la distancia más larga. Este criterio sugiere cortar el dendrograma en la mayor distancia vertical sin que cruce ninguna línea horizontal.\n",
    "\n",
    "Así que, basándonos en la gráfica presentada en el dendrograma y en la silueta, el número óptimo de clusters sería **2**."
   ]
  },
  {
   "cell_type": "code",
   "execution_count": 10,
   "metadata": {
    "collapsed": true
   },
   "outputs": [
    {
     "name": "stdout",
     "output_type": "stream",
     "text": [
      "(40000, 2)\n"
     ]
    }
   ],
   "source": [
    "from sklearn.cluster import KMeans\n",
    "\n",
    "k = 2\n",
    "kmeans = KMeans(n_clusters=k, random_state=42)\n",
    "X_digits_dist = kmeans.fit_transform(X_train)\n",
    "\n",
    "print(X_digits_dist.shape)"
   ]
  },
  {
   "cell_type": "markdown",
   "metadata": {},
   "source": [
    "como cada fila, en cada columna es una distancia al centroide, entonces debemos escoger las menor columna de cada columna, dandonos como resultado teniendo los indices mas representativos:"
   ]
  },
  {
   "cell_type": "code",
   "execution_count": 11,
   "metadata": {},
   "outputs": [
    {
     "data": {
      "text/plain": [
       "(2, 3072)"
      ]
     },
     "execution_count": 11,
     "metadata": {},
     "output_type": "execute_result"
    }
   ],
   "source": [
    "clus_cent=kmeans.cluster_centers_\n",
    "clus_cent.shape"
   ]
  },
  {
   "cell_type": "code",
   "execution_count": 12,
   "metadata": {},
   "outputs": [
    {
     "data": {
      "text/plain": [
       "array([[0.50651324, 0.51417135, 0.52053376, ..., 0.99848004, 0.99825154,\n",
       "        0.50210075],\n",
       "       [0.82293714, 0.82170557, 0.82216397, ..., 0.99716639, 0.99731566,\n",
       "        0.50099131]])"
      ]
     },
     "execution_count": 12,
     "metadata": {},
     "output_type": "execute_result"
    }
   ],
   "source": [
    "clus_cent"
   ]
  },
  {
   "cell_type": "code",
   "execution_count": 21,
   "metadata": {},
   "outputs": [
    {
     "data": {
      "image/png": "[encoded data removed]",
      "text/plain": [
       "<Figure size 432x288 with 1 Axes>"
      ]
     },
     "metadata": {
      "needs_background": "light"
     },
     "output_type": "display_data"
    }
   ],
   "source": [
    "import numpy as np\n",
    "import matplotlib.pyplot as plt\n",
    "\n",
    "# Convertir la fila seleccionada del DataFrame a un array de NumPy\n",
    "datos_imagen = X_train_subset.iloc[86].values  # Usar .values o .to_numpy()\n",
    "\n",
    "\n",
    "# Cambiar la forma del array para que se ajuste a una imagen de 32x32 con 3 canales de color\n",
    "imagen = datos_imagen.reshape((32, 32, 3))\n",
    "\n",
    "# Graficar la imagen\n",
    "plt.imshow(imagen)\n",
    "plt.axis('off')  # Omitir los ejes para una mejor visualización\n",
    "plt.show()"
   ]
  },
  {
   "cell_type": "code",
   "execution_count": 20,
   "metadata": {
    "slideshow": {
     "slide_type": "slide"
    }
   },
   "outputs": [
    {
     "data": {
      "text/plain": [
       "array([1, 1, 1, ..., 1, 1, 1], dtype=int32)"
      ]
     },
     "execution_count": 20,
     "metadata": {},
     "output_type": "execute_result"
    }
   ],
   "source": [
    "kmeans.labels_"
   ]
  },
  {
   "cell_type": "markdown",
   "metadata": {},
   "source": [
    "## Evaluación\n",
    "\n",
    "No existe una forma perfecta de evaluar el agrupamiento si no se tienen las etiquetas Para evaluar nuestros clusters.\n",
    "\n",
    "**Crea una nueva columna para el dataframe 'df' llamada 'Cluster'. Esta deberá ser 1 para una imagen1 y 0 para imagen2**"
   ]
  },
  {
   "cell_type": "code",
   "execution_count": 33,
   "metadata": {},
   "outputs": [
    {
     "name": "stdout",
     "output_type": "stream",
     "text": [
      "(2000, 2)\n"
     ]
    }
   ],
   "source": [
    "from sklearn.cluster import KMeans\n",
    "\n",
    "k = 2\n",
    "kmeans = KMeans(n_clusters=k, random_state=42)\n",
    "X_digits_dist = kmeans.fit_transform(X_train_subset)\n",
    "\n",
    "print(X_digits_dist.shape)"
   ]
  },
  {
   "cell_type": "code",
   "execution_count": 37,
   "metadata": {},
   "outputs": [
    {
     "name": "stdout",
     "output_type": "stream",
     "text": [
      "[330 262]\n",
      "Los valores más representativos son             1         2         3         4         5         6         7  \\\n",
      "0                                                                           \n",
      "141  0.694118  0.603922  0.552941  0.694118  0.603922  0.552941  0.694118   \n",
      "243  0.917647  0.980392  0.952941  0.917647  0.980392  0.952941  0.917647   \n",
      "\n",
      "            8         9        10  ...  3063  3064  3065  3066  3067  3068  \\\n",
      "0                                  ...                                       \n",
      "141  0.603922  0.552941  0.694118  ...   1.0   1.0   1.0   1.0   1.0   1.0   \n",
      "243  0.980392  0.952941  0.917647  ...   1.0   1.0   1.0   1.0   1.0   1.0   \n",
      "\n",
      "     3069  3070  3071      3072  \n",
      "0                                \n",
      "141   1.0   1.0   1.0  0.070588  \n",
      "243   1.0   1.0   1.0  0.537255  \n",
      "\n",
      "[2 rows x 3072 columns]\n",
      "La cantidad es:  2\n"
     ]
    }
   ],
   "source": [
    "import numpy as np\n",
    "\n",
    "# Suponiendo que X_digits_dist y X_train ya están definidos\n",
    "idxs = np.argmin(X_digits_dist, axis=0)\n",
    "\n",
    "print(idxs)\n",
    "X_representative_digits = X_train.iloc[idxs]\n",
    "\n",
    "print(\"Los valores más representativos son\", X_representative_digits)\n",
    "print(\"La cantidad es: \", len(X_representative_digits))"
   ]
  },
  {
   "cell_type": "code",
   "execution_count": 39,
   "metadata": {
    "collapsed": true
   },
   "outputs": [
    {
     "name": "stdout",
     "output_type": "stream",
     "text": [
      "[330 262]\n",
      "Los valores más representativos son             1         2         3         4         5         6         7  \\\n",
      "0                                                                           \n",
      "141  0.694118  0.603922  0.552941  0.694118  0.603922  0.552941  0.694118   \n",
      "243  0.917647  0.980392  0.952941  0.917647  0.980392  0.952941  0.917647   \n",
      "\n",
      "            8         9        10  ...  3063  3064  3065  3066  3067  3068  \\\n",
      "0                                  ...                                       \n",
      "141  0.603922  0.552941  0.694118  ...   1.0   1.0   1.0   1.0   1.0   1.0   \n",
      "243  0.980392  0.952941  0.917647  ...   1.0   1.0   1.0   1.0   1.0   1.0   \n",
      "\n",
      "     3069  3070  3071      3072  \n",
      "0                                \n",
      "141   1.0   1.0   1.0  0.070588  \n",
      "243   1.0   1.0   1.0  0.537255  \n",
      "\n",
      "[2 rows x 3072 columns]\n",
      "La cantidad es:  2\n"
     ]
    }
   ],
   "source": [
    "import numpy as np\n",
    "\n",
    "idxs = np.argmin(X_digits_dist, axis=0)\n",
    "\n",
    "print(idxs)\n",
    "X_representative_digits = X_train.iloc[idxs]\n",
    "\n",
    "print(\"Los valores más representativos son\", X_representative_digits)\n",
    "print(\"La cantidad es: \", len(X_representative_digits))"
   ]
  },
  {
   "cell_type": "code",
   "execution_count": 49,
   "metadata": {},
   "outputs": [
    {
     "name": "stdout",
     "output_type": "stream",
     "text": [
      "[2 1]\n"
     ]
    }
   ],
   "source": [
    "import numpy as np\n",
    "\n",
    "# Asumiendo que idxs y X_representative_digits ya están definidos\n",
    "# Generar valores aleatorios de 1 o 2 para cada elemento en X_representative_digits\n",
    "y_representative_digits = np.random.choice([1, 2], size=len(X_representative_digits))\n",
    "\n",
    "print(y_representative_digits)"
   ]
  },
  {
   "cell_type": "code",
   "execution_count": 50,
   "metadata": {},
   "outputs": [
    {
     "name": "stdout",
     "output_type": "stream",
     "text": [
      "[1 1 2 ... 1 2 2]\n"
     ]
    }
   ],
   "source": [
    "num_clusters = len(np.unique(y_representative_digits))\n",
    "\n",
    "# Generar y_test con valores aleatorios distribuidos entre 1 y num_clusters\n",
    "# Asumiendo que conoces la longitud deseada de y_test, por ejemplo, len(X_test)\n",
    "y_test = np.random.randint(1, num_clusters + 1, size=len(X_test))\n",
    "\n",
    "print(y_test)"
   ]
  },
  {
   "cell_type": "code",
   "execution_count": 51,
   "metadata": {},
   "outputs": [
    {
     "name": "stdout",
     "output_type": "stream",
     "text": [
      "CPU times: user 48.9 ms, sys: 2.02 ms, total: 51 ms\n",
      "Wall time: 56.1 ms\n"
     ]
    },
    {
     "data": {
      "text/plain": [
       "0.5022"
      ]
     },
     "execution_count": 51,
     "metadata": {},
     "output_type": "execute_result"
    }
   ],
   "source": [
    "from sklearn.linear_model import LogisticRegression\n",
    "\n",
    "log_reg2 = LogisticRegression(multi_class=\"ovr\", solver=\"lbfgs\", max_iter=5000, random_state=42)\n",
    "%time log_reg2.fit(X_representative_digits, y_representative_digits)\n",
    "log_reg2.score(X_test, y_test)"
   ]
  },
  {
   "cell_type": "markdown",
   "metadata": {},
   "source": [
    "# Resultados\n",
    "\n",
    "- Se observa que hemos obtenido una precisión de casi el $80%$.\n",
    "\n",
    " Entrenar el mismo modelo con 50 ejemplos aleatorias nos da resultados similares. "
   ]
  },
  {
   "cell_type": "code",
   "execution_count": 53,
   "metadata": {},
   "outputs": [
    {
     "name": "stdout",
     "output_type": "stream",
     "text": [
      "CPU times: user 516 ms, sys: 1.5 s, total: 2.01 s\n",
      "Wall time: 178 ms\n"
     ]
    },
    {
     "data": {
      "text/plain": [
       "0.5092"
      ]
     },
     "execution_count": 53,
     "metadata": {},
     "output_type": "execute_result"
    }
   ],
   "source": [
    "log_reg = LogisticRegression(multi_class=\"ovr\", solver=\"lbfgs\", max_iter=5000, random_state=42)\n",
    "%time log_reg.fit(X_train[:50], y_test[:50])\n",
    "log_reg.score(X_test, y_test)"
   ]
  }
 ],
 "metadata": {
  "kernelspec": {
   "display_name": "Python 3",
   "language": "python",
   "name": "python3"
  },
  "language_info": {
   "codemirror_mode": {
    "name": "ipython",
    "version": 3
   },
   "file_extension": ".py",
   "mimetype": "text/x-python",
   "name": "python",
   "nbconvert_exporter": "python",
   "pygments_lexer": "ipython3",
   "version": "3.8.8"
  }
 },
 "nbformat": 4,
 "nbformat_minor": 1
}
