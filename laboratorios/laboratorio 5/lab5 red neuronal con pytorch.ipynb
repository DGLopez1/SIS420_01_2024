{
  "cells": [
    {
      "cell_type": "markdown",
      "metadata": {
        "id": "DjhgRWO_m6xK"
      },
      "source": [
        "# Pytorch - Redes Neuronales"
      ]
    },
    {
      "cell_type": "code",
      "execution_count": 1,
      "metadata": {
        "ExecuteTime": {
          "end_time": "2020-08-15T12:21:45.471625Z",
          "start_time": "2020-08-15T12:21:45.002765Z"
        },
        "id": "4hnzhQywm6xL",
        "metadata": {}
      },
      "outputs": [],
      "source": [
        "import torch"
      ]
    },
    {
      "cell_type": "code",
      "execution_count": 2,
      "metadata": {
        "id": "XmzVsCeKma_g",
        "metadata": {}
      },
      "outputs": [],
      "source": [
        "#D_in is input dimension, H is hidden dimension, D_out is output dimension , class is 10\n",
        "D_in, H, D_out = 784, 55, 25\n",
        "\n",
        "\n",
        "model = torch.nn.Sequential(\n",
        "    torch.nn.Linear(D_in, H),\n",
        "    torch.nn.ReLU(),\n",
        "    torch.nn.Linear(H, D_out),\n",
        ")"
      ]
    },
    {
      "cell_type": "code",
      "execution_count": 3,
      "metadata": {
        "id": "_MbhWbupMaUO",
        "metadata": {}
      },
      "outputs": [],
      "source": [
        "# Mueve el modelo a la GPU si está disponible\n",
        "if torch.cuda.is_available():\n",
        "    model.cuda()"
      ]
    },
    {
      "cell_type": "code",
      "execution_count": 4,
      "metadata": {
        "id": "B5w8ry_uJyU9",
        "metadata": {}
      },
      "outputs": [],
      "source": [
        "import numpy as np"
      ]
    },
    {
      "cell_type": "code",
      "execution_count": 5,
      "metadata": {
        "colab": {
          "base_uri": "https://localhost:8080/"
        },
        "id": "0lPCsYXeVsIN",
        "metadata": {},
        "outputId": "fcb3795b-f657-4628-cedf-d73751e3e042"
      },
      "outputs": [
        {
          "name": "stdout",
          "output_type": "stream",
          "text": [
            "(27455, 784)\n",
            "(27455,)\n",
            "(27455, 784)\n",
            "(27455,)\n"
          ]
        }
      ],
      "source": [
        "data = np.loadtxt(\"/home/dilpz/Documentos/SIS420-2024/datasets/sign_mnist_train.csv\", delimiter=',',skiprows=1)\n",
        "# print(data)\n",
        "X, Y = data[:, 1:], data[:, 0]\n",
        "print(X.shape)\n",
        "print(Y.shape)\n",
        "\n",
        "data = np.loadtxt(\"/home/dilpz/Documentos/SIS420-2024/datasets/sign_mnist_test.csv\", delimiter=',',skiprows=1)\n",
        "# print(data)\n",
        "X_test, Y_test = data[:, 1:], data[:, 0]\n",
        "print(X.shape)\n",
        "print(Y.shape)"
      ]
    },
    {
      "cell_type": "code",
      "execution_count": 6,
      "metadata": {
        "id": "xGHmr-8-G1lA",
        "metadata": {}
      },
      "outputs": [],
      "source": [
        "# normalización y split\n",
        "X_train, X_test, y_train, y_test = X/ 255., X_test/ 255., Y.astype(int), Y_test.astype(int)"
      ]
    },
    {
      "cell_type": "code",
      "execution_count": 7,
      "metadata": {
        "id": "NkJDhpXNMlbt",
        "metadata": {}
      },
      "outputs": [],
      "source": [
        "# Define la función de pérdida y el optimizador\n",
        "criterion = torch.nn.CrossEntropyLoss()\n",
        "optimizer = torch.optim.SGD(model.parameters(), lr=0.1)"
      ]
    },
    {
      "cell_type": "code",
      "execution_count": 8,
      "metadata": {
        "id": "CIL-aX3PMng-",
        "metadata": {}
      },
      "outputs": [],
      "source": [
        "# Convierte los datos a tensores y cópialos a la GPU si está disponible\n",
        "X_train_t = torch.from_numpy(X_train).float()\n",
        "y_train_t = torch.from_numpy(y_train).long()\n",
        "X_test_t = torch.from_numpy(X_test).float()\n",
        "y_test_t = torch.from_numpy(y_test).long()"
      ]
    },
    {
      "cell_type": "code",
      "execution_count": 9,
      "metadata": {
        "ExecuteTime": {
          "end_time": "2020-08-15T12:22:05.777964Z",
          "start_time": "2020-08-15T12:22:05.763102Z"
        },
        "hidden": true,
        "id": "pDJK07Jpm6xR",
        "metadata": {}
      },
      "outputs": [],
      "source": [
        "if torch.cuda.is_available():\n",
        "    X_train_t = X_train_t.cuda()\n",
        "    y_train_t = y_train_t.cuda()\n",
        "    X_test_t = X_test_t.cuda()\n",
        "    y_test_t = y_test_t.cuda()"
      ]
    },
    {
      "cell_type": "code",
      "execution_count": 13,
      "metadata": {
        "id": "ZsrQSYuSMtfx",
        "metadata": {}
      },
      "outputs": [],
      "source": [
        "# Entrenamiento del modelo\n",
        "epochs = 100\n",
        "log_each = 1\n",
        "l = []"
      ]
    },
    {
      "cell_type": "code",
      "execution_count": 14,
      "metadata": {
        "colab": {
          "base_uri": "https://localhost:8080/"
        },
        "id": "ri2zPy8OM0oQ",
        "metadata": {},
        "outputId": "7dcc45a5-3a51-4479-8110-6c5e388aa86b"
      },
      "outputs": [
        {
          "name": "stdout",
          "output_type": "stream",
          "text": [
            "Epoch 100/1000 Loss 2.49781\n",
            "Epoch 200/1000 Loss 2.30267\n",
            "Epoch 300/1000 Loss 2.14244\n",
            "Epoch 400/1000 Loss 2.00695\n",
            "Epoch 500/1000 Loss 1.89831\n",
            "Epoch 600/1000 Loss 1.80581\n",
            "Epoch 700/1000 Loss 1.72149\n",
            "Epoch 800/1000 Loss 1.64419\n",
            "Epoch 900/1000 Loss 1.57663\n",
            "Epoch 1000/1000 Loss 1.51678\n"
          ]
        }
      ],
      "source": [
        "for e in range(1, epochs + 1):\n",
        "    # Forward\n",
        "    y_pred = model(X_train_t)\n",
        "\n",
        "    # Calcula la pérdida\n",
        "    loss = criterion(y_pred, y_train_t)\n",
        "    l.append(loss.item())\n",
        "\n",
        "    # Pone a cero los gradientes\n",
        "    optimizer.zero_grad()\n",
        "\n",
        "    # Retropropagación (calcula los gradientes automáticamente)\n",
        "    loss.backward()\n",
        "\n",
        "    # Actualiza los pesos\n",
        "    optimizer.step()\n",
        "\n",
        "    if not e % log_each:\n",
        "        print(f\"Epoch {e}/{epochs} Loss {np.mean(l):.5f}\")"
      ]
    },
    {
      "cell_type": "code",
      "execution_count": 17,
      "metadata": {
        "ExecuteTime": {
          "end_time": "2020-08-15T12:22:07.312014Z",
          "start_time": "2020-08-15T12:22:07.270016Z"
        },
        "colab": {
          "base_uri": "https://localhost:8080/"
        },
        "hidden": true,
        "id": "Ufomq0IIm6xT",
        "metadata": {},
        "outputId": "e6c9283a-10d5-446c-c372-1978c67ba13d"
      },
      "outputs": [
        {
          "name": "stdout",
          "output_type": "stream",
          "text": [
            "Accuracy: 71.43%\n",
            "Accuracy: 63.33%\n"
          ]
        }
      ],
      "source": [
        "from sklearn.metrics import accuracy_score\n",
        "#Evalua en el conjunto de entrenamiento\n",
        "model.eval()\n",
        "y_pred = model(X_train_t)\n",
        "y_pred = torch.argmax(y_pred, axis=1)\n",
        "accuracy = accuracy_score(y_train_t.cpu().numpy(), y_pred.cpu().numpy())\n",
        "print(f\"Accuracy: {accuracy * 100:.2f}%\")\n",
        "\n",
        "# Evalúa el modelo en el conjunto de prueba\n",
        "model.eval()\n",
        "y_pred = model(X_test_t)\n",
        "y_pred = torch.argmax(y_pred, axis=1)\n",
        "accuracy = accuracy_score(y_test_t.cpu().numpy(), y_pred.cpu().numpy())\n",
        "print(f\"Accuracy: {accuracy * 100:.2f}%\")"
      ]
    },
    {
      "cell_type": "code",
      "execution_count": null,
      "metadata": {},
      "outputs": [],
      "source": []
    }
  ],
  "metadata": {
    "accelerator": "GPU",
    "colab": {
      "gpuType": "T4",
      "provenance": []
    },
    "kernelspec": {
      "display_name": "Python 3",
      "name": "python3"
    },
    "language_info": {
      "codemirror_mode": {
        "name": "ipython",
        "version": 3
      },
      "file_extension": ".py",
      "mimetype": "text/x-python",
      "name": "python",
      "nbconvert_exporter": "python",
      "pygments_lexer": "ipython3",
      "version": "3.8.8"
    },
    "toc": {
      "base_numbering": 1,
      "nav_menu": {},
      "number_sections": true,
      "sideBar": true,
      "skip_h1_title": false,
      "title_cell": "Table of Contents",
      "title_sidebar": "Contents",
      "toc_cell": false,
      "toc_position": {
        "height": "calc(100% - 180px)",
        "left": "10px",
        "top": "150px",
        "width": "233.594px"
      },
      "toc_section_display": true,
      "toc_window_display": false
    }
  },
  "nbformat": 4,
  "nbformat_minor": 0
}
