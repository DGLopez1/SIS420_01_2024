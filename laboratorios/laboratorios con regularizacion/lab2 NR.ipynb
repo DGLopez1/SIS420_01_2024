{
  "cells": [
    {
      "cell_type": "markdown",
      "metadata": {
        "id": "9L0KhPHmJVNa"
      },
      "source": [
        "# Ejercicion de programación - Regresión Logistica\n",
        "\n",
        "En este ejercicio se implementa regresion logistica y se aplica a dos diferentes datasets."
      ]
    },
    {
      "cell_type": "code",
      "source": [
        "from google.colab import drive\n",
        "drive.mount('/content/drive')"
      ],
      "metadata": {
        "colab": {
          "base_uri": "https://localhost:8080/"
        },
        "id": "z5PQZyiqJhUu",
        "outputId": "4683f889-7178-4aa1-d5e4-21ace458d3a2"
      },
      "execution_count": 135,
      "outputs": [
        {
          "output_type": "stream",
          "name": "stdout",
          "text": [
            "Drive already mounted at /content/drive; to attempt to forcibly remount, call drive.mount(\"/content/drive\", force_remount=True).\n"
          ]
        }
      ]
    },
    {
      "cell_type": "code",
      "execution_count": 136,
      "metadata": {
        "id": "Eg6cIE74JVNd"
      },
      "outputs": [],
      "source": [
        "# se utiliza para el manejo de rutas y directorios.\n",
        "import os\n",
        "\n",
        "# Calculo cientifico y vectorial para python\n",
        "import numpy as np\n",
        "import pandas as pd\n",
        "# Librerias para graficar\n",
        "from matplotlib import pyplot\n",
        "# Importar libreria para dividir entrenamiento y prueba\n",
        "from sklearn.model_selection import train_test_split\n",
        "# le dice a matplotlib que incruste gráficos en el cuaderno\n",
        "%matplotlib inline\n",
        "\n"
      ]
    },
    {
      "cell_type": "markdown",
      "metadata": {
        "id": "t52vBnb_JVNe"
      },
      "source": [
        "## 1 Regresion Logistica\n",
        "\n",
        "En esta parte del ejercicio, creará un modelo de regresión logística para predecir si un estudiante será admitido en una universidad. Suponga que es el administrador de un departamento universitario y desea determinar las posibilidades de admisión de cada solicitante en función de sus resultados en dos exámenes. Tiene datos históricos de solicitantes anteriores que puede usar como un conjunto de capacitación para la regresión logística. Para cada ejemplo de capacitación, se tiene las calificaciones del solicitante en dos exámenes y la decisión de admisión. Su tarea es crear un modelo de clasificación que calcule la probabilidad de admisión de un solicitante en función de los puntajes de esos dos exámenes.\n",
        "\n",
        "La siguiente celda cargará los datos y las etiquetas correspondientes:"
      ]
    },
    {
      "cell_type": "code",
      "execution_count": 137,
      "metadata": {
        "colab": {
          "base_uri": "https://localhost:8080/"
        },
        "id": "WVzUelTXJVNe",
        "outputId": "842482c9-a4c4-42a6-c547-b0bd4fe0e402"
      },
      "outputs": [
        {
          "output_type": "stream",
          "name": "stdout",
          "text": [
            "Cantidad de NaN por columna después de llenar los datos faltantes:\n",
            "Sex                      0\n",
            "PhysicalHealthDays       0\n",
            "MentalHealthDays         0\n",
            "PhysicalActivities       0\n",
            "SleepHours               0\n",
            "HadHeartAttack           0\n",
            "HadStroke                0\n",
            "HadAsthma                0\n",
            "HadDepressiveDisorder    0\n",
            "HadDiabetes              0\n",
            "DeafOrHardOfHearing      0\n",
            "DifficultyErrands        0\n",
            "ChestScan                0\n",
            "HeightInMeters           0\n",
            "GeneralHealth            0\n",
            "dtype: int64\n",
            "<class 'pandas.core.frame.DataFrame'>\n",
            "RangeIndex: 30000 entries, 0 to 29999\n",
            "Data columns (total 15 columns):\n",
            " #   Column                 Non-Null Count  Dtype  \n",
            "---  ------                 --------------  -----  \n",
            " 0   Sex                    30000 non-null  int64  \n",
            " 1   PhysicalHealthDays     30000 non-null  float64\n",
            " 2   MentalHealthDays       30000 non-null  float64\n",
            " 3   PhysicalActivities     30000 non-null  int64  \n",
            " 4   SleepHours             30000 non-null  float64\n",
            " 5   HadHeartAttack         30000 non-null  int64  \n",
            " 6   HadStroke              30000 non-null  int64  \n",
            " 7   HadAsthma              30000 non-null  int64  \n",
            " 8   HadDepressiveDisorder  30000 non-null  int64  \n",
            " 9   HadDiabetes            30000 non-null  int64  \n",
            " 10  DeafOrHardOfHearing    30000 non-null  int64  \n",
            " 11  DifficultyErrands      30000 non-null  int64  \n",
            " 12  ChestScan              30000 non-null  int64  \n",
            " 13  HeightInMeters         30000 non-null  float64\n",
            " 14  GeneralHealth          30000 non-null  int64  \n",
            "dtypes: float64(4), int64(11)\n",
            "memory usage: 3.4 MB\n"
          ]
        }
      ],
      "source": [
        "# Leer el archivo CSV por pandas y tomar 30000 datos\n",
        "data = pd.read_csv('/content/drive/MyDrive/SIS420_IA/lab 2 cuadernillo y dataset/dataset_health_2022_.csv', usecols=[1, 2, 3, 4, 6, 7, 9, 11, 12, 15, 18, 19, 24, 27, 30 ], nrows=30000)\n",
        "\n",
        "# Mover la columna 'GeneralHealth' a la posición final\n",
        "cols = data.columns.tolist()\n",
        "cols.append(cols.pop(cols.index('GeneralHealth')))\n",
        "data = data[cols]\n",
        "\n",
        "# Columnas con valores 'Yes' y 'No'\n",
        "yes_no_columns = ['Sex','PhysicalActivities', 'HadHeartAttack', 'HadStroke', 'HadAsthma',\n",
        "                  'HadDepressiveDisorder', 'HadDiabetes', 'DeafOrHardOfHearing',\n",
        "                  'DifficultyErrands', 'ChestScan']\n",
        "\n",
        "# Función para mapear 'Yes' a 1 y 'No' a 0 ,,, Male=1 , Female=0 [0 1 'Yes, but only during pregnancy (female)'\n",
        "def map_yes_no(value):\n",
        "    if value == 'Yes' or value == 'Male' or value == 'Yes, but only during pregnancy (female)':\n",
        "        return 1\n",
        "    elif value == 'No' or value == 'Female' or value == 'No, pre-diabetes or borderline diabetes':\n",
        "        return 0\n",
        "    else:\n",
        "        return value\n",
        "\n",
        "def map_health_status(health_status):\n",
        "    if health_status in ['Excellent', 'Very good', 'Good']:\n",
        "        return 1\n",
        "    else:\n",
        "        return 0\n",
        "\n",
        "# Aplicar la transformación a las columnas seleccionadas\n",
        "for col in yes_no_columns:\n",
        "    data[col] = data[col].apply(map_yes_no)\n",
        "# Aplicar la función a la columna 'GeneralHealth'\n",
        "data['GeneralHealth'] = data['GeneralHealth'].apply(map_health_status)\n",
        "\n",
        "\n",
        "# Verificar que ya no hay valores NaN en el DataFrame\n",
        "print(\"Cantidad de NaN por columna después de llenar los datos faltantes:\")\n",
        "print(data.isna().sum())\n",
        "\n",
        "data.info()"
      ]
    },
    {
      "cell_type": "code",
      "execution_count": 138,
      "metadata": {
        "id": "PU2IfSLdJVNf",
        "colab": {
          "base_uri": "https://localhost:8080/"
        },
        "outputId": "332e4b01-6b6a-48d0-8fd0-2bf2368c8d13"
      },
      "outputs": [
        {
          "output_type": "stream",
          "name": "stdout",
          "text": [
            "<class 'pandas.core.frame.DataFrame'>\n",
            "Int64Index: 24000 entries, 21753 to 23654\n",
            "Data columns (total 15 columns):\n",
            " #   Column                 Non-Null Count  Dtype  \n",
            "---  ------                 --------------  -----  \n",
            " 0   Sex                    24000 non-null  int64  \n",
            " 1   PhysicalHealthDays     24000 non-null  float64\n",
            " 2   MentalHealthDays       24000 non-null  float64\n",
            " 3   PhysicalActivities     24000 non-null  int64  \n",
            " 4   SleepHours             24000 non-null  float64\n",
            " 5   HadHeartAttack         24000 non-null  int64  \n",
            " 6   HadStroke              24000 non-null  int64  \n",
            " 7   HadAsthma              24000 non-null  int64  \n",
            " 8   HadDepressiveDisorder  24000 non-null  int64  \n",
            " 9   HadDiabetes            24000 non-null  int64  \n",
            " 10  DeafOrHardOfHearing    24000 non-null  int64  \n",
            " 11  DifficultyErrands      24000 non-null  int64  \n",
            " 12  ChestScan              24000 non-null  int64  \n",
            " 13  HeightInMeters         24000 non-null  float64\n",
            " 14  GeneralHealth          24000 non-null  int64  \n",
            "dtypes: float64(4), int64(11)\n",
            "memory usage: 2.9 MB\n"
          ]
        }
      ],
      "source": [
        "# Division de dataset en entrenamiento y prueba\n",
        "train_data, test_data = train_test_split(data, test_size=0.2, random_state=42)\n",
        "train_data.info()"
      ]
    },
    {
      "cell_type": "markdown",
      "metadata": {
        "id": "llREAw-3JVNg"
      },
      "source": [
        "Se llama a la función implementada para mostrar los datos cargados:"
      ]
    },
    {
      "cell_type": "code",
      "execution_count": 139,
      "metadata": {
        "colab": {
          "base_uri": "https://localhost:8080/"
        },
        "id": "8ynW5qI3JVNg",
        "outputId": "cc7751ad-48d1-4d1e-ced0-30a231e26929"
      },
      "outputs": [
        {
          "output_type": "stream",
          "name": "stdout",
          "text": [
            "[0 1]\n"
          ]
        }
      ],
      "source": [
        "print(data['HadDiabetes'].unique())\n"
      ]
    },
    {
      "cell_type": "code",
      "source": [
        "def  featureNormalize(X):\n",
        "    X_norm = X.copy()\n",
        "\n",
        "    #creamos un array de ceros con una longitud igual al número de columnas en el array X. La variable mu y sigma se inicializa como este array de ceros.\n",
        "    mu = np.zeros(X.shape[1])\n",
        "    sigma = np.zeros(X.shape[1])\n",
        "\n",
        "    #Creamos el promedio de cada columna de X\n",
        "    mu = np.mean(X, axis = 0)\n",
        "    sigma = np.std(X, axis = 0)\n",
        "\n",
        "    sigma[sigma == 0] = 1\n",
        "\n",
        "    #normalizamos los datos con la siguiente formula\n",
        "    X_norm = (X - mu) / sigma\n",
        "\n",
        "    return X_norm, mu, sigma\n"
      ],
      "metadata": {
        "id": "gMRPPZcA1fM2"
      },
      "execution_count": 140,
      "outputs": []
    },
    {
      "cell_type": "code",
      "execution_count": 141,
      "metadata": {
        "id": "pk9dV23xJVNh"
      },
      "outputs": [],
      "source": [
        "train_data.to_csv(\"train.csv\", index=False)\n",
        "test_data.to_csv(\"test.csv\", index=False)"
      ]
    },
    {
      "cell_type": "code",
      "source": [
        "#Carga de dataset\n",
        "data = pd.read_csv('/content/train.csv')\n",
        "data_test = pd.read_csv('/content/test.csv')\n"
      ],
      "metadata": {
        "id": "12cIsGAxoZ_o"
      },
      "execution_count": 142,
      "outputs": []
    },
    {
      "cell_type": "code",
      "source": [
        "X = data.iloc[:, :14]\n",
        "y = data.iloc[:, 14]\n",
        "m = y.size\n",
        "\n",
        "X_test = data_test.iloc[:,:14]\n",
        "y_test = data_test.iloc[:,14]\n",
        "m_test = y_test.size\n"
      ],
      "metadata": {
        "id": "QS5hUxstobs2"
      },
      "execution_count": 143,
      "outputs": []
    },
    {
      "cell_type": "code",
      "execution_count": 144,
      "metadata": {
        "colab": {
          "base_uri": "https://localhost:8080/"
        },
        "id": "uIPk61NLJVNh",
        "outputId": "cfc38fd3-fd34-4390-a009-071c02ecfce4"
      },
      "outputs": [
        {
          "output_type": "stream",
          "name": "stdout",
          "text": [
            "g( 0 ) =  0.5\n"
          ]
        }
      ],
      "source": [
        "def sigmoid(z):\n",
        "    # Calcula la sigmoide de una entrada z\n",
        "    # convierte la intrada a un arreglo numpy\n",
        "    z = np.array(z)\n",
        "\n",
        "    g = np.zeros(z.shape)\n",
        "\n",
        "    g = 1 / (1 + np.exp(-z))\n",
        "\n",
        "    return g# Prueba la implementacion de la funcion sigmoid\n",
        "z = 0\n",
        "g = sigmoid(z)\n",
        "\n",
        "print('g(', z, ') = ', g)"
      ]
    },
    {
      "cell_type": "code",
      "source": [
        "X_norm, mu, sigma= featureNormalize(X)"
      ],
      "metadata": {
        "id": "60eXNQcO1qjg"
      },
      "execution_count": 145,
      "outputs": []
    },
    {
      "cell_type": "code",
      "execution_count": 146,
      "metadata": {
        "id": "ELtMkiYDJVNi"
      },
      "outputs": [],
      "source": [
        "# Configurar la matriz adecuadamente, y agregar una columna de unos que corresponde al termino de intercepción.\n",
        "m, n = X.shape\n",
        "# Agraga el termino de intercepción a A\n",
        "X = np.concatenate([np.ones((m, 1)), X], axis=1)"
      ]
    },
    {
      "cell_type": "markdown",
      "metadata": {
        "id": "dREHB51mJVNi"
      },
      "source": [
        "La funcion de costo en una regresión logistica es:\n",
        "\n",
        "$$ J(\\theta) = \\frac{1}{m} \\sum_{i=1}^{m} \\left[ -y^{(i)} \\log\\left(h_\\theta\\left( x^{(i)} \\right) \\right) - \\left( 1 - y^{(i)}\\right) \\log \\left( 1 - h_\\theta\\left( x^{(i)} \\right) \\right) \\right]$$\n",
        "\n",
        "y el gradiente del costo es un vector de la misma longitud como $\\theta$ donde el elemento $j^{th}$ (para $j = 0, 1, \\cdots , n$) se define como:\n",
        "\n",
        "$$ \\frac{\\partial J(\\theta)}{\\partial \\theta_j} = \\frac{1}{m} \\sum_{i=1}^m \\left( h_\\theta \\left( x^{(i)} \\right) - y^{(i)} \\right) x_j^{(i)} $$\n",
        "\n",
        "Si bien este gradiente parece idéntico al gradiente de regresión lineal, la fórmula es diferente porque la regresión lineal y logística tienen diferentes definiciones de $h_\\theta(x)$.\n",
        "<a id=\"costFunction\"></a>"
      ]
    },
    {
      "cell_type": "code",
      "source": [
        "X_norm"
      ],
      "metadata": {
        "colab": {
          "base_uri": "https://localhost:8080/",
          "height": 444
        },
        "id": "mDJ5X1PF1veX",
        "outputId": "2247634b-0b21-4ced-c8ef-fa9be94b54a5"
      },
      "execution_count": 147,
      "outputs": [
        {
          "output_type": "execute_result",
          "data": {
            "text/plain": [
              "            Sex  PhysicalHealthDays  MentalHealthDays  PhysicalActivities  \\\n",
              "0     -0.994349            2.996416          3.090581           -1.904222   \n",
              "1     -0.994349           -0.502759         -0.288823            0.525149   \n",
              "2      1.005683            0.080437          0.193949            0.525149   \n",
              "3      1.005683           -0.502759         -0.530209           -1.904222   \n",
              "4     -0.994349           -0.152841          0.193949           -1.904222   \n",
              "...         ...                 ...               ...                 ...   \n",
              "23995 -0.994349           -0.502759          0.676721            0.525149   \n",
              "23996 -0.994349            0.663633         -0.530209            0.525149   \n",
              "23997  1.005683           -0.502759         -0.530209           -1.904222   \n",
              "23998 -0.994349            0.663633         -0.530209           -1.904222   \n",
              "23999 -0.994349           -0.502759         -0.288823            0.525149   \n",
              "\n",
              "       SleepHours  HadHeartAttack  HadStroke  HadAsthma  \\\n",
              "0        0.676910        4.209602   4.883106   2.336728   \n",
              "1       -0.719501       -0.237552  -0.204788  -0.427949   \n",
              "2       -0.719501       -0.237552  -0.204788   2.336728   \n",
              "3       -0.719501       -0.237552  -0.204788   2.336728   \n",
              "4        0.676910       -0.237552   4.883106   2.336728   \n",
              "...           ...             ...        ...        ...   \n",
              "23995   -0.719501       -0.237552  -0.204788  -0.427949   \n",
              "23996    1.375116       -0.237552  -0.204788   2.336728   \n",
              "23997    0.676910       -0.237552  -0.204788  -0.427949   \n",
              "23998   -0.719501       -0.237552  -0.204788  -0.427949   \n",
              "23999   -0.021295       -0.237552  -0.204788  -0.427949   \n",
              "\n",
              "       HadDepressiveDisorder  HadDiabetes  DeafOrHardOfHearing  \\\n",
              "0                   1.949605     2.493166             -0.29821   \n",
              "1                  -0.512924    -0.401096             -0.29821   \n",
              "2                  -0.512924     2.493166             -0.29821   \n",
              "3                  -0.512924    -0.401096             -0.29821   \n",
              "4                   1.949605     2.493166             -0.29821   \n",
              "...                      ...          ...                  ...   \n",
              "23995              -0.512924    -0.401096             -0.29821   \n",
              "23996               1.949605    -0.401096             -0.29821   \n",
              "23997              -0.512924     2.493166             -0.29821   \n",
              "23998               1.949605    -0.401096             -0.29821   \n",
              "23999              -0.512924    -0.401096             -0.29821   \n",
              "\n",
              "       DifficultyErrands  ChestScan  HeightInMeters  \n",
              "0               3.644957   1.174637       -1.469914  \n",
              "1              -0.274352  -0.851327       -1.002592  \n",
              "2              -0.274352   1.174637        1.147088  \n",
              "3              -0.274352  -0.851327       -0.535271  \n",
              "4               3.644957   1.174637       -0.254877  \n",
              "...                  ...        ...             ...  \n",
              "23995          -0.274352   1.174637       -1.282986  \n",
              "23996          -0.274352   1.174637       -0.722199  \n",
              "23997          -0.274352  -0.851327        0.679766  \n",
              "23998          -0.274352  -0.851327       -1.002592  \n",
              "23999          -0.274352  -0.851327        0.212445  \n",
              "\n",
              "[24000 rows x 14 columns]"
            ],
            "text/html": [
              "\n",
              "  <div id=\"df-815e6381-0b9f-41a9-9e76-d3ee98af6c02\" class=\"colab-df-container\">\n",
              "    <div>\n",
              "<style scoped>\n",
              "    .dataframe tbody tr th:only-of-type {\n",
              "        vertical-align: middle;\n",
              "    }\n",
              "\n",
              "    .dataframe tbody tr th {\n",
              "        vertical-align: top;\n",
              "    }\n",
              "\n",
              "    .dataframe thead th {\n",
              "        text-align: right;\n",
              "    }\n",
              "</style>\n",
              "<table border=\"1\" class=\"dataframe\">\n",
              "  <thead>\n",
              "    <tr style=\"text-align: right;\">\n",
              "      <th></th>\n",
              "      <th>Sex</th>\n",
              "      <th>PhysicalHealthDays</th>\n",
              "      <th>MentalHealthDays</th>\n",
              "      <th>PhysicalActivities</th>\n",
              "      <th>SleepHours</th>\n",
              "      <th>HadHeartAttack</th>\n",
              "      <th>HadStroke</th>\n",
              "      <th>HadAsthma</th>\n",
              "      <th>HadDepressiveDisorder</th>\n",
              "      <th>HadDiabetes</th>\n",
              "      <th>DeafOrHardOfHearing</th>\n",
              "      <th>DifficultyErrands</th>\n",
              "      <th>ChestScan</th>\n",
              "      <th>HeightInMeters</th>\n",
              "    </tr>\n",
              "  </thead>\n",
              "  <tbody>\n",
              "    <tr>\n",
              "      <th>0</th>\n",
              "      <td>-0.994349</td>\n",
              "      <td>2.996416</td>\n",
              "      <td>3.090581</td>\n",
              "      <td>-1.904222</td>\n",
              "      <td>0.676910</td>\n",
              "      <td>4.209602</td>\n",
              "      <td>4.883106</td>\n",
              "      <td>2.336728</td>\n",
              "      <td>1.949605</td>\n",
              "      <td>2.493166</td>\n",
              "      <td>-0.29821</td>\n",
              "      <td>3.644957</td>\n",
              "      <td>1.174637</td>\n",
              "      <td>-1.469914</td>\n",
              "    </tr>\n",
              "    <tr>\n",
              "      <th>1</th>\n",
              "      <td>-0.994349</td>\n",
              "      <td>-0.502759</td>\n",
              "      <td>-0.288823</td>\n",
              "      <td>0.525149</td>\n",
              "      <td>-0.719501</td>\n",
              "      <td>-0.237552</td>\n",
              "      <td>-0.204788</td>\n",
              "      <td>-0.427949</td>\n",
              "      <td>-0.512924</td>\n",
              "      <td>-0.401096</td>\n",
              "      <td>-0.29821</td>\n",
              "      <td>-0.274352</td>\n",
              "      <td>-0.851327</td>\n",
              "      <td>-1.002592</td>\n",
              "    </tr>\n",
              "    <tr>\n",
              "      <th>2</th>\n",
              "      <td>1.005683</td>\n",
              "      <td>0.080437</td>\n",
              "      <td>0.193949</td>\n",
              "      <td>0.525149</td>\n",
              "      <td>-0.719501</td>\n",
              "      <td>-0.237552</td>\n",
              "      <td>-0.204788</td>\n",
              "      <td>2.336728</td>\n",
              "      <td>-0.512924</td>\n",
              "      <td>2.493166</td>\n",
              "      <td>-0.29821</td>\n",
              "      <td>-0.274352</td>\n",
              "      <td>1.174637</td>\n",
              "      <td>1.147088</td>\n",
              "    </tr>\n",
              "    <tr>\n",
              "      <th>3</th>\n",
              "      <td>1.005683</td>\n",
              "      <td>-0.502759</td>\n",
              "      <td>-0.530209</td>\n",
              "      <td>-1.904222</td>\n",
              "      <td>-0.719501</td>\n",
              "      <td>-0.237552</td>\n",
              "      <td>-0.204788</td>\n",
              "      <td>2.336728</td>\n",
              "      <td>-0.512924</td>\n",
              "      <td>-0.401096</td>\n",
              "      <td>-0.29821</td>\n",
              "      <td>-0.274352</td>\n",
              "      <td>-0.851327</td>\n",
              "      <td>-0.535271</td>\n",
              "    </tr>\n",
              "    <tr>\n",
              "      <th>4</th>\n",
              "      <td>-0.994349</td>\n",
              "      <td>-0.152841</td>\n",
              "      <td>0.193949</td>\n",
              "      <td>-1.904222</td>\n",
              "      <td>0.676910</td>\n",
              "      <td>-0.237552</td>\n",
              "      <td>4.883106</td>\n",
              "      <td>2.336728</td>\n",
              "      <td>1.949605</td>\n",
              "      <td>2.493166</td>\n",
              "      <td>-0.29821</td>\n",
              "      <td>3.644957</td>\n",
              "      <td>1.174637</td>\n",
              "      <td>-0.254877</td>\n",
              "    </tr>\n",
              "    <tr>\n",
              "      <th>...</th>\n",
              "      <td>...</td>\n",
              "      <td>...</td>\n",
              "      <td>...</td>\n",
              "      <td>...</td>\n",
              "      <td>...</td>\n",
              "      <td>...</td>\n",
              "      <td>...</td>\n",
              "      <td>...</td>\n",
              "      <td>...</td>\n",
              "      <td>...</td>\n",
              "      <td>...</td>\n",
              "      <td>...</td>\n",
              "      <td>...</td>\n",
              "      <td>...</td>\n",
              "    </tr>\n",
              "    <tr>\n",
              "      <th>23995</th>\n",
              "      <td>-0.994349</td>\n",
              "      <td>-0.502759</td>\n",
              "      <td>0.676721</td>\n",
              "      <td>0.525149</td>\n",
              "      <td>-0.719501</td>\n",
              "      <td>-0.237552</td>\n",
              "      <td>-0.204788</td>\n",
              "      <td>-0.427949</td>\n",
              "      <td>-0.512924</td>\n",
              "      <td>-0.401096</td>\n",
              "      <td>-0.29821</td>\n",
              "      <td>-0.274352</td>\n",
              "      <td>1.174637</td>\n",
              "      <td>-1.282986</td>\n",
              "    </tr>\n",
              "    <tr>\n",
              "      <th>23996</th>\n",
              "      <td>-0.994349</td>\n",
              "      <td>0.663633</td>\n",
              "      <td>-0.530209</td>\n",
              "      <td>0.525149</td>\n",
              "      <td>1.375116</td>\n",
              "      <td>-0.237552</td>\n",
              "      <td>-0.204788</td>\n",
              "      <td>2.336728</td>\n",
              "      <td>1.949605</td>\n",
              "      <td>-0.401096</td>\n",
              "      <td>-0.29821</td>\n",
              "      <td>-0.274352</td>\n",
              "      <td>1.174637</td>\n",
              "      <td>-0.722199</td>\n",
              "    </tr>\n",
              "    <tr>\n",
              "      <th>23997</th>\n",
              "      <td>1.005683</td>\n",
              "      <td>-0.502759</td>\n",
              "      <td>-0.530209</td>\n",
              "      <td>-1.904222</td>\n",
              "      <td>0.676910</td>\n",
              "      <td>-0.237552</td>\n",
              "      <td>-0.204788</td>\n",
              "      <td>-0.427949</td>\n",
              "      <td>-0.512924</td>\n",
              "      <td>2.493166</td>\n",
              "      <td>-0.29821</td>\n",
              "      <td>-0.274352</td>\n",
              "      <td>-0.851327</td>\n",
              "      <td>0.679766</td>\n",
              "    </tr>\n",
              "    <tr>\n",
              "      <th>23998</th>\n",
              "      <td>-0.994349</td>\n",
              "      <td>0.663633</td>\n",
              "      <td>-0.530209</td>\n",
              "      <td>-1.904222</td>\n",
              "      <td>-0.719501</td>\n",
              "      <td>-0.237552</td>\n",
              "      <td>-0.204788</td>\n",
              "      <td>-0.427949</td>\n",
              "      <td>1.949605</td>\n",
              "      <td>-0.401096</td>\n",
              "      <td>-0.29821</td>\n",
              "      <td>-0.274352</td>\n",
              "      <td>-0.851327</td>\n",
              "      <td>-1.002592</td>\n",
              "    </tr>\n",
              "    <tr>\n",
              "      <th>23999</th>\n",
              "      <td>-0.994349</td>\n",
              "      <td>-0.502759</td>\n",
              "      <td>-0.288823</td>\n",
              "      <td>0.525149</td>\n",
              "      <td>-0.021295</td>\n",
              "      <td>-0.237552</td>\n",
              "      <td>-0.204788</td>\n",
              "      <td>-0.427949</td>\n",
              "      <td>-0.512924</td>\n",
              "      <td>-0.401096</td>\n",
              "      <td>-0.29821</td>\n",
              "      <td>-0.274352</td>\n",
              "      <td>-0.851327</td>\n",
              "      <td>0.212445</td>\n",
              "    </tr>\n",
              "  </tbody>\n",
              "</table>\n",
              "<p>24000 rows × 14 columns</p>\n",
              "</div>\n",
              "    <div class=\"colab-df-buttons\">\n",
              "\n",
              "  <div class=\"colab-df-container\">\n",
              "    <button class=\"colab-df-convert\" onclick=\"convertToInteractive('df-815e6381-0b9f-41a9-9e76-d3ee98af6c02')\"\n",
              "            title=\"Convert this dataframe to an interactive table.\"\n",
              "            style=\"display:none;\">\n",
              "\n",
              "  <svg xmlns=\"http://www.w3.org/2000/svg\" height=\"24px\" viewBox=\"0 -960 960 960\">\n",
              "    <path d=\"M120-120v-720h720v720H120Zm60-500h600v-160H180v160Zm220 220h160v-160H400v160Zm0 220h160v-160H400v160ZM180-400h160v-160H180v160Zm440 0h160v-160H620v160ZM180-180h160v-160H180v160Zm440 0h160v-160H620v160Z\"/>\n",
              "  </svg>\n",
              "    </button>\n",
              "\n",
              "  <style>\n",
              "    .colab-df-container {\n",
              "      display:flex;\n",
              "      gap: 12px;\n",
              "    }\n",
              "\n",
              "    .colab-df-convert {\n",
              "      background-color: #E8F0FE;\n",
              "      border: none;\n",
              "      border-radius: 50%;\n",
              "      cursor: pointer;\n",
              "      display: none;\n",
              "      fill: #1967D2;\n",
              "      height: 32px;\n",
              "      padding: 0 0 0 0;\n",
              "      width: 32px;\n",
              "    }\n",
              "\n",
              "    .colab-df-convert:hover {\n",
              "      background-color: #E2EBFA;\n",
              "      box-shadow: 0px 1px 2px rgba(60, 64, 67, 0.3), 0px 1px 3px 1px rgba(60, 64, 67, 0.15);\n",
              "      fill: #174EA6;\n",
              "    }\n",
              "\n",
              "    .colab-df-buttons div {\n",
              "      margin-bottom: 4px;\n",
              "    }\n",
              "\n",
              "    [theme=dark] .colab-df-convert {\n",
              "      background-color: #3B4455;\n",
              "      fill: #D2E3FC;\n",
              "    }\n",
              "\n",
              "    [theme=dark] .colab-df-convert:hover {\n",
              "      background-color: #434B5C;\n",
              "      box-shadow: 0px 1px 3px 1px rgba(0, 0, 0, 0.15);\n",
              "      filter: drop-shadow(0px 1px 2px rgba(0, 0, 0, 0.3));\n",
              "      fill: #FFFFFF;\n",
              "    }\n",
              "  </style>\n",
              "\n",
              "    <script>\n",
              "      const buttonEl =\n",
              "        document.querySelector('#df-815e6381-0b9f-41a9-9e76-d3ee98af6c02 button.colab-df-convert');\n",
              "      buttonEl.style.display =\n",
              "        google.colab.kernel.accessAllowed ? 'block' : 'none';\n",
              "\n",
              "      async function convertToInteractive(key) {\n",
              "        const element = document.querySelector('#df-815e6381-0b9f-41a9-9e76-d3ee98af6c02');\n",
              "        const dataTable =\n",
              "          await google.colab.kernel.invokeFunction('convertToInteractive',\n",
              "                                                    [key], {});\n",
              "        if (!dataTable) return;\n",
              "\n",
              "        const docLinkHtml = 'Like what you see? Visit the ' +\n",
              "          '<a target=\"_blank\" href=https://colab.research.google.com/notebooks/data_table.ipynb>data table notebook</a>'\n",
              "          + ' to learn more about interactive tables.';\n",
              "        element.innerHTML = '';\n",
              "        dataTable['output_type'] = 'display_data';\n",
              "        await google.colab.output.renderOutput(dataTable, element);\n",
              "        const docLink = document.createElement('div');\n",
              "        docLink.innerHTML = docLinkHtml;\n",
              "        element.appendChild(docLink);\n",
              "      }\n",
              "    </script>\n",
              "  </div>\n",
              "\n",
              "\n",
              "<div id=\"df-bf06644e-005f-4ccd-aa51-ef44a776a4cb\">\n",
              "  <button class=\"colab-df-quickchart\" onclick=\"quickchart('df-bf06644e-005f-4ccd-aa51-ef44a776a4cb')\"\n",
              "            title=\"Suggest charts\"\n",
              "            style=\"display:none;\">\n",
              "\n",
              "<svg xmlns=\"http://www.w3.org/2000/svg\" height=\"24px\"viewBox=\"0 0 24 24\"\n",
              "     width=\"24px\">\n",
              "    <g>\n",
              "        <path d=\"M19 3H5c-1.1 0-2 .9-2 2v14c0 1.1.9 2 2 2h14c1.1 0 2-.9 2-2V5c0-1.1-.9-2-2-2zM9 17H7v-7h2v7zm4 0h-2V7h2v10zm4 0h-2v-4h2v4z\"/>\n",
              "    </g>\n",
              "</svg>\n",
              "  </button>\n",
              "\n",
              "<style>\n",
              "  .colab-df-quickchart {\n",
              "      --bg-color: #E8F0FE;\n",
              "      --fill-color: #1967D2;\n",
              "      --hover-bg-color: #E2EBFA;\n",
              "      --hover-fill-color: #174EA6;\n",
              "      --disabled-fill-color: #AAA;\n",
              "      --disabled-bg-color: #DDD;\n",
              "  }\n",
              "\n",
              "  [theme=dark] .colab-df-quickchart {\n",
              "      --bg-color: #3B4455;\n",
              "      --fill-color: #D2E3FC;\n",
              "      --hover-bg-color: #434B5C;\n",
              "      --hover-fill-color: #FFFFFF;\n",
              "      --disabled-bg-color: #3B4455;\n",
              "      --disabled-fill-color: #666;\n",
              "  }\n",
              "\n",
              "  .colab-df-quickchart {\n",
              "    background-color: var(--bg-color);\n",
              "    border: none;\n",
              "    border-radius: 50%;\n",
              "    cursor: pointer;\n",
              "    display: none;\n",
              "    fill: var(--fill-color);\n",
              "    height: 32px;\n",
              "    padding: 0;\n",
              "    width: 32px;\n",
              "  }\n",
              "\n",
              "  .colab-df-quickchart:hover {\n",
              "    background-color: var(--hover-bg-color);\n",
              "    box-shadow: 0 1px 2px rgba(60, 64, 67, 0.3), 0 1px 3px 1px rgba(60, 64, 67, 0.15);\n",
              "    fill: var(--button-hover-fill-color);\n",
              "  }\n",
              "\n",
              "  .colab-df-quickchart-complete:disabled,\n",
              "  .colab-df-quickchart-complete:disabled:hover {\n",
              "    background-color: var(--disabled-bg-color);\n",
              "    fill: var(--disabled-fill-color);\n",
              "    box-shadow: none;\n",
              "  }\n",
              "\n",
              "  .colab-df-spinner {\n",
              "    border: 2px solid var(--fill-color);\n",
              "    border-color: transparent;\n",
              "    border-bottom-color: var(--fill-color);\n",
              "    animation:\n",
              "      spin 1s steps(1) infinite;\n",
              "  }\n",
              "\n",
              "  @keyframes spin {\n",
              "    0% {\n",
              "      border-color: transparent;\n",
              "      border-bottom-color: var(--fill-color);\n",
              "      border-left-color: var(--fill-color);\n",
              "    }\n",
              "    20% {\n",
              "      border-color: transparent;\n",
              "      border-left-color: var(--fill-color);\n",
              "      border-top-color: var(--fill-color);\n",
              "    }\n",
              "    30% {\n",
              "      border-color: transparent;\n",
              "      border-left-color: var(--fill-color);\n",
              "      border-top-color: var(--fill-color);\n",
              "      border-right-color: var(--fill-color);\n",
              "    }\n",
              "    40% {\n",
              "      border-color: transparent;\n",
              "      border-right-color: var(--fill-color);\n",
              "      border-top-color: var(--fill-color);\n",
              "    }\n",
              "    60% {\n",
              "      border-color: transparent;\n",
              "      border-right-color: var(--fill-color);\n",
              "    }\n",
              "    80% {\n",
              "      border-color: transparent;\n",
              "      border-right-color: var(--fill-color);\n",
              "      border-bottom-color: var(--fill-color);\n",
              "    }\n",
              "    90% {\n",
              "      border-color: transparent;\n",
              "      border-bottom-color: var(--fill-color);\n",
              "    }\n",
              "  }\n",
              "</style>\n",
              "\n",
              "  <script>\n",
              "    async function quickchart(key) {\n",
              "      const quickchartButtonEl =\n",
              "        document.querySelector('#' + key + ' button');\n",
              "      quickchartButtonEl.disabled = true;  // To prevent multiple clicks.\n",
              "      quickchartButtonEl.classList.add('colab-df-spinner');\n",
              "      try {\n",
              "        const charts = await google.colab.kernel.invokeFunction(\n",
              "            'suggestCharts', [key], {});\n",
              "      } catch (error) {\n",
              "        console.error('Error during call to suggestCharts:', error);\n",
              "      }\n",
              "      quickchartButtonEl.classList.remove('colab-df-spinner');\n",
              "      quickchartButtonEl.classList.add('colab-df-quickchart-complete');\n",
              "    }\n",
              "    (() => {\n",
              "      let quickchartButtonEl =\n",
              "        document.querySelector('#df-bf06644e-005f-4ccd-aa51-ef44a776a4cb button');\n",
              "      quickchartButtonEl.style.display =\n",
              "        google.colab.kernel.accessAllowed ? 'block' : 'none';\n",
              "    })();\n",
              "  </script>\n",
              "</div>\n",
              "    </div>\n",
              "  </div>\n"
            ],
            "application/vnd.google.colaboratory.intrinsic+json": {
              "type": "dataframe",
              "variable_name": "X_norm",
              "summary": "{\n  \"name\": \"X_norm\",\n  \"rows\": 24000,\n  \"fields\": [\n    {\n      \"column\": \"Sex\",\n      \"properties\": {\n        \"dtype\": \"number\",\n        \"std\": 1.0000208339843977,\n        \"min\": -0.9943492982918978,\n        \"max\": 1.0056828135925766,\n        \"num_unique_values\": 2,\n        \"samples\": [\n          1.0056828135925766,\n          -0.9943492982918978\n        ],\n        \"semantic_type\": \"\",\n        \"description\": \"\"\n      }\n    },\n    {\n      \"column\": \"PhysicalHealthDays\",\n      \"properties\": {\n        \"dtype\": \"number\",\n        \"std\": 1.0000208339843977,\n        \"min\": -0.5027585248139452,\n        \"max\": 2.996416313667244,\n        \"num_unique_values\": 31,\n        \"samples\": [\n          1.3634680557093557,\n          0.43035476544770535\n        ],\n        \"semantic_type\": \"\",\n        \"description\": \"\"\n      }\n    },\n    {\n      \"column\": \"MentalHealthDays\",\n      \"properties\": {\n        \"dtype\": \"number\",\n        \"std\": 1.0000208339843975,\n        \"min\": -0.5302094916414086,\n        \"max\": 3.090581285267284,\n        \"num_unique_values\": 31,\n        \"samples\": [\n          2.1250370780916326,\n          -0.04743738805358295\n        ],\n        \"semantic_type\": \"\",\n        \"description\": \"\"\n      }\n    },\n    {\n      \"column\": \"PhysicalActivities\",\n      \"properties\": {\n        \"dtype\": \"number\",\n        \"std\": 1.0000208339843975,\n        \"min\": -1.9042216621973935,\n        \"max\": 0.5251489466021728,\n        \"num_unique_values\": 2,\n        \"samples\": [\n          0.5251489466021728,\n          -1.9042216621973935\n        ],\n        \"semantic_type\": \"\",\n        \"description\": \"\"\n      }\n    },\n    {\n      \"column\": \"SleepHours\",\n      \"properties\": {\n        \"dtype\": \"number\",\n        \"std\": 1.0000208339843977,\n        \"min\": -4.210528788562998,\n        \"max\": 11.848199697789537,\n        \"num_unique_values\": 20,\n        \"samples\": [\n          0.6769103159790775,\n          5.564349420521153\n        ],\n        \"semantic_type\": \"\",\n        \"description\": \"\"\n      }\n    },\n    {\n      \"column\": \"HadHeartAttack\",\n      \"properties\": {\n        \"dtype\": \"number\",\n        \"std\": 1.0000208339843975,\n        \"min\": -0.2375521497644969,\n        \"max\": 4.209601979992075,\n        \"num_unique_values\": 2,\n        \"samples\": [\n          -0.2375521497644969,\n          4.209601979992075\n        ],\n        \"semantic_type\": \"\",\n        \"description\": \"\"\n      }\n    },\n    {\n      \"column\": \"HadStroke\",\n      \"properties\": {\n        \"dtype\": \"number\",\n        \"std\": 1.0000208339843975,\n        \"min\": -0.20478770639059615,\n        \"max\": 4.8831056200838425,\n        \"num_unique_values\": 2,\n        \"samples\": [\n          -0.20478770639059615,\n          4.8831056200838425\n        ],\n        \"semantic_type\": \"\",\n        \"description\": \"\"\n      }\n    },\n    {\n      \"column\": \"HadAsthma\",\n      \"properties\": {\n        \"dtype\": \"number\",\n        \"std\": 1.0000208339843975,\n        \"min\": -0.42794888879082676,\n        \"max\": 2.3367276471391443,\n        \"num_unique_values\": 2,\n        \"samples\": [\n          -0.42794888879082676,\n          2.3367276471391443\n        ],\n        \"semantic_type\": \"\",\n        \"description\": \"\"\n      }\n    },\n    {\n      \"column\": \"HadDepressiveDisorder\",\n      \"properties\": {\n        \"dtype\": \"number\",\n        \"std\": 1.0000208339843975,\n        \"min\": -0.5129243767274572,\n        \"max\": 1.9496051374671761,\n        \"num_unique_values\": 2,\n        \"samples\": [\n          -0.5129243767274572,\n          1.9496051374671761\n        ],\n        \"semantic_type\": \"\",\n        \"description\": \"\"\n      }\n    },\n    {\n      \"column\": \"HadDiabetes\",\n      \"properties\": {\n        \"dtype\": \"number\",\n        \"std\": 1.0000208339843977,\n        \"min\": -0.40109649460922836,\n        \"max\": 2.4931656432805736,\n        \"num_unique_values\": 2,\n        \"samples\": [\n          -0.40109649460922836,\n          2.4931656432805736\n        ],\n        \"semantic_type\": \"\",\n        \"description\": \"\"\n      }\n    },\n    {\n      \"column\": \"DeafOrHardOfHearing\",\n      \"properties\": {\n        \"dtype\": \"number\",\n        \"std\": 1.0000208339843977,\n        \"min\": -0.29821002598961355,\n        \"max\": 3.3533413126587157,\n        \"num_unique_values\": 2,\n        \"samples\": [\n          3.3533413126587157,\n          -0.29821002598961355\n        ],\n        \"semantic_type\": \"\",\n        \"description\": \"\"\n      }\n    },\n    {\n      \"column\": \"DifficultyErrands\",\n      \"properties\": {\n        \"dtype\": \"number\",\n        \"std\": 1.000020833984398,\n        \"min\": -0.27435163058436723,\n        \"max\": 3.6449573777637356,\n        \"num_unique_values\": 2,\n        \"samples\": [\n          -0.27435163058436723,\n          3.6449573777637356\n        ],\n        \"semantic_type\": \"\",\n        \"description\": \"\"\n      }\n    },\n    {\n      \"column\": \"ChestScan\",\n      \"properties\": {\n        \"dtype\": \"number\",\n        \"std\": 1.0000208339843977,\n        \"min\": -0.851326879631292,\n        \"max\": 1.1746369390252285,\n        \"num_unique_values\": 2,\n        \"samples\": [\n          -0.851326879631292,\n          1.1746369390252285\n        ],\n        \"semantic_type\": \"\",\n        \"description\": \"\"\n      }\n    },\n    {\n      \"column\": \"HeightInMeters\",\n      \"properties\": {\n        \"dtype\": \"number\",\n        \"std\": 1.0000208339843977,\n        \"min\": -7.451635004804844,\n        \"max\": 6.1007007872944765,\n        \"num_unique_values\": 69,\n        \"samples\": [\n          -2.2176294575113134,\n          -1.4699143793265224\n        ],\n        \"semantic_type\": \"\",\n        \"description\": \"\"\n      }\n    }\n  ]\n}"
            }
          },
          "metadata": {},
          "execution_count": 147
        }
      ]
    },
    {
      "cell_type": "code",
      "execution_count": 148,
      "metadata": {
        "id": "iqDZRIgjJVNi"
      },
      "outputs": [],
      "source": [
        "def calcularCosto(theta, X, y):\n",
        "    # Inicializar algunos valores utiles\n",
        "    m = y.size  # numero de ejemplos de entrenamiento\n",
        "\n",
        "    J = 0\n",
        "    h = sigmoid(X.dot(theta.T))\n",
        "    J = (1 / m) * np.sum(-y.dot(np.log(h)) - (1 - y).dot(np.log(1 - h)))\n",
        "\n",
        "    return J"
      ]
    },
    {
      "cell_type": "code",
      "execution_count": 149,
      "metadata": {
        "id": "7G4SjTrwJVNi"
      },
      "outputs": [],
      "source": [
        "def descensoGradiente(theta, X_norm, y, alpha, num_iters):\n",
        "    # Inicializa algunos valores\n",
        "    m = y.shape[0] # numero de ejemplos de entrenamiento\n",
        "\n",
        "    # realiza una copia de theta, el cual será acutalizada por el descenso por el gradiente\n",
        "    theta = theta.copy()\n",
        "    J_history = []\n",
        "\n",
        "    for i in range(num_iters):\n",
        "        h = sigmoid(X.dot(theta.T))\n",
        "        theta = theta - (alpha / m) * (h - y).dot(X)\n",
        "\n",
        "        J_history.append(calcularCosto(theta, X, y))\n",
        "    return theta, J_history"
      ]
    },
    {
      "cell_type": "code",
      "source": [
        "def calcularCostoReg(theta, X, y, lambda_):\n",
        "    # Inicializar algunos valores utiles\n",
        "    m = y.size  # numero de ejemplos de entrenamiento\n",
        "\n",
        "    J = 0\n",
        "\n",
        "    # temp = theta.copy()\n",
        "    # temp[0] = 0\n",
        "\n",
        "    #hacemos el uso de la funcion sigmoid\n",
        "    h = sigmoid(X.dot(theta.T))\n",
        "\n",
        "    J = (1 / m) * np.sum(-y.dot(np.log(h)) - (1 - y).dot(np.log(1 - h)))\n",
        "\n",
        "    # Calculamos el término de regularización (sin incluir el primer término de theta)\n",
        "    regularization_term = (lambda_ / (2 * m)) * np.sum(np.square(theta[1:]))\n",
        "\n",
        "    # Sumamos el término de regularización al costo total\n",
        "    J += regularization_term\n",
        "\n",
        "    return J\n",
        "\n",
        "\n",
        "def descensoGradienteReg(theta, X, y, alpha, lambda_, num_iters):\n",
        "    # Inicializa algunos valores\n",
        "    m = y.shape[0] # numero de ejemplos de entrenamiento\n",
        "\n",
        "    # realiza una copia de theta, el cual será acutalizada por el descenso por el gradiente\n",
        "    theta = theta.copy()\n",
        "    J_history = []\n",
        "\n",
        "    for i in range(num_iters):\n",
        "        h = sigmoid(X.dot(theta.T))\n",
        "\n",
        "        # Calcula el gradiente descendente sin regularización\n",
        "        gradient = (1 / m) * X.T.dot(h - y)\n",
        "\n",
        "        # Calcula el término de regularización (excepto para el término de sesgo theta[0])\n",
        "        regularization_term = (lambda_ / m) * theta[1:]\n",
        "\n",
        "        # theta[0] -= alpha * (1 / m) * np.sum(h - y)\n",
        "        theta[0] -= alpha * gradient[0]\n",
        "        theta[1:] -= alpha * (gradient[1:]+ regularization_term)\n",
        "\n",
        "        # Calcula y guarda el costo en cada iteración\n",
        "        J_history.append(calcularCostoReg(theta, X, y, lambda_))\n",
        "\n",
        "    return theta, J_history"
      ],
      "metadata": {
        "id": "LIm3ExECP5Fa"
      },
      "execution_count": 150,
      "outputs": []
    },
    {
      "cell_type": "code",
      "source": [
        "X"
      ],
      "metadata": {
        "colab": {
          "base_uri": "https://localhost:8080/"
        },
        "id": "le0I6FrHz_yN",
        "outputId": "2271def4-a379-4a02-df22-9e3acf399193"
      },
      "execution_count": 151,
      "outputs": [
        {
          "output_type": "execute_result",
          "data": {
            "text/plain": [
              "array([[ 1.  ,  0.  , 30.  , ...,  1.  ,  1.  ,  1.55],\n",
              "       [ 1.  ,  0.  ,  0.  , ...,  0.  ,  0.  ,  1.6 ],\n",
              "       [ 1.  ,  1.  ,  5.  , ...,  0.  ,  1.  ,  1.83],\n",
              "       ...,\n",
              "       [ 1.  ,  1.  ,  0.  , ...,  0.  ,  0.  ,  1.78],\n",
              "       [ 1.  ,  0.  , 10.  , ...,  0.  ,  0.  ,  1.6 ],\n",
              "       [ 1.  ,  0.  ,  0.  , ...,  0.  ,  0.  ,  1.73]])"
            ]
          },
          "metadata": {},
          "execution_count": 151
        }
      ]
    },
    {
      "cell_type": "code",
      "execution_count": 152,
      "metadata": {
        "scrolled": true,
        "colab": {
          "base_uri": "https://localhost:8080/",
          "height": 523
        },
        "id": "rBUlehg6JVNi",
        "outputId": "bc93f17e-7fa0-4353-cbd0-c4f6f24b3530"
      },
      "outputs": [
        {
          "output_type": "stream",
          "name": "stdout",
          "text": [
            "theta calculado por el descenso por el gradiente: [ 0.06415505  0.02680103 -0.10627686 -0.02719871  0.08974087  0.30542082\n",
            " -0.01322674 -0.01093201 -0.00132322 -0.00804726 -0.03071376 -0.00947611\n",
            " -0.02105441 -0.01310506  0.10447743]\n",
            "0.9273832243206205\n"
          ]
        },
        {
          "output_type": "display_data",
          "data": {
            "text/plain": [
              "<Figure size 640x480 with 1 Axes>"
            ],
            "image/png": "[encoded data removed]"
          },
          "metadata": {}
        }
      ],
      "source": [
        "# Elegir algun valor para alpha (probar varias alternativas)\n",
        "alpha = 0.001\n",
        "num_iters = 1000\n",
        "lambda_ = 2000\n",
        "# inicializa theta y ejecuta el descenso por el gradiente\n",
        "theta = np.zeros(15)\n",
        "theta, J_history = descensoGradienteReg(theta, X, y, alpha, num_iters, lambda_)\n",
        "\n",
        "# Grafica la convergencia del costo\n",
        "pyplot.plot(np.arange(len(J_history)), J_history, lw=2)\n",
        "pyplot.xlabel('Numero de iteraciones')\n",
        "pyplot.ylabel('Costo J')\n",
        "\n",
        "# Muestra los resultados del descenso por el gradiente\n",
        "print('theta calculado por el descenso por el gradiente: {:s}'.format(str(theta)))\n",
        "\n",
        "# verificar si ingresa o no a la universidad\n",
        "X_array = [1, 1, 0.4, 1.0, 1, 7.5 , 0 , 1,  0 ,1 ,0 , 0, 0, 1 , 1.7]\n",
        "aprueba = sigmoid(np.dot(X_array, theta))\n",
        "\n",
        "print(aprueba)"
      ]
    },
    {
      "cell_type": "markdown",
      "metadata": {
        "id": "7AeXffwpJVNj"
      },
      "source": [
        "#### 1.2.3 Parámetros de aprendizaje usando `scipy.optimize`\n",
        "\n",
        "En el codigo anterior se encontró los parámetros óptimos de un modelo de regresión lineal al implementar el descenso de gradiente. Se implemento una función de costo y se calculó su gradiente, utilizando el algoritmo del descenso por el gradiente.\n",
        "\n",
        "En lugar de realizar los pasos del descenso por el gradiente, se utilizará el [módulo `scipy.optimize`] (https://docs.scipy.org/doc/scipy/reference/optimize.html). SciPy es una biblioteca de computación numérica para `python`. Proporciona un módulo de optimización para la búsqueda y minimización de raíces. A partir de `scipy 1.0`, la función` scipy.optimize.minimize` es el método a utilizar para problemas de optimización (tanto restringidos como no restringidos).\n",
        "\n",
        "For logistic regression, you want to optimize the cost function $J(\\theta)$ with parameters $\\theta$.\n",
        "Concretely, you are going to use `optimize.minimize` to find the best parameters $\\theta$ for the logistic regression cost function, given a fixed dataset (of X and y values). You will pass to `optimize.minimize` the following inputs:\n",
        "\n",
        "Para la regresión logística, se desea optimizar la función de costo $J(\\theta)$ con los parámetros $\\theta$.\n",
        "Concretamente, se va a utilizar `optimize.minimize` para encontrar los mejores parámetros $\\theta$ para la función de costo de regresión logística, dado un dataset fijo (de valores X e y). Se pasara a `optimize.minimize` las siguientes entradas:\n",
        "\n",
        "- `costFunction`: Una función de costo que, cuando se le da el dataset de entrenamiento y un $\\theta$ particular, calcula el costo de regresión logística y el gradiente con respecto a $\\theta$ para el dataset(X, y). Es importante tener en cuenta que solo se pasa el nombre de la función sin el paréntesis. Esto indica que solo proporcionamos una referencia a esta función y no evaluamos el resultado de esta función.\n",
        "- `initial_theta`: Los valores iniciales de los parametros que se tratan de optimizar.\n",
        "- `(X, y)`: Estos son argumentos adicionales a la funcion de costo.\n",
        "- `jac`: Indicación si la función de costo devuelve el jacobiano (gradiente) junto con el valor de costo. (True)\n",
        "- `method`: Método / algoritmo de optimización a utilizar\n",
        "- `options`: Opciones adicionales que pueden ser específicas del método de optimización específico. Solo se indica al algoritmo el número máximo de iteraciones antes de que termine.\n",
        "\n",
        "Si se ha completado la `costFunction` correctamente,`optimize.minimize` convergerá en los parámetros de optimización correctos y devolverá los valores finales del costo y $\\theta$ en un objeto de clase.\n",
        "\n",
        "Al usar `optimize.minimize`, no se tuvo que escribir ningún bucle ni establecer una tasa de aprendizaje como se hizo para el descenso de gradientes. Todo esto se hace mediante `optimize.minimize`: solo se necesita proporcionar una función que calcule el costo y el gradiente.\n",
        "\n",
        "A continuación, se tiene el código para llamar a `optimize.minimize` con los argumentos correctos."
      ]
    },
    {
      "cell_type": "code",
      "execution_count": 153,
      "metadata": {
        "scrolled": true,
        "id": "sB2xAu03JVNj"
      },
      "outputs": [],
      "source": [
        "X_norm_test = (X_test- mu) / sigma\n",
        "m_test= len(X_test)"
      ]
    },
    {
      "cell_type": "code",
      "source": [
        "X_test_1 = np.concatenate([np.ones((m_test, 1)), X_norm_test], axis=1)\n"
      ],
      "metadata": {
        "id": "9lNOX5ds2DDE"
      },
      "execution_count": 154,
      "outputs": []
    },
    {
      "cell_type": "code",
      "execution_count": 155,
      "metadata": {
        "id": "0xz73RAdJVNk",
        "colab": {
          "base_uri": "https://localhost:8080/"
        },
        "outputId": "fe5b79bb-6691-4e36-b6e4-d6f3c10c001c"
      },
      "outputs": [
        {
          "output_type": "stream",
          "name": "stdout",
          "text": [
            "(24000,)\n"
          ]
        }
      ],
      "source": [
        "y_predicha =[]\n",
        "# Calculamos la Y predicha de cada fila de la matriz\n",
        "for dato in X_test_1:\n",
        "    y_predicha.append(sigmoid(np.dot(dato, theta)))\n",
        "\n",
        "# Convertimos la lista a un array unidimensional\n",
        "y_predicha = np.array(y_predicha)\n",
        "\n",
        "#usando el umbral donde todo aquello que sea >= 0.5 sera 1, y si es menor sera 0\n",
        "y_umbral = (y_predicha >= 0.5).astype(int)\n",
        "\n",
        "print(y.shape)"
      ]
    },
    {
      "cell_type": "markdown",
      "metadata": {
        "id": "w5PnbHiWJVNk"
      },
      "source": [
        "Una vez entrenado el modelo se procede a realizar la prediccion y evaluación de los resultados de predecir cual es el valor que vota el modelo para todos los datos utilizados en el entrenamiento."
      ]
    },
    {
      "cell_type": "code",
      "execution_count": 156,
      "metadata": {
        "colab": {
          "base_uri": "https://localhost:8080/"
        },
        "id": "VcAxVqIWJVNk",
        "outputId": "0ef7f3b7-b5b9-40ac-822e-fc77f1b07770"
      },
      "outputs": [
        {
          "output_type": "stream",
          "name": "stdout",
          "text": [
            "Precisión de entrenamiento: 63.52 %\n"
          ]
        }
      ],
      "source": [
        "print('Precisión de entrenamiento: {:.2f} %'.format(np.mean(y_umbral == y_test[0]) * 100))"
      ]
    }
  ],
  "metadata": {
    "kernelspec": {
      "display_name": "Python 3",
      "language": "python",
      "name": "python3"
    },
    "language_info": {
      "codemirror_mode": {
        "name": "ipython",
        "version": 3
      },
      "file_extension": ".py",
      "mimetype": "text/x-python",
      "name": "python",
      "nbconvert_exporter": "python",
      "pygments_lexer": "ipython3",
      "version": "3.8.5"
    },
    "colab": {
      "provenance": []
    }
  },
  "nbformat": 4,
  "nbformat_minor": 0
}