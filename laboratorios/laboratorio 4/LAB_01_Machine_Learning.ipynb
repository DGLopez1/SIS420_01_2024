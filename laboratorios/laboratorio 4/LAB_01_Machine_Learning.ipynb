{
  "cells": [
    {
      "cell_type": "markdown",
      "metadata": {
        "id": "mybr11C-jhKq"
      },
      "source": [
        "# Laboratorio 1 Grupo 1\n",
        "\n",
        "- Nombre: Dimar Gabriel Lopez Chiri\n",
        "\n",
        "## Ejemplificación de uso de regresión lineal multivariable, polinómica y con la ecuación de la normal"
      ]
    },
    {
      "cell_type": "code",
      "execution_count": 261,
      "metadata": {
        "id": "mIM3MHD6oWwH"
      },
      "outputs": [],
      "source": [
        "#Librerías necesarias para el funcionamiento\n",
        "import os\n",
        "import numpy as np\n",
        "from matplotlib import pyplot\n",
        "from sklearn.model_selection import train_test_split\n",
        "from sklearn.linear_model import LinearRegression\n",
        "\n"
      ]
    },
    {
      "cell_type": "code",
      "execution_count": null,
      "metadata": {
        "colab": {
          "base_uri": "https://localhost:8080/"
        },
        "id": "MPCzp9YB95vt",
        "outputId": "216ced04-9790-4367-bf90-e78a80610019"
      },
      "outputs": [],
      "source": []
    },
    {
      "cell_type": "code",
      "execution_count": 262,
      "metadata": {
        "id": "8fqXopw1owNd"
      },
      "outputs": [],
      "source": [
        "# Leer datos por numpy\n",
        "data = np.genfromtxt('/home/dilpz/Documentos/SIS420-2024/datasets/part_leeds_energy_mix_V2_mult.csv', delimiter=',', usecols=(31, 36, 38, 44, 45, 50, 51), skip_header=1)\n",
        "X, y = data[:, :-1], data[:, -1]\n",
        "m = y.size\n",
        "\n",
        "import pandas as pd\n",
        "from sklearn.preprocessing import LabelEncoder\n",
        "from datetime import datetime\n"
      ]
    },
    {
      "cell_type": "code",
      "execution_count": 263,
      "metadata": {
        "colab": {
          "base_uri": "https://localhost:8080/"
        },
        "id": "7TMVg3eWrpUk",
        "outputId": "1bf58ba4-60e7-4fd3-fda5-cc906dd2e61f"
      },
      "outputs": [
        {
          "name": "stdout",
          "output_type": "stream",
          "text": [
            "Cantidad de NaN por columna después de llenar los datos faltantes:\n",
            "Longwave Radiation - Incoming_HOL     0\n",
            "Relative Humidity_HOL                 0\n",
            "Shortwave Radiation - Incoming_HOL    0\n",
            "Atmospheric Pressure_SPN              0\n",
            "Precipitation (Pluvio)_SPN            0\n",
            "Wind Direction_SPN                    0\n",
            "Air Temperature_SPN                   0\n",
            "dtype: int64\n",
            "<class 'pandas.core.frame.DataFrame'>\n",
            "RangeIndex: 20000 entries, 0 to 19999\n",
            "Data columns (total 7 columns):\n",
            " #   Column                              Non-Null Count  Dtype  \n",
            "---  ------                              --------------  -----  \n",
            " 0   Longwave Radiation - Incoming_HOL   20000 non-null  float64\n",
            " 1   Relative Humidity_HOL               20000 non-null  float64\n",
            " 2   Shortwave Radiation - Incoming_HOL  20000 non-null  float64\n",
            " 3   Atmospheric Pressure_SPN            20000 non-null  float64\n",
            " 4   Precipitation (Pluvio)_SPN          20000 non-null  float64\n",
            " 5   Wind Direction_SPN                  20000 non-null  float64\n",
            " 6   Air Temperature_SPN                 20000 non-null  float64\n",
            "dtypes: float64(7)\n",
            "memory usage: 1.1 MB\n"
          ]
        }
      ],
      "source": [
        "# Leer el archivo CSV por pandas y tomar 20000 datos\n",
        "data = pd.read_csv('/home/dilpz/Documentos/SIS420-2024/datasets/part_leeds_energy_mix_V2_mult.csv', usecols=[31, 36, 38, 44, 45, 50, 51], nrows=20000)\n",
        "\n",
        "# Mover la columna 'Air Temperature_SPN' a la posición final\n",
        "cols = data.columns.tolist()\n",
        "cols.append(cols.pop(cols.index('Air Temperature_SPN')))\n",
        "data = data[cols]\n",
        "\n",
        "# Calcular la moda de la columna 'Air Temperature_SPN'\n",
        "moda_temp = data['Air Temperature_SPN'].mode()[0]\n",
        "\n",
        "# Crear una copia del DataFrame original\n",
        "data_original = data.copy()\n",
        "# Reemplazar los valores extremadamente altos con la moda\n",
        "data.loc[data['Air Temperature_SPN'] >= 7000, 'Air Temperature_SPN'] = moda_temp\n",
        "\n",
        "# Calcular la media de las columnas específicas\n",
        "media_columnas = data.mean()\n",
        "\n",
        "# Llenar los datos faltantes en las columnas específicas con la media calculada\n",
        "data.fillna(media_columnas, inplace=True)\n",
        "\n",
        "# Verificar que ya no hay valores NaN en el DataFrame\n",
        "print(\"Cantidad de NaN por columna después de llenar los datos faltantes:\")\n",
        "print(data.isna().sum())\n",
        "\n",
        "data.info()\n"
      ]
    },
    {
      "cell_type": "code",
      "execution_count": 264,
      "metadata": {
        "colab": {
          "base_uri": "https://localhost:8080/"
        },
        "id": "5N3o_C-g8Cf8",
        "outputId": "8d8e1804-6d9f-4be8-b2c4-af08de77baba"
      },
      "outputs": [
        {
          "name": "stdout",
          "output_type": "stream",
          "text": [
            "Hay 204 valores mayores a 100 en la columna 'Air Temperature_SPN'.\n"
          ]
        }
      ],
      "source": [
        "# Verificar si hay valores mayores a 100 en la columna 'Air Temperature_SPN'\n",
        "valores_mayores_100 = (data['Air Temperature_SPN'] > 16).sum()\n",
        "\n",
        "# Mostrar el resultado\n",
        "if valores_mayores_100 > 0:\n",
        "    print(\"Hay\", valores_mayores_100, \"valores mayores a 100 en la columna 'Air Temperature_SPN'.\")\n",
        "else:\n",
        "    print(\"No hay valores mayores a 100 en la columna 'Air Temperature_SPN'.\")"
      ]
    },
    {
      "cell_type": "code",
      "execution_count": 265,
      "metadata": {
        "colab": {
          "base_uri": "https://localhost:8080/"
        },
        "id": "ZM27RFoseRhP",
        "outputId": "c0e07211-220a-4183-b7ee-189da95ebe2a"
      },
      "outputs": [
        {
          "name": "stdout",
          "output_type": "stream",
          "text": [
            "<class 'pandas.core.frame.DataFrame'>\n",
            "RangeIndex: 20000 entries, 0 to 19999\n",
            "Data columns (total 7 columns):\n",
            " #   Column                              Non-Null Count  Dtype  \n",
            "---  ------                              --------------  -----  \n",
            " 0   Longwave Radiation - Incoming_HOL   20000 non-null  float64\n",
            " 1   Relative Humidity_HOL               20000 non-null  float64\n",
            " 2   Shortwave Radiation - Incoming_HOL  20000 non-null  float64\n",
            " 3   Atmospheric Pressure_SPN            20000 non-null  float64\n",
            " 4   Precipitation (Pluvio)_SPN          20000 non-null  float64\n",
            " 5   Wind Direction_SPN                  20000 non-null  float64\n",
            " 6   Air Temperature_SPN                 20000 non-null  float64\n",
            "dtypes: float64(7)\n",
            "memory usage: 1.1 MB\n"
          ]
        }
      ],
      "source": [
        "data.info()"
      ]
    },
    {
      "cell_type": "code",
      "execution_count": 266,
      "metadata": {
        "id": "W5zsjhEX2D5n"
      },
      "outputs": [],
      "source": [
        "# Lectura de Datos\n",
        "X = data.iloc[:, :6]\n",
        "y = data.iloc[:, 6]\n",
        "m = y.size"
      ]
    },
    {
      "cell_type": "code",
      "execution_count": 267,
      "metadata": {
        "colab": {
          "base_uri": "https://localhost:8080/"
        },
        "id": "_axkGOzN10MJ",
        "outputId": "1c00518e-2689-4238-e200-bc4333ce587c"
      },
      "outputs": [
        {
          "name": "stdout",
          "output_type": "stream",
          "text": [
            "       Longwave Radiation - Incoming_HOL  Relative Humidity_HOL  \\\n",
            "0                                  368.1                  94.90   \n",
            "1                                  370.3                  95.30   \n",
            "2                                  371.7                  96.00   \n",
            "3                                  375.0                  96.40   \n",
            "4                                  373.2                  95.30   \n",
            "...                                  ...                    ...   \n",
            "19995                              309.1                  69.02   \n",
            "19996                              310.2                  69.33   \n",
            "19997                              311.8                  70.80   \n",
            "19998                              313.8                  71.82   \n",
            "19999                              313.7                  71.47   \n",
            "\n",
            "       Shortwave Radiation - Incoming_HOL  Atmospheric Pressure_SPN  \\\n",
            "0                                   54.76                  984.3832   \n",
            "1                                   33.92                  983.9634   \n",
            "2                                   93.10                  983.6172   \n",
            "3                                   83.90                  983.3093   \n",
            "4                                   35.55                  983.1702   \n",
            "...                                   ...                       ...   \n",
            "19995                              374.60                  993.3548   \n",
            "19996                              346.50                  992.6000   \n",
            "19997                              269.80                  991.8992   \n",
            "19998                              326.80                  991.2245   \n",
            "19999                              325.00                  990.4453   \n",
            "\n",
            "       Precipitation (Pluvio)_SPN  Wind Direction_SPN  \n",
            "0                            0.20           119.40396  \n",
            "1                            0.00           131.45196  \n",
            "2                            0.03           129.22797  \n",
            "3                            0.13           136.19848  \n",
            "4                            0.00           143.56286  \n",
            "...                           ...                 ...  \n",
            "19995                        0.00           100.04860  \n",
            "19996                        0.03            98.56874  \n",
            "19997                        0.00            96.65084  \n",
            "19998                        0.00            95.16299  \n",
            "19999                        0.00            91.95670  \n",
            "\n",
            "[20000 rows x 6 columns]\n",
            "0         9.70\n",
            "1        10.09\n",
            "2        10.55\n",
            "3        10.74\n",
            "4        10.89\n",
            "         ...  \n",
            "19995    14.59\n",
            "19996    14.67\n",
            "19997    14.70\n",
            "19998    14.47\n",
            "19999    14.19\n",
            "Name: Air Temperature_SPN, Length: 20000, dtype: float64\n"
          ]
        }
      ],
      "source": [
        "print(X)\n",
        "print(y)"
      ]
    },
    {
      "cell_type": "code",
      "execution_count": 268,
      "metadata": {
        "id": "FXDh9ijIo1tB"
      },
      "outputs": [],
      "source": [
        "def normalizarCaracteristicas(X):\n",
        "    X_norm = X.copy()\n",
        "    mu = np.zeros(X.shape[1])\n",
        "    sigma = np.zeros(X.shape[1])\n",
        "\n",
        "    mu = np.mean(X, axis = 0)\n",
        "    sigma = np.std(X, axis = 0)\n",
        "    X_norm = (X - mu) / sigma\n",
        "\n",
        "    return X_norm, mu, sigma"
      ]
    },
    {
      "cell_type": "code",
      "execution_count": 269,
      "metadata": {
        "colab": {
          "base_uri": "https://localhost:8080/"
        },
        "id": "mnAjjeSwpPnu",
        "outputId": "ec758343-6b88-43db-bfa1-a56e92c1ae60"
      },
      "outputs": [
        {
          "name": "stdout",
          "output_type": "stream",
          "text": [
            "       Longwave Radiation - Incoming_HOL  Relative Humidity_HOL  \\\n",
            "0                                  368.1                  94.90   \n",
            "1                                  370.3                  95.30   \n",
            "2                                  371.7                  96.00   \n",
            "3                                  375.0                  96.40   \n",
            "4                                  373.2                  95.30   \n",
            "...                                  ...                    ...   \n",
            "19995                              309.1                  69.02   \n",
            "19996                              310.2                  69.33   \n",
            "19997                              311.8                  70.80   \n",
            "19998                              313.8                  71.82   \n",
            "19999                              313.7                  71.47   \n",
            "\n",
            "       Shortwave Radiation - Incoming_HOL  Atmospheric Pressure_SPN  \\\n",
            "0                                   54.76                  984.3832   \n",
            "1                                   33.92                  983.9634   \n",
            "2                                   93.10                  983.6172   \n",
            "3                                   83.90                  983.3093   \n",
            "4                                   35.55                  983.1702   \n",
            "...                                   ...                       ...   \n",
            "19995                              374.60                  993.3548   \n",
            "19996                              346.50                  992.6000   \n",
            "19997                              269.80                  991.8992   \n",
            "19998                              326.80                  991.2245   \n",
            "19999                              325.00                  990.4453   \n",
            "\n",
            "       Precipitation (Pluvio)_SPN  Wind Direction_SPN  \n",
            "0                            0.20           119.40396  \n",
            "1                            0.00           131.45196  \n",
            "2                            0.03           129.22797  \n",
            "3                            0.13           136.19848  \n",
            "4                            0.00           143.56286  \n",
            "...                           ...                 ...  \n",
            "19995                        0.00           100.04860  \n",
            "19996                        0.03            98.56874  \n",
            "19997                        0.00            96.65084  \n",
            "19998                        0.00            95.16299  \n",
            "19999                        0.00            91.95670  \n",
            "\n",
            "[20000 rows x 6 columns]\n",
            "Media calculada: Longwave Radiation - Incoming_HOL     336.673245\n",
            "Relative Humidity_HOL                  91.711033\n",
            "Shortwave Radiation - Incoming_HOL     45.824373\n",
            "Atmospheric Pressure_SPN              992.303827\n",
            "Precipitation (Pluvio)_SPN              0.107622\n",
            "Wind Direction_SPN                    157.587420\n",
            "dtype: float64\n",
            "Desviación estandar calculada: Longwave Radiation - Incoming_HOL      35.037170\n",
            "Relative Humidity_HOL                   9.911118\n",
            "Shortwave Radiation - Incoming_HOL     88.753906\n",
            "Atmospheric Pressure_SPN               12.364232\n",
            "Precipitation (Pluvio)_SPN              0.325800\n",
            "Wind Direction_SPN                    103.823253\n",
            "dtype: float64\n",
            "       Longwave Radiation - Incoming_HOL  Relative Humidity_HOL  \\\n",
            "0                               0.896955               0.321757   \n",
            "1                               0.959745               0.362115   \n",
            "2                               0.999703               0.432743   \n",
            "3                               1.093888               0.473102   \n",
            "4                               1.042514               0.362115   \n",
            "...                                  ...                    ...   \n",
            "19995                          -0.786971              -2.289452   \n",
            "19996                          -0.755576              -2.258174   \n",
            "19997                          -0.709910              -2.109856   \n",
            "19998                          -0.652828              -2.006941   \n",
            "19999                          -0.655682              -2.042255   \n",
            "\n",
            "       Shortwave Radiation - Incoming_HOL  Atmospheric Pressure_SPN  \\\n",
            "0                                0.100679                 -0.640608   \n",
            "1                               -0.134128                 -0.674561   \n",
            "2                                0.532660                 -0.702561   \n",
            "3                                0.429002                 -0.727463   \n",
            "4                               -0.115762                 -0.738714   \n",
            "...                                   ...                       ...   \n",
            "19995                            3.704351                  0.085001   \n",
            "19996                            3.387745                  0.023954   \n",
            "19997                            2.523558                 -0.032726   \n",
            "19998                            3.165783                 -0.087294   \n",
            "19999                            3.145502                 -0.150315   \n",
            "\n",
            "       Precipitation (Pluvio)_SPN  Wind Direction_SPN  \n",
            "0                        0.283543           -0.367774  \n",
            "1                       -0.330330           -0.251730  \n",
            "2                       -0.238249           -0.273151  \n",
            "3                        0.068687           -0.206013  \n",
            "4                       -0.330330           -0.135081  \n",
            "...                           ...                 ...  \n",
            "19995                   -0.330330           -0.554200  \n",
            "19996                   -0.238249           -0.568453  \n",
            "19997                   -0.330330           -0.586926  \n",
            "19998                   -0.330330           -0.601257  \n",
            "19999                   -0.330330           -0.632139  \n",
            "\n",
            "[20000 rows x 6 columns]\n"
          ]
        }
      ],
      "source": [
        "# llama featureNormalize con los datos cargados\n",
        "X_norm, mu, sigma = normalizarCaracteristicas(X)\n",
        "\n",
        "print(X)\n",
        "print('Media calculada:', mu)\n",
        "print('Desviación estandar calculada:', sigma)\n",
        "print(X_norm)"
      ]
    },
    {
      "cell_type": "code",
      "execution_count": 270,
      "metadata": {
        "colab": {
          "base_uri": "https://localhost:8080/"
        },
        "id": "Dh-iI6OTqU6-",
        "outputId": "3515964a-3d62-4be6-cd6b-4784109fe1e0"
      },
      "outputs": [
        {
          "name": "stdout",
          "output_type": "stream",
          "text": [
            "<class 'pandas.core.frame.DataFrame'>\n",
            "RangeIndex: 20000 entries, 0 to 19999\n",
            "Data columns (total 6 columns):\n",
            " #   Column                              Non-Null Count  Dtype  \n",
            "---  ------                              --------------  -----  \n",
            " 0   Longwave Radiation - Incoming_HOL   20000 non-null  float64\n",
            " 1   Relative Humidity_HOL               20000 non-null  float64\n",
            " 2   Shortwave Radiation - Incoming_HOL  20000 non-null  float64\n",
            " 3   Atmospheric Pressure_SPN            20000 non-null  float64\n",
            " 4   Precipitation (Pluvio)_SPN          20000 non-null  float64\n",
            " 5   Wind Direction_SPN                  20000 non-null  float64\n",
            "dtypes: float64(6)\n",
            "memory usage: 937.6 KB\n"
          ]
        }
      ],
      "source": [
        "def graficarDatos(x, y, xlabel, ylabel):\n",
        "  fig = pyplot.figure()\n",
        "  pyplot.plot(x, y, 'ro')\n",
        "  pyplot.xlabel(xlabel)\n",
        "  pyplot.ylabel(ylabel)\n",
        "\n",
        "X_norm.info()\n"
      ]
    },
    {
      "cell_type": "code",
      "execution_count": 271,
      "metadata": {
        "colab": {
          "base_uri": "https://localhost:8080/",
          "height": 1000
        },
        "id": "XFuj2xYOq8Rk",
        "outputId": "edf59926-5d41-4adb-a923-0132737d13f7"
      },
      "outputs": [
        {
          "data": {
            "image/png": "[encoded data removed]",
            "text/plain": [
              "<Figure size 432x288 with 1 Axes>"
            ]
          },
          "metadata": {
            "needs_background": "light"
          },
          "output_type": "display_data"
        },
        {
          "data": {
            "image/png": "[encoded data removed]",
            "text/plain": [
              "<Figure size 432x288 with 1 Axes>"
            ]
          },
          "metadata": {
            "needs_background": "light"
          },
          "output_type": "display_data"
        },
        {
          "data": {
            "image/png": "[encoded data removed]",
            "text/plain": [
              "<Figure size 432x288 with 1 Axes>"
            ]
          },
          "metadata": {
            "needs_background": "light"
          },
          "output_type": "display_data"
        },
        {
          "data": {
            "image/png": "[encoded data removed]",
            "text/plain": [
              "<Figure size 432x288 with 1 Axes>"
            ]
          },
          "metadata": {
            "needs_background": "light"
          },
          "output_type": "display_data"
        },
        {
          "data": {
            "image/png": "[encoded data removed]",
            "text/plain": [
              "<Figure size 432x288 with 1 Axes>"
            ]
          },
          "metadata": {
            "needs_background": "light"
          },
          "output_type": "display_data"
        },
        {
          "data": {
            "image/png": "[encoded data removed]",
            "text/plain": [
              "<Figure size 432x288 with 1 Axes>"
            ]
          },
          "metadata": {
            "needs_background": "light"
          },
          "output_type": "display_data"
        }
      ],
      "source": [
        "xlabel1 = \"Longwave Radiation - Incoming_HOL\"\n",
        "xlabel2 = \"Relative Humidity_HOL\"\n",
        "xlabel3 = \"Shortwave Radiation - Incoming_HOL\"\n",
        "xlabel4 = \"Atmospheric Pressure_SPN\"\n",
        "xlabel5 = \"Precipitation (Pluvio)_SPN\"\n",
        "xlabel6 = \"Wind Direction_SPN\"\n",
        "ylabel1 = \"Air Temperature_SPN\"\n",
        "\n",
        "# Graficar\n",
        "graficarDatos(X_norm[xlabel1], y, xlabel1, ylabel1)\n",
        "graficarDatos(X_norm[xlabel2], y, xlabel2, ylabel1)\n",
        "graficarDatos(X_norm[xlabel3], y, xlabel3, xlabel1)\n",
        "graficarDatos(X_norm[xlabel4], y, xlabel4, ylabel1)\n",
        "graficarDatos(X_norm[xlabel5], y, xlabel5, ylabel1)\n",
        "graficarDatos(X_norm[xlabel6], y, xlabel6, ylabel1)\n"
      ]
    },
    {
      "cell_type": "code",
      "execution_count": 272,
      "metadata": {
        "id": "jkVjRskgrJd2"
      },
      "outputs": [],
      "source": [
        "# No olvidarse agregar unos a la matriz de x\n",
        "#munos = np.ones([m, 1]).unsqueese\n",
        "# Añade el termino de interseccion a X\n",
        "# (Columna de unos para X0)\n",
        "X = np.concatenate([np.ones((m, 1)), X_norm], axis=1)"
      ]
    },
    {
      "cell_type": "code",
      "execution_count": 273,
      "metadata": {
        "colab": {
          "base_uri": "https://localhost:8080/"
        },
        "id": "043gFEH4F3_S",
        "outputId": "7b494a78-d1a5-40f5-883a-094e95d927af"
      },
      "outputs": [
        {
          "name": "stdout",
          "output_type": "stream",
          "text": [
            "[[ 1.          0.8969547   0.32175656 ... -0.64060809  0.28354281\n",
            "  -0.36777368]\n",
            " [ 1.          0.95974516  0.36211527 ... -0.67456087 -0.33033021\n",
            "  -0.25173032]\n",
            " [ 1.          0.99970273  0.43274303 ... -0.70256099 -0.23824926\n",
            "  -0.27315124]\n",
            " ...\n",
            " [ 1.         -0.70991021 -2.10985611 ... -0.03272563 -0.33033021\n",
            "  -0.58692613]\n",
            " [ 1.         -0.65282798 -2.00694138 ... -0.08729432 -0.33033021\n",
            "  -0.60125674]\n",
            " [ 1.         -0.65568209 -2.04225526 ... -0.15031482 -0.33033021\n",
            "  -0.63213893]]\n"
          ]
        }
      ],
      "source": [
        "print(X)"
      ]
    },
    {
      "cell_type": "code",
      "execution_count": 274,
      "metadata": {
        "id": "iDWldqUVwYwK"
      },
      "outputs": [],
      "source": [
        "# Costo y Decenso por el gradiente normal\n",
        "\n",
        "def computeCostMulti(X, y, theta):\n",
        "    # Inicializa algunos valores utiles\n",
        "    m = y.shape[0] # numero de ejemplos de entrenamiento\n",
        "\n",
        "    J = 0\n",
        "\n",
        "    h = np.dot(X, theta)\n",
        "\n",
        "    J = (1/(2 * m)) * np.sum(np.square(np.dot(X, theta) - y))\n",
        "\n",
        "    return J\n",
        "\n",
        "def gradientDescentMulti(X, y, theta, alpha, num_iters):\n",
        "\n",
        "    # Inicializa algunos valores\n",
        "    m = y.shape[0] # numero de ejemplos de entrenamiento\n",
        "\n",
        "    # realiza una copia de theta, el cual será acutalizada por el descenso por el gradiente\n",
        "    theta = theta.copy()\n",
        "\n",
        "    J_history = []\n",
        "\n",
        "    for i in range(num_iters):\n",
        "        theta = theta - (alpha / m) * (np.dot(X, theta) - y).dot(X)\n",
        "        J_history.append(computeCostMulti(X, y, theta))\n",
        "\n",
        "    return theta, J_history"
      ]
    },
    {
      "cell_type": "code",
      "execution_count": 275,
      "metadata": {},
      "outputs": [],
      "source": [
        "# Costo y Decenso por el gradiente con regularización\n",
        "def computeCostMultiWithReg(X, y, theta, lambda_):\n",
        "    # Inicializa algunos valores utiles\n",
        "    m = y.shape[0] # numero de ejemplos de entrenamiento\n",
        "\n",
        "    J = 0\n",
        "\n",
        "    h = np.dot(X, theta)\n",
        "\n",
        "    J = (1/(2 * m)) * (np.sum(np.square(h - y)) + lambda_ * np.sum(np.square(theta)))\n",
        "\n",
        "    return J\n",
        "\n",
        "def gradientDescentMultiWithReg(X, y, theta, alpha, num_iters, lambda_):\n",
        "\n",
        "    # Inicializa algunos valores\n",
        "    m = y.shape[0] # numero de ejemplos de entrenamiento\n",
        "\n",
        "    # realiza una copia de theta, el cual será acutalizada por el descenso por el gradiente\n",
        "    theta = theta.copy()\n",
        "\n",
        "    J_history = []\n",
        "\n",
        "    for i in range(num_iters):\n",
        "        theta = theta - (alpha / m) * ((np.dot(X, theta) - y).dot(X) + lambda_ * theta)\n",
        "        J_history.append(computeCostMultiWithReg(X, y, theta, lambda_))\n",
        "\n",
        "    return theta, J_history"
      ]
    },
    {
      "cell_type": "code",
      "execution_count": 276,
      "metadata": {
        "colab": {
          "base_uri": "https://localhost:8080/",
          "height": 502
        },
        "id": "ymTwiKnBzVk1",
        "outputId": "38998396-731c-48d0-b336-51064640ce25"
      },
      "outputs": [
        {
          "name": "stdout",
          "output_type": "stream",
          "text": [
            "theta calculado por el descenso por el gradiente: [ 8.83085437e+00  9.45383219e-01 -1.26378194e+00  4.52108657e-01\n",
            " -1.28679662e+00  1.27112869e-01 -3.55704878e-04]\n",
            "10.178212969258889\n"
          ]
        },
        {
          "data": {
            "image/png": "[encoded data removed]",
            "text/plain": [
              "<Figure size 432x288 with 1 Axes>"
            ]
          },
          "metadata": {
            "needs_background": "light"
          },
          "output_type": "display_data"
        }
      ],
      "source": [
        "# Elegir algun valor para alpha (probar varias alternativas)\n",
        "alpha = 0.001\n",
        "num_iters = 5000\n",
        "lambda_ = 1000\n",
        "# inicializa theta y ejecuta el descenso por el gradiente\n",
        "theta = np.zeros(7)\n",
        "\n",
        "#theta, J_history = gradientDescentMulti(X, y, theta, alpha, num_iters)\n",
        "theta, J_history = gradientDescentMultiWithReg(X, y, theta, alpha, num_iters, lambda_)\n",
        "\n",
        "# Grafica la convergencia del costo\n",
        "pyplot.plot(np.arange(len(J_history)), J_history, lw=2)\n",
        "pyplot.xlabel('Numero de iteraciones')\n",
        "pyplot.ylabel('Costo J')\n",
        "\n",
        "# Muestra los resultados del descenso por el gradiente\n",
        "print('theta calculado por el descenso por el gradiente: {:s}'.format(str(theta)))\n",
        "\n",
        "X_array = [1, 368.1,94.90,54.76,984.3832,0.20,119.40396]\n",
        "X_array[1:7] = (X_array[1:7] - mu) / sigma\n",
        "\n",
        "price = np.dot(X_array, theta)\n",
        "print(format(price))"
      ]
    },
    {
      "cell_type": "code",
      "execution_count": 277,
      "metadata": {},
      "outputs": [
        {
          "name": "stdout",
          "output_type": "stream",
          "text": [
            "10.343749506598138\n"
          ]
        }
      ],
      "source": [
        "# EJEMPLO de predicción\n",
        "X_array = np.array([1,371.7, 96.00, 93.10, 983.6172, 0.03, 129.22797])\n",
        "\n",
        "\n",
        "X_array[1:7] = (X_array[1:7] - mu) / sigma\n",
        "price = np.dot(X_array, theta)\n",
        "print(format(price))"
      ]
    },
    {
      "cell_type": "code",
      "execution_count": 278,
      "metadata": {
        "id": "gVBomWT6t24x"
      },
      "outputs": [],
      "source": [
        "#Utilizando la ecuacion de la normal , se declara otra vez X porque la anterior esta normalizada\n",
        "X = data.iloc[:, :6]\n",
        "X = np.concatenate([np.ones((m, 1)), X], axis=1)"
      ]
    },
    {
      "cell_type": "code",
      "execution_count": 279,
      "metadata": {
        "id": "7j8PZdaMo1tF"
      },
      "outputs": [],
      "source": [
        "#Ecucacion de la normal\n",
        "# def normalEqn(X, y):\n",
        "\n",
        "#     theta = np.zeros(X.shape[1])\n",
        "\n",
        "#     theta = np.dot(np.dot(np.linalg.inv(np.dot(X.T,X)),X.T),y)\n",
        "\n",
        "#     return theta\n",
        "\n",
        "#Ecuacion de la normal con regularizacion\n",
        "def normalEqn(X, y, lambda_):\n",
        "    m, n = X.shape\n",
        "    I = np.eye((n))\n",
        "    theta = np.zeros(n)\n",
        "\n",
        "    theta = np.dot(np.dot(np.linalg.inv(np.dot(X.T, X) + lambda_ * I), X.T), y)\n",
        "\n",
        "    return theta"
      ]
    },
    {
      "cell_type": "code",
      "execution_count": 280,
      "metadata": {
        "colab": {
          "base_uri": "https://localhost:8080/"
        },
        "id": "2h7TGLI9t6RL",
        "outputId": "2db2912d-44af-4aa4-e5ad-3db72bbd7f28"
      },
      "outputs": [
        {
          "name": "stdout",
          "output_type": "stream",
          "text": [
            "Theta calculado a partir de la ecuación de la normal: [ 0.10859633  0.07260536 -0.19753803 -0.00083656  0.00272476  0.31731712\n",
            "  0.00114019]\n",
            "10.924274019158702\n"
          ]
        }
      ],
      "source": [
        "# Calcula los parametros con la ecuación de la normal regularizada\n",
        "lambda_ = 1000\n",
        "theta = normalEqn(X, y , lambda_);\n",
        "\n",
        "# Muestra los resultados optenidos a partir de la aplicación de la ecuación de la normal\n",
        "print('Theta calculado a partir de la ecuación de la normal: {:s}'.format(str(theta)));\n",
        "\n",
        "# Estimar el precio para una casa de superficie de 1650 sq-ft y tres dormitorios\n",
        "\n",
        "X_array = [1, 368.1,94.90,54.76,984.3832,0.20,119.40396]\n",
        "price = np.dot(X_array, theta)\n",
        "\n",
        "print(format(price))"
      ]
    },
    {
      "cell_type": "markdown",
      "metadata": {
        "id": "q86noqdhKkum"
      },
      "source": [
        "# Programación de Regresión Polinomial\n"
      ]
    },
    {
      "cell_type": "code",
      "execution_count": 281,
      "metadata": {
        "colab": {
          "base_uri": "https://localhost:8080/"
        },
        "id": "kU3PKHiHKqt6",
        "outputId": "457e8e85-04e2-4d6e-9115-ae3d74c415c7"
      },
      "outputs": [
        {
          "name": "stdout",
          "output_type": "stream",
          "text": [
            "       Longwave Radiation - Incoming_HOL  Relative Humidity_HOL  \\\n",
            "0                                  368.1                  94.90   \n",
            "1                                  370.3                  95.30   \n",
            "2                                  371.7                  96.00   \n",
            "3                                  375.0                  96.40   \n",
            "4                                  373.2                  95.30   \n",
            "...                                  ...                    ...   \n",
            "19995                              309.1                  69.02   \n",
            "19996                              310.2                  69.33   \n",
            "19997                              311.8                  70.80   \n",
            "19998                              313.8                  71.82   \n",
            "19999                              313.7                  71.47   \n",
            "\n",
            "       Shortwave Radiation - Incoming_HOL  Atmospheric Pressure_SPN  \\\n",
            "0                                   54.76                  984.3832   \n",
            "1                                   33.92                  983.9634   \n",
            "2                                   93.10                  983.6172   \n",
            "3                                   83.90                  983.3093   \n",
            "4                                   35.55                  983.1702   \n",
            "...                                   ...                       ...   \n",
            "19995                              374.60                  993.3548   \n",
            "19996                              346.50                  992.6000   \n",
            "19997                              269.80                  991.8992   \n",
            "19998                              326.80                  991.2245   \n",
            "19999                              325.00                  990.4453   \n",
            "\n",
            "       Precipitation (Pluvio)_SPN  Wind Direction_SPN  \n",
            "0                            0.20           119.40396  \n",
            "1                            0.00           131.45196  \n",
            "2                            0.03           129.22797  \n",
            "3                            0.13           136.19848  \n",
            "4                            0.00           143.56286  \n",
            "...                           ...                 ...  \n",
            "19995                        0.00           100.04860  \n",
            "19996                        0.03            98.56874  \n",
            "19997                        0.00            96.65084  \n",
            "19998                        0.00            95.16299  \n",
            "19999                        0.00            91.95670  \n",
            "\n",
            "[20000 rows x 6 columns]\n"
          ]
        }
      ],
      "source": [
        "# Lectura de Datos\n",
        "X = data.iloc[:, :6]\n",
        "y = data.iloc[:, 6]\n",
        "m = y.size\n",
        "print(X)"
      ]
    },
    {
      "cell_type": "code",
      "execution_count": 282,
      "metadata": {
        "id": "liKy_AE3faf1"
      },
      "outputs": [],
      "source": [
        "\n",
        "X = np.concatenate([X, X * X], axis=1)"
      ]
    },
    {
      "cell_type": "code",
      "execution_count": 283,
      "metadata": {
        "id": "QEflQseGNIw3"
      },
      "outputs": [],
      "source": [
        "def  featureNormalize(X):\n",
        "    X_norm = X.copy()\n",
        "    mu = np.zeros(X.shape[1])\n",
        "    sigma = np.zeros(X.shape[1])\n",
        "\n",
        "    mu = np.mean(X, axis = 0)\n",
        "    sigma = np.std(X, axis = 0)\n",
        "    X_norm = (X - mu) / sigma\n",
        "\n",
        "    return X_norm, mu, sigma\n",
        "\n",
        "X_norm, mu, sigma = featureNormalize(X)"
      ]
    },
    {
      "cell_type": "code",
      "execution_count": 284,
      "metadata": {
        "colab": {
          "base_uri": "https://localhost:8080/"
        },
        "id": "RD0QgvHENhWG",
        "outputId": "afa49f96-af3c-4fa3-96e2-749e568da5ef"
      },
      "outputs": [
        {
          "name": "stdout",
          "output_type": "stream",
          "text": [
            "[[ 1.          0.8969547   0.32175656 ... -0.64175321 -0.07855244\n",
            "  -0.57225089]\n",
            " [ 1.          0.95974516  0.36211527 ... -0.67529565 -0.11897659\n",
            "  -0.49126473]\n",
            " [ 1.          0.99970273  0.43274303 ... -0.70294661 -0.11806704\n",
            "  -0.50679975]\n",
            " ...\n",
            " [ 1.         -0.70991021 -2.10985611 ... -0.03879618 -0.11897659\n",
            "  -0.70397837]\n",
            " [ 1.         -0.65282798 -2.00694138 ... -0.0931101  -0.11897659\n",
            "  -0.71162571]\n",
            " [ 1.         -0.65568209 -2.04225526 ... -0.15579036 -0.11897659\n",
            "  -0.7277023 ]]\n"
          ]
        }
      ],
      "source": [
        "X = np.concatenate([np.ones((m, 1)), X_norm], axis=1)\n",
        "print(X)"
      ]
    },
    {
      "cell_type": "code",
      "execution_count": 285,
      "metadata": {
        "id": "gmdpZZXyfi5X"
      },
      "outputs": [],
      "source": [
        "def computeCostMulti(X, y, theta):\n",
        "    # Inicializa algunos valores utiles\n",
        "    m = y.shape[0] # numero de ejemplos de entrenamiento\n",
        "\n",
        "    J = 0\n",
        "\n",
        "    h = np.dot(X, theta)\n",
        "\n",
        "    J = (1/(2 * m)) * np.sum(np.square(np.dot(X, theta) - y))\n",
        "\n",
        "    return J\n",
        "\n",
        "def gradientDescentMulti(X, y, theta, alpha, num_iters):\n",
        "\n",
        "    # Inicializa algunos valores\n",
        "    m = y.shape[0] # numero de ejemplos de entrenamiento\n",
        "\n",
        "    # realiza una copia de theta, el cual será acutalizada por el descenso por el gradiente\n",
        "    theta = theta.copy()\n",
        "\n",
        "    J_history = []\n",
        "\n",
        "    for i in range(num_iters):\n",
        "        theta = theta - (alpha / m) * (np.dot(X, theta) - y).dot(X)\n",
        "        J_history.append(computeCostMulti(X, y, theta))\n",
        "\n",
        "    return theta, J_history\n"
      ]
    },
    {
      "cell_type": "code",
      "execution_count": 286,
      "metadata": {
        "colab": {
          "base_uri": "https://localhost:8080/",
          "height": 520
        },
        "id": "lFyepbOoftSL",
        "outputId": "bbf6ccec-f5de-42fb-9403-fe9ff2944863"
      },
      "outputs": [
        {
          "name": "stdout",
          "output_type": "stream",
          "text": [
            "theta calculado por el descenso por el gradiente: [ 8.83085437  0.57379948 -0.79187829  0.24780039 -0.6873812   0.01861638\n",
            "  0.18080665  0.5823523  -0.86079459  0.01667909 -0.68747021  0.10094797\n",
            " -0.16433786]\n",
            "10.301762938436926\n"
          ]
        },
        {
          "data": {
            "image/png": "[encoded data removed]",
            "text/plain": [
              "<Figure size 432x288 with 1 Axes>"
            ]
          },
          "metadata": {
            "needs_background": "light"
          },
          "output_type": "display_data"
        }
      ],
      "source": [
        "# Elegir algun valor para alpha (probar varias alternativas)\n",
        "alpha = 0.001\n",
        "num_iters = 5000\n",
        "lambda_ = 1000\n",
        "# inicializa theta y ejecuta el descenso por el gradiente\n",
        "theta = np.zeros(13)\n",
        "theta, J_history = gradientDescentMultiWithReg(X, y, theta, alpha, num_iters , lambda_)\n",
        "\n",
        "# Grafica la convergencia del costo\n",
        "pyplot.plot(np.arange(len(J_history)), J_history, lw=2)\n",
        "pyplot.xlabel('Numero de iteraciones')\n",
        "pyplot.ylabel('Costo J')\n",
        "\n",
        "# Muestra los resultados del descenso por el gradiente\n",
        "print('theta calculado por el descenso por el gradiente: {:s}'.format(str(theta)))\n",
        "\n",
        "X_array = np.array([1, 368.1, 94.90, 54.76, 984.3832, 0.20, 119.40396])\n",
        "\n",
        "# Elevar al cuadrado los elementos del array original\n",
        "X_squared = np.square(X_array[1:])\n",
        "\n",
        "# Concatenar los elementos originales y los elementos elevados al cuadrado\n",
        "X_array = np.concatenate((X_array, X_squared))\n",
        "X_array[1:13] = (X_array[1:13] - mu) / sigma\n",
        "price = np.dot(X_array, theta)\n",
        "\n",
        "print(format(price))"
      ]
    },
    {
      "cell_type": "markdown",
      "metadata": {
        "id": "GQMIq-mHhHtY"
      },
      "source": [
        "# Uso de distintos datos para ejemplificar el uso de este método\n",
        "\n",
        "Longwave Radiation - Incoming_HOL: Esta columna representa la radiación de onda larga entrante (en vatios por metro cuadrado) medida en el tope de la atmósfera. La radiación de onda larga es emitida por la superficie de la Tierra y los gases en la atmósfera en respuesta a la radiación solar incidente.\n",
        "\n",
        "Relative Humidity_HOL: Esta columna representa la humedad relativa (en porcentaje) medida en el tope de la atmósfera. La humedad relativa es la relación entre la cantidad de vapor de agua presente en el aire y la cantidad máxima que podría contener a una temperatura dada.\n",
        "\n",
        "Shortwave Radiation - Incoming_HOL: Esta columna representa la radiación de onda corta entrante (en vatios por metro cuadrado) medida en el tope de la atmósfera. La radiación de onda corta es la energía solar que llega a la Tierra desde el sol.\n",
        "\n",
        "Atmospheric Pressure_SPN: Esta columna representa la presión atmosférica (en hectopascales) medida en un lugar específico.\n",
        "\n",
        "Precipitation (Pluvio)_SPN: Esta columna representa la precipitación (en milímetros) medida en un lugar específico. La precipitación puede incluir lluvia, nieve, granizo, etc.\n",
        "\n",
        "Wind Direction_SPN: Esta columna representa la dirección del viento (en grados) medida en un lugar específico."
      ]
    },
    {
      "cell_type": "code",
      "execution_count": 297,
      "metadata": {
        "colab": {
          "base_uri": "https://localhost:8080/"
        },
        "id": "UZMACczWg7m7",
        "outputId": "237ae9af-9919-4fb5-8446-6fb06997497b"
      },
      "outputs": [
        {
          "name": "stdout",
          "output_type": "stream",
          "text": [
            "10.323220489754988\n"
          ]
        }
      ],
      "source": [
        "# Uso de distintos datos para ejemplificar el uso de este método\n",
        "X_array = np.array([1, 371.3, 95.30, 33.92, 983.9634, 0.00, 131.45196])\n",
        "\n",
        "# Elevar al cuadrado los elementos del array original\n",
        "X_squared = np.square(X_array[1:])\n",
        "\n",
        "# Concatenar los elementos originales y los elementos elevados al cuadrado\n",
        "X_array = np.concatenate((X_array, X_squared))\n",
        "X_array[1:13] = (X_array[1:13] - mu) / sigma\n",
        "price = np.dot(X_array, theta)\n",
        "print(format(price))"
      ]
    },
    {
      "cell_type": "code",
      "execution_count": 288,
      "metadata": {
        "colab": {
          "base_uri": "https://localhost:8080/"
        },
        "id": "9w9vIXQbiFrA",
        "outputId": "7ead1cc9-6833-4a35-b546-7162a0ebc9d4"
      },
      "outputs": [
        {
          "name": "stdout",
          "output_type": "stream",
          "text": [
            "10.419158125848485\n"
          ]
        }
      ],
      "source": [
        "X_array = np.array([1,371.7, 96.00, 93.10, 983.6172, 0.03, 129.22797])\n",
        "\n",
        "# Elevar al cuadrado los elementos del array original\n",
        "X_squared = np.square(X_array[1:])\n",
        "\n",
        "# Concatenar los elementos originales y los elementos elevados al cuadrado\n",
        "X_array = np.concatenate((X_array, X_squared))\n",
        "X_array[1:13] = (X_array[1:13] - mu) / sigma\n",
        "price = np.dot(X_array, theta)\n",
        "print(format(price))\n"
      ]
    },
    {
      "cell_type": "code",
      "execution_count": 289,
      "metadata": {
        "colab": {
          "base_uri": "https://localhost:8080/"
        },
        "id": "0DsQM4XViV3I",
        "outputId": "c8eeee31-b592-4ca2-91a1-d20a06b0bf9b"
      },
      "outputs": [
        {
          "name": "stdout",
          "output_type": "stream",
          "text": [
            "10.50332845253232\n"
          ]
        }
      ],
      "source": [
        "X_array = np.array([1, 375.0, 96.40, 83.90, 983.3093, 0.32, 136.19848])\n",
        "\n",
        "# Elevar al cuadrado los elementos del array original\n",
        "X_squared = np.square(X_array[1:])\n",
        "\n",
        "# Concatenar los elementos originales y los elementos elevados al cuadrado\n",
        "X_array = np.concatenate((X_array, X_squared))\n",
        "X_array[1:13] = (X_array[1:13] - mu) / sigma\n",
        "price = np.dot(X_array, theta)\n",
        "print(format(price))\n"
      ]
    },
    {
      "cell_type": "code",
      "execution_count": 290,
      "metadata": {
        "colab": {
          "base_uri": "https://localhost:8080/"
        },
        "id": "H5GOQfFEij1j",
        "outputId": "504ffbec-e62d-4b98-a112-7a2806e95e7e"
      },
      "outputs": [
        {
          "name": "stdout",
          "output_type": "stream",
          "text": [
            "10.489804126160749\n"
          ]
        }
      ],
      "source": [
        "X_array = np.array([1, 373.2, 95.30, 35.55, 983.1702, 0.00, 143.56286])\n",
        "\n",
        "# Elevar al cuadrado los elementos del array original\n",
        "X_squared = np.square(X_array[1:])\n",
        "\n",
        "# Concatenar los elementos originales y los elementos elevados al cuadrado\n",
        "X_array = np.concatenate((X_array, X_squared))\n",
        "X_array[1:13] = (X_array[1:13] - mu) / sigma\n",
        "price = np.dot(X_array, theta)\n",
        "print(format(price))\n"
      ]
    },
    {
      "cell_type": "code",
      "execution_count": 291,
      "metadata": {
        "colab": {
          "base_uri": "https://localhost:8080/"
        },
        "id": "0dhINqtOiyEu",
        "outputId": "6e32b0e0-61b3-4769-833c-43b052a3cb82"
      },
      "outputs": [
        {
          "name": "stdout",
          "output_type": "stream",
          "text": [
            "12.531526106879879\n"
          ]
        }
      ],
      "source": [
        "X_array = np.array([1, 309.1, 69.02, 374.60, 993.3548, 0.00, 100.04860])\n",
        "\n",
        "# Elevar al cuadrado los elementos del array original\n",
        "X_squared = np.square(X_array[1:])\n",
        "\n",
        "# Concatenar los elementos originales y los elementos elevados al cuadrado\n",
        "X_array = np.concatenate((X_array, X_squared))\n",
        "X_array[1:13] = (X_array[1:13] - mu) / sigma\n",
        "price = np.dot(X_array, theta)\n",
        "print(format(price))\n",
        "\n"
      ]
    },
    {
      "cell_type": "code",
      "execution_count": 292,
      "metadata": {
        "colab": {
          "base_uri": "https://localhost:8080/"
        },
        "id": "Ja2FX9l5i9qb",
        "outputId": "ed756ca3-5348-4e46-f850-53882d32bfbf"
      },
      "outputs": [
        {
          "name": "stdout",
          "output_type": "stream",
          "text": [
            "12.515269469097856\n"
          ]
        }
      ],
      "source": [
        "X_array = np.array([1,  310.2, 69.33, 346.50, 992.6000, 0.03, 98.56874])\n",
        "\n",
        "# Elevar al cuadrado los elementos del array original\n",
        "X_squared = np.square(X_array[1:])\n",
        "\n",
        "# Concatenar los elementos originales y los elementos elevados al cuadrado\n",
        "X_array = np.concatenate((X_array, X_squared))\n",
        "X_array[1:13] = (X_array[1:13] - mu) / sigma\n",
        "price = np.dot(X_array, theta)\n",
        "print(format(price))"
      ]
    },
    {
      "cell_type": "code",
      "execution_count": 293,
      "metadata": {
        "colab": {
          "base_uri": "https://localhost:8080/"
        },
        "id": "WEEqqnQCjX94",
        "outputId": "8c6e41eb-7329-41d4-a874-7662acb2902a"
      },
      "outputs": [
        {
          "name": "stdout",
          "output_type": "stream",
          "text": [
            "12.177233902601104\n"
          ]
        }
      ],
      "source": [
        "\n",
        "X_array = np.array([1, 311.8, 70.80, 269.80, 991.8992, 0.00, 96.65084])\n",
        "\n",
        "# Elevar al cuadrado los elementos del array original\n",
        "X_squared = np.square(X_array[1:])\n",
        "\n",
        "# Concatenar los elementos originales y los elementos elevados al cuadrado\n",
        "X_array = np.concatenate((X_array, X_squared))\n",
        "X_array[1:13] = (X_array[1:13] - mu) / sigma\n",
        "price = np.dot(X_array, theta)\n",
        "print(format(price))\n",
        "\n"
      ]
    },
    {
      "cell_type": "code",
      "execution_count": 294,
      "metadata": {
        "colab": {
          "base_uri": "https://localhost:8080/"
        },
        "id": "soG9xbsWjZiE",
        "outputId": "3e5943e4-adb4-4a66-80bb-6baa5d444577"
      },
      "outputs": [
        {
          "name": "stdout",
          "output_type": "stream",
          "text": [
            "12.335049705654606\n"
          ]
        }
      ],
      "source": [
        "\n",
        "X_array = np.array([1,   313.8, 71.82, 326.80, 991.2245, 0.00, 95.16299])\n",
        "\n",
        "# Elevar al cuadrado los elementos del array original\n",
        "X_squared = np.square(X_array[1:])\n",
        "\n",
        "# Concatenar los elementos originales y los elementos elevados al cuadrado\n",
        "X_array = np.concatenate((X_array, X_squared))\n",
        "X_array[1:13] = (X_array[1:13] - mu) / sigma\n",
        "price = np.dot(X_array, theta)\n",
        "print(format(price))\n",
        "\n"
      ]
    },
    {
      "cell_type": "code",
      "execution_count": 295,
      "metadata": {
        "colab": {
          "base_uri": "https://localhost:8080/"
        },
        "id": "hhMycMZ-jazA",
        "outputId": "7e59f8ba-5cc5-4596-ff4a-bcf9ba26ab62"
      },
      "outputs": [
        {
          "name": "stdout",
          "output_type": "stream",
          "text": [
            "12.463906051121242\n"
          ]
        }
      ],
      "source": [
        "\n",
        "X_array = np.array([1, 313.7, 71.47, 325.00, 990.4453, 0.00, 91.95670])\n",
        "\n",
        "# Elevar al cuadrado los elementos del array original\n",
        "X_squared = np.square(X_array[1:])\n",
        "\n",
        "# Concatenar los elementos originales y los elementos elevados al cuadrado\n",
        "X_array = np.concatenate((X_array, X_squared))\n",
        "X_array[1:13] = (X_array[1:13] - mu) / sigma\n",
        "price = np.dot(X_array, theta)\n",
        "print(format(price))\n"
      ]
    },
    {
      "cell_type": "code",
      "execution_count": null,
      "metadata": {
        "id": "Gp7Bm1srjbhR"
      },
      "outputs": [],
      "source": []
    }
  ],
  "metadata": {
    "colab": {
      "provenance": []
    },
    "kernelspec": {
      "display_name": "Python 3",
      "name": "python3"
    },
    "language_info": {
      "codemirror_mode": {
        "name": "ipython",
        "version": 3
      },
      "file_extension": ".py",
      "mimetype": "text/x-python",
      "name": "python",
      "nbconvert_exporter": "python",
      "pygments_lexer": "ipython3",
      "version": "3.8.8"
    }
  },
  "nbformat": 4,
  "nbformat_minor": 0
}
