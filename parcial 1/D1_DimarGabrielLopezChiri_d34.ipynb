{
  "cells": [
    {
      "cell_type": "markdown",
      "metadata": {
        "id": "mybr11C-jhKq"
      },
      "source": [
        "# Parcial 1 Grupo 1\n",
        "\n",
        "- Nombre: Dimar Gabriel Lopez Chiri\n",
        "\n",
        "> Busque su nombre en el archivo excel adjunto y aplique de acuerdo al siguiente orden de prioridad el modelo respectivo (Clasificacion One vs All, Clasificación, Regresion Polinómica, Regresion Multiple, Regresion Lineal), se debe aplicar obligatoriamente los pasos de preprocesado y optimizacion revisados en clase. \n",
        "\n",
        "Se deben desarrollar modelos para dos dataset.\n",
        "\n",
        "Los dos primeros numeros que se encuentran en la columna D1 y D2 son a las que debe aplicar el modelo, sin embargo si cualquiera de numeros de dataset asignados, corresponde a un dataset que usted utilizo y registro en los respectivos laboratorios, debe utilizar el D3, D4, D5 o D6 respectivamente.\n",
        "\n",
        "Las respuestas deben ser defendidas en el horario establecido para el examen, las cuales deben ser realizadas en un cuadernillo en google collab, donde se debe considerar solamente incluir el texto que corresponda a la explicacion que propone como respuesta.\n",
        "\n",
        "Se debe subir todo a ecampus ademas de utilizar github para lograr un versionamiento del trabajo."
      ]
    },
    {
      "cell_type": "markdown",
      "metadata": {},
      "source": [
        "| ID | Nombre | Enlace | Descripción |\n",
        "|----|--------|--------|-------------|\n",
        "| 34 | Lopez Chiri Dimar Gabriel (73418588) | - | - |\n",
        "| 34 | CDC Diabetes Health Indicators | [Link](https://www.kaggle.com/code/alexteboul/diabetes-health-indicators-dataset-notebook) | Análisis predictivo de factores de riesgo para diabetes y prediabetes utilizando indicadores de salud. |\n",
        "| 110 | honey purity dataset | [Link](https://www.kaggle.com/datasets/stealthtechnologies/predict-purity-and-price-of-honey?resource=download) | teniendo datos multiples relacionados a la miel, se desea Predecir el precio de la miel |\n",
        "| 186 | sign-language-mnist | [Link](https://www.kaggle.com/datasets/kamilpytlak/personal-key-indicators-of-heart-disease) | encontrar patrones para language de señas |\n",
        "| 37 | Clash Royale S18 Ladder Datasets for prediction | [Link](https://www.kaggle.com/datasets/tristanwassner/clash-royale-s18-ladder-datasets-for-prediction/data) | Calcular la cantidad de coronas de Clash Royale |\n",
        "| 113 | Hotel Reservations Dataset | [Link](https://www.kaggle.com/datasets/ahsan81/hotel-reservations-classification-dataset) | Número total de solicitudes especiales realizadas por el cliente |\n",
        "| 189 | Smart Home Dataset with weather Information | [Link](https://www.kaggle.com/datasets/taranvee/smart-home-dataset-with-weather-information/) | Se busca medir el consumo de enegia de los electrodomesticos de un hogar en un tiempo determinado. |"
      ]
    },
    {
      "cell_type": "code",
      "execution_count": 23,
      "metadata": {
        "id": "mIM3MHD6oWwH"
      },
      "outputs": [],
      "source": [
        "#Librerías necesarias para el funcionamiento\n",
        "import os\n",
        "import numpy as np\n",
        "from matplotlib import pyplot\n",
        "from sklearn.model_selection import train_test_split\n",
        "from sklearn.linear_model import LinearRegression\n",
        "import pandas as pd\n",
        "from sklearn.preprocessing import LabelEncoder\n",
        "from datetime import datetime\n",
        "from sklearn.metrics import mean_squared_error\n",
        "\n"
      ]
    },
    {
      "cell_type": "code",
      "execution_count": 24,
      "metadata": {
        "colab": {
          "base_uri": "https://localhost:8080/"
        },
        "id": "7TMVg3eWrpUk",
        "outputId": "1bf58ba4-60e7-4fd3-fda5-cc906dd2e61f"
      },
      "outputs": [
        {
          "name": "stdout",
          "output_type": "stream",
          "text": [
            "<class 'pandas.core.frame.DataFrame'>\n",
            "RangeIndex: 247903 entries, 0 to 247902\n",
            "Data columns (total 11 columns):\n",
            " #   Column           Non-Null Count   Dtype  \n",
            "---  ------           --------------   -----  \n",
            " 0   CS               247903 non-null  float64\n",
            " 1   Density          247903 non-null  float64\n",
            " 2   WC               247903 non-null  float64\n",
            " 3   pH               247903 non-null  float64\n",
            " 4   EC               247903 non-null  float64\n",
            " 5   F                247903 non-null  float64\n",
            " 6   G                247903 non-null  float64\n",
            " 7   Pollen_analysis  247903 non-null  object \n",
            " 8   Viscosity        247903 non-null  float64\n",
            " 9   Purity           247903 non-null  float64\n",
            " 10  Price            247903 non-null  float64\n",
            "dtypes: float64(10), object(1)\n",
            "memory usage: 20.8+ MB\n"
          ]
        }
      ],
      "source": [
        "# Leer el archivo CSV por pandas y tomar 20000 datos\n",
        "data = pd.read_csv('/home/dilpz/Documentos/SIS420-2024/datasets/honey_purity_dataset.csv')\n",
        "data.info()"
      ]
    },
    {
      "cell_type": "code",
      "execution_count": 25,
      "metadata": {},
      "outputs": [],
      "source": [
        "# describe the data \n",
        "columnas_categoricas = data.select_dtypes(include=['object']).columns"
      ]
    },
    {
      "cell_type": "code",
      "execution_count": 26,
      "metadata": {},
      "outputs": [],
      "source": [
        "#Procesamiento de frases o palabras\n",
        "for columna in columnas_categoricas:\n",
        "  le = LabelEncoder()\n",
        "  data[columna] = le.fit_transform(data[columna])"
      ]
    },
    {
      "cell_type": "code",
      "execution_count": 27,
      "metadata": {},
      "outputs": [
        {
          "name": "stdout",
          "output_type": "stream",
          "text": [
            "<class 'pandas.core.frame.DataFrame'>\n",
            "RangeIndex: 247903 entries, 0 to 247902\n",
            "Data columns (total 11 columns):\n",
            " #   Column           Non-Null Count   Dtype  \n",
            "---  ------           --------------   -----  \n",
            " 0   CS               247903 non-null  float64\n",
            " 1   Density          247903 non-null  float64\n",
            " 2   WC               247903 non-null  float64\n",
            " 3   pH               247903 non-null  float64\n",
            " 4   EC               247903 non-null  float64\n",
            " 5   F                247903 non-null  float64\n",
            " 6   G                247903 non-null  float64\n",
            " 7   Pollen_analysis  247903 non-null  int64  \n",
            " 8   Viscosity        247903 non-null  float64\n",
            " 9   Purity           247903 non-null  float64\n",
            " 10  Price            247903 non-null  float64\n",
            "dtypes: float64(10), int64(1)\n",
            "memory usage: 20.8 MB\n",
            "0     3\n",
            "1     1\n",
            "2     6\n",
            "3     3\n",
            "4     1\n",
            "5     4\n",
            "6    15\n",
            "7     6\n",
            "8    12\n",
            "9     3\n",
            "Name: Pollen_analysis, dtype: int64\n"
          ]
        }
      ],
      "source": [
        "data.info()\n",
        "\n",
        "#imprimir pollen analisis\n",
        "print(data['Pollen_analysis'][:10])"
      ]
    },
    {
      "cell_type": "code",
      "execution_count": 28,
      "metadata": {
        "colab": {
          "base_uri": "https://localhost:8080/"
        },
        "id": "ZM27RFoseRhP",
        "outputId": "c0e07211-220a-4183-b7ee-189da95ebe2a"
      },
      "outputs": [],
      "source": [
        "# Division de dataset en entrenamiento y prueba\n",
        "train_data, test_data = train_test_split(data, test_size=0.2, random_state=42) "
      ]
    },
    {
      "cell_type": "code",
      "execution_count": 29,
      "metadata": {},
      "outputs": [
        {
          "name": "stdout",
          "output_type": "stream",
          "text": [
            "<class 'pandas.core.frame.DataFrame'>\n",
            "Int64Index: 198322 entries, 177226 to 121958\n",
            "Data columns (total 11 columns):\n",
            " #   Column           Non-Null Count   Dtype  \n",
            "---  ------           --------------   -----  \n",
            " 0   CS               198322 non-null  float64\n",
            " 1   Density          198322 non-null  float64\n",
            " 2   WC               198322 non-null  float64\n",
            " 3   pH               198322 non-null  float64\n",
            " 4   EC               198322 non-null  float64\n",
            " 5   F                198322 non-null  float64\n",
            " 6   G                198322 non-null  float64\n",
            " 7   Pollen_analysis  198322 non-null  int64  \n",
            " 8   Viscosity        198322 non-null  float64\n",
            " 9   Purity           198322 non-null  float64\n",
            " 10  Price            198322 non-null  float64\n",
            "dtypes: float64(10), int64(1)\n",
            "memory usage: 18.2 MB\n"
          ]
        }
      ],
      "source": [
        "train_data.info()"
      ]
    },
    {
      "cell_type": "code",
      "execution_count": 30,
      "metadata": {},
      "outputs": [
        {
          "name": "stdout",
          "output_type": "stream",
          "text": [
            "<class 'pandas.core.frame.DataFrame'>\n",
            "Int64Index: 49581 entries, 29002 to 13778\n",
            "Data columns (total 11 columns):\n",
            " #   Column           Non-Null Count  Dtype  \n",
            "---  ------           --------------  -----  \n",
            " 0   CS               49581 non-null  float64\n",
            " 1   Density          49581 non-null  float64\n",
            " 2   WC               49581 non-null  float64\n",
            " 3   pH               49581 non-null  float64\n",
            " 4   EC               49581 non-null  float64\n",
            " 5   F                49581 non-null  float64\n",
            " 6   G                49581 non-null  float64\n",
            " 7   Pollen_analysis  49581 non-null  int64  \n",
            " 8   Viscosity        49581 non-null  float64\n",
            " 9   Purity           49581 non-null  float64\n",
            " 10  Price            49581 non-null  float64\n",
            "dtypes: float64(10), int64(1)\n",
            "memory usage: 4.5 MB\n"
          ]
        }
      ],
      "source": [
        "test_data.info()"
      ]
    },
    {
      "cell_type": "code",
      "execution_count": 31,
      "metadata": {
        "id": "W5zsjhEX2D5n"
      },
      "outputs": [],
      "source": [
        "# Lectura de Datos\n",
        "X = train_data.iloc[:, :10]\n",
        "y = train_data.iloc[:, 10]\n",
        "m = y.size"
      ]
    },
    {
      "cell_type": "code",
      "execution_count": 32,
      "metadata": {
        "colab": {
          "base_uri": "https://localhost:8080/"
        },
        "id": "_axkGOzN10MJ",
        "outputId": "1c00518e-2689-4238-e200-bc4333ce587c"
      },
      "outputs": [
        {
          "name": "stdout",
          "output_type": "stream",
          "text": [
            "          CS  Density     WC    pH    EC      F      G  Pollen_analysis  \\\n",
            "177226  7.20     1.23  23.60  7.22  0.89  24.56  26.84               12   \n",
            "48658   6.13     1.69  22.49  7.12  0.79  36.22  39.36                1   \n",
            "67960   6.12     1.38  19.60  3.28  0.89  45.38  32.26                9   \n",
            "107825  2.02     1.54  12.57  6.88  0.81  48.59  31.65                3   \n",
            "158314  4.29     1.31  17.36  4.14  0.80  39.13  38.72                5   \n",
            "...      ...      ...    ...   ...   ...    ...    ...              ...   \n",
            "119879  2.43     1.68  21.70  6.95  0.74  20.18  22.15                8   \n",
            "103694  8.07     1.67  19.84  4.06  0.83  46.96  37.37                6   \n",
            "131932  2.91     1.62  20.79  2.68  0.70  20.01  44.90               15   \n",
            "146867  8.46     1.78  15.13  6.29  0.78  28.92  29.97                3   \n",
            "121958  6.61     1.31  16.05  6.74  0.84  24.14  24.58               15   \n",
            "\n",
            "        Viscosity  Purity  \n",
            "177226    4683.17    0.66  \n",
            "48658     5151.26    0.99  \n",
            "67960     9761.75    1.00  \n",
            "107825    1698.82    0.64  \n",
            "158314    1758.48    1.00  \n",
            "...           ...     ...  \n",
            "119879    5872.96    0.64  \n",
            "103694    1783.75    0.80  \n",
            "131932    7908.65    0.64  \n",
            "146867    9228.07    0.66  \n",
            "121958    8095.49    0.95  \n",
            "\n",
            "[198322 rows x 10 columns]\n"
          ]
        }
      ],
      "source": [
        "print(X)"
      ]
    },
    {
      "cell_type": "code",
      "execution_count": 33,
      "metadata": {},
      "outputs": [
        {
          "name": "stdout",
          "output_type": "stream",
          "text": [
            "177226    166.35\n",
            "48658     429.15\n",
            "67960     926.30\n",
            "107825    600.73\n",
            "158314    684.45\n",
            "           ...  \n",
            "119879    442.21\n",
            "103694    768.28\n",
            "131932    564.12\n",
            "146867    626.30\n",
            "121958    838.98\n",
            "Name: Price, Length: 198322, dtype: float64\n"
          ]
        }
      ],
      "source": [
        "print(y)"
      ]
    },
    {
      "cell_type": "code",
      "execution_count": 34,
      "metadata": {
        "id": "FXDh9ijIo1tB"
      },
      "outputs": [],
      "source": [
        "def normalizarCaracteristicas(X):\n",
        "    X_norm = X.copy()\n",
        "    mu = np.zeros(X.shape[1])\n",
        "    sigma = np.zeros(X.shape[1])\n",
        "\n",
        "    mu = np.mean(X, axis = 0)\n",
        "    sigma = np.std(X, axis = 0)\n",
        "    X_norm = (X - mu) / sigma\n",
        "\n",
        "    return X_norm, mu, sigma"
      ]
    },
    {
      "cell_type": "code",
      "execution_count": 35,
      "metadata": {
        "colab": {
          "base_uri": "https://localhost:8080/"
        },
        "id": "mnAjjeSwpPnu",
        "outputId": "ec758343-6b88-43db-bfa1-a56e92c1ae60"
      },
      "outputs": [
        {
          "name": "stdout",
          "output_type": "stream",
          "text": [
            "Media calculada: CS                    5.503066\n",
            "Density               1.535493\n",
            "WC                   18.505325\n",
            "pH                    4.996807\n",
            "EC                    0.799969\n",
            "F                    34.965642\n",
            "G                    32.503505\n",
            "Pollen_analysis       8.993934\n",
            "Viscosity          5753.095768\n",
            "Purity                0.824766\n",
            "dtype: float64\n",
            "Desviación estandar calculada: CS                    2.591939\n",
            "Density               0.187681\n",
            "WC                    3.746915\n",
            "pH                    1.444666\n",
            "EC                    0.057960\n",
            "F                     8.658997\n",
            "G                     7.224685\n",
            "Pollen_analysis       5.473384\n",
            "Viscosity          2456.034734\n",
            "Purity                0.139476\n",
            "dtype: float64\n",
            "              CS   Density        WC        pH        EC         F         G  \\\n",
            "177226  0.654697 -1.627720  1.359699  1.538897  1.553327 -1.201714 -0.783910   \n",
            "48658   0.241878  0.823241  1.063455  1.469677 -0.171994  0.144862  0.949037   \n",
            "67960   0.238020 -0.828494  0.292154 -1.188376  1.553327  1.202721 -0.033705   \n",
            "107825 -1.343807  0.024015 -1.584056  1.303549  0.173071  1.573434 -0.118137   \n",
            "158314 -0.468015 -1.201466 -0.305671 -0.593083  0.000539  0.480928  0.860452   \n",
            "...          ...       ...       ...       ...       ...       ...       ...   \n",
            "119879 -1.185624  0.769959  0.852615  1.352003 -1.034654 -1.707547 -1.433074   \n",
            "103694  0.990353  0.716678  0.356206 -0.648459  0.518135  1.385190  0.673593   \n",
            "131932 -1.000435  0.450269  0.609748 -1.603697 -1.724782 -1.727179  1.715853   \n",
            "146867  1.140819  1.302777 -0.900828  0.895150 -0.344526 -0.698192 -0.350674   \n",
            "121958  0.427068 -1.201466 -0.655292  1.206641  0.690667 -1.250219 -1.096727   \n",
            "\n",
            "        Pollen_analysis  Viscosity    Purity  \n",
            "177226         0.549215  -0.435631 -1.181324  \n",
            "48658         -1.460510  -0.245044  1.184680  \n",
            "67960          0.001108   1.632165  1.256377  \n",
            "107825        -1.095106  -1.650740 -1.324718  \n",
            "158314        -0.729701  -1.626449  1.256377  \n",
            "...                 ...        ...       ...  \n",
            "119879        -0.181594   0.048804 -1.324718  \n",
            "103694        -0.546999  -1.616160 -0.177565  \n",
            "131932         1.097322   0.877656 -1.324718  \n",
            "146867        -1.095106   1.414872 -1.181324  \n",
            "121958         1.097322   0.953730  0.897892  \n",
            "\n",
            "[198322 rows x 10 columns]\n"
          ]
        }
      ],
      "source": [
        "# llama featureNormalize con los datos cargados\n",
        "X_norm, mu, sigma = normalizarCaracteristicas(X)\n",
        "\n",
        "print('Media calculada:', mu)\n",
        "print('Desviación estandar calculada:', sigma)\n",
        "print(X_norm)"
      ]
    },
    {
      "cell_type": "code",
      "execution_count": 36,
      "metadata": {
        "colab": {
          "base_uri": "https://localhost:8080/"
        },
        "id": "Dh-iI6OTqU6-",
        "outputId": "3515964a-3d62-4be6-cd6b-4784109fe1e0"
      },
      "outputs": [],
      "source": [
        "# Añade el termino de interseccion a X\n",
        "# (Columna de unos para X0)\n",
        "X = np.concatenate([np.ones((m, 1)), X_norm], axis=1)"
      ]
    },
    {
      "cell_type": "code",
      "execution_count": 37,
      "metadata": {
        "id": "jkVjRskgrJd2"
      },
      "outputs": [],
      "source": [
        "# No olvidarse agregar unos a la matriz de x\n",
        "# (Columna de unos para X0)\n",
        "X = np.concatenate([np.ones((m, 1)), X_norm], axis=1)"
      ]
    },
    {
      "cell_type": "code",
      "execution_count": 38,
      "metadata": {
        "colab": {
          "base_uri": "https://localhost:8080/"
        },
        "id": "043gFEH4F3_S",
        "outputId": "7b494a78-d1a5-40f5-883a-094e95d927af"
      },
      "outputs": [
        {
          "name": "stdout",
          "output_type": "stream",
          "text": [
            "[[ 1.00000000e+00  6.54696543e-01 -1.62772010e+00 ...  5.49215208e-01\n",
            "  -4.35631367e-01 -1.18132383e+00]\n",
            " [ 1.00000000e+00  2.41878240e-01  8.23241222e-01 ... -1.46051030e+00\n",
            "  -2.45043671e-01  1.18468016e+00]\n",
            " [ 1.00000000e+00  2.38020125e-01 -8.28493583e-01 ...  1.10825269e-03\n",
            "   1.63216512e+00  1.25637726e+00]\n",
            " ...\n",
            " [ 1.00000000e+00 -1.00043479e+00  4.50268847e-01 ...  1.09732216e+00\n",
            "   8.77656249e-01 -1.32471801e+00]\n",
            " [ 1.00000000e+00  1.14081903e+00  1.30277713e+00 ... -1.09510566e+00\n",
            "   1.41487178e+00 -1.18132383e+00]\n",
            " [ 1.00000000e+00  4.27067759e-01 -1.20146596e+00 ...  1.09732216e+00\n",
            "   9.53730092e-01  8.97891802e-01]]\n"
          ]
        }
      ],
      "source": [
        "print(X)"
      ]
    },
    {
      "cell_type": "code",
      "execution_count": 39,
      "metadata": {
        "id": "iDWldqUVwYwK"
      },
      "outputs": [],
      "source": [
        "# Costo y Decenso por el gradiente con regularización\n",
        "def computeCostMultiWithReg(X, y, theta, lambda_):\n",
        "    # Inicializa algunos valores utiles\n",
        "    m = y.shape[0] # numero de ejemplos de entrenamiento\n",
        "\n",
        "    J = 0\n",
        "\n",
        "    h = np.dot(X, theta)\n",
        "\n",
        "    J = (1/(2 * m)) * (np.sum(np.square(h - y)) + lambda_ * np.sum(np.square(theta)))\n",
        "\n",
        "    return J\n",
        "\n",
        "def gradientDescentMultiWithReg(X, y, theta, alpha, num_iters, lambda_):\n",
        "\n",
        "    # Inicializa algunos valores\n",
        "    m = y.shape[0] # numero de ejemplos de entrenamiento\n",
        "\n",
        "    # realiza una copia de theta, el cual será acutalizada por el descenso por el gradiente\n",
        "    theta = theta.copy()\n",
        "\n",
        "    J_history = []\n",
        "\n",
        "    for i in range(num_iters):\n",
        "        theta = theta - (alpha / m) * ((np.dot(X, theta) - y).dot(X) + lambda_ * theta)\n",
        "        J_history.append(computeCostMultiWithReg(X, y, theta, lambda_))\n",
        "\n",
        "    return theta, J_history"
      ]
    },
    {
      "cell_type": "code",
      "execution_count": 40,
      "metadata": {
        "colab": {
          "base_uri": "https://localhost:8080/",
          "height": 502
        },
        "id": "ymTwiKnBzVk1",
        "outputId": "38998396-731c-48d0-b336-51064640ce25"
      },
      "outputs": [
        {
          "name": "stdout",
          "output_type": "stream",
          "text": [
            "theta calculado por el descenso por el gradiente: [ 5.90848018e+02  4.47371287e-01 -1.41399324e+00 -6.22831113e-01\n",
            " -1.13965979e+00 -5.61285977e-02 -5.84750389e-01 -1.09894591e+00\n",
            "  1.30681138e+01  8.29125675e-01  9.94012663e+01]\n",
            "702.8785899249735\n"
          ]
        },
        {
          "data": {
            "image/png": "[encoded data removed]",
            "text/plain": [
              "<Figure size 432x288 with 1 Axes>"
            ]
          },
          "metadata": {
            "needs_background": "light"
          },
          "output_type": "display_data"
        }
      ],
      "source": [
        "# Elegir algun valor para alpha (probar varias alternativas)\n",
        "alpha = 0.001\n",
        "num_iters = 5000\n",
        "lambda_ = 100\n",
        "# inicializa theta y ejecuta el descenso por el gradiente\n",
        "theta = np.zeros(11)\n",
        "\n",
        "#theta, J_history = gradientDescentMulti(X, y, theta, alpha, num_iters)\n",
        "theta, J_history = gradientDescentMultiWithReg(X, y, theta, alpha, num_iters, lambda_)\n",
        "\n",
        "# Grafica la convergencia del costo\n",
        "pyplot.plot(np.arange(len(J_history)), J_history, lw=2)\n",
        "pyplot.xlabel('Numero de iteraciones')\n",
        "pyplot.ylabel('Costo J')\n",
        "\n",
        "# Muestra los resultados del descenso por el gradiente\n",
        "print('theta calculado por el descenso por el gradiente: {:s}'.format(str(theta)))\n",
        "\n",
        "X_array = [1, 6.68,1.38,12.6,5.94,0.72,47.95,26.4, 3,4908.49,1.0]\n",
        "X_array[1:11] = (X_array[1:11] - mu) / sigma\n",
        "\n",
        "price = np.dot(X_array, theta)\n",
        "print(format(price))"
      ]
    },
    {
      "cell_type": "code",
      "execution_count": 41,
      "metadata": {},
      "outputs": [
        {
          "name": "stdout",
          "output_type": "stream",
          "text": [
            "Error cuadrático medio en el conjunto de prueba: 43994.48\n"
          ]
        }
      ],
      "source": [
        "# Preparar los datos de prueba\n",
        "X_test = test_data.iloc[:, :10]\n",
        "y_test = test_data.iloc[:, 10]\n",
        "\n",
        "# Normalizar las características\n",
        "X_test = (X_test - mu) / sigma\n",
        "\n",
        "# Añadir una columna de unos al principio para el término de sesgo\n",
        "X_test = np.concatenate([np.ones((X_test.shape[0], 1)), X_test], axis=1)\n",
        "\n",
        "# Hacer la predicción\n",
        "price = np.dot(X_test, theta)\n",
        "\n",
        "# Calcular la precisión\n",
        "mse = mean_squared_error(y_test, price)\n",
        "print(f'Error cuadrático medio en el conjunto de prueba: {mse:.2f}')"
      ]
    },
    {
      "cell_type": "code",
      "execution_count": 42,
      "metadata": {
        "id": "gVBomWT6t24x"
      },
      "outputs": [],
      "source": [
        "#Utilizando la ecuacion de la normal , se declara otra vez X porque la anterior esta normalizada\n",
        "X = train_data.iloc[:, :10]\n",
        "y = train_data.iloc[:, 10]"
      ]
    },
    {
      "cell_type": "code",
      "execution_count": 43,
      "metadata": {},
      "outputs": [],
      "source": [
        "def normalEqn(X, y):\n",
        "\n",
        "    theta = np.zeros(X.shape[1])\n",
        "\n",
        "    theta = np.dot(np.dot(np.linalg.inv(np.dot(X.T,X)),X.T),y)\n",
        "\n",
        "    return theta"
      ]
    },
    {
      "cell_type": "code",
      "execution_count": 44,
      "metadata": {
        "colab": {
          "base_uri": "https://localhost:8080/"
        },
        "id": "2h7TGLI9t6RL",
        "outputId": "2db2912d-44af-4aa4-e5ad-3db72bbd7f28"
      },
      "outputs": [
        {
          "name": "stdout",
          "output_type": "stream",
          "text": [
            "Theta calculado a partir de la ecuación de la normal: [ 2.45993734e-02 -5.70798425e+00 -1.53218764e-01 -1.26822096e-01\n",
            " -4.59119606e+00 -7.47501497e-02 -1.63018730e-01  2.39796463e+00\n",
            "  3.06188277e-04  7.22029980e+02]\n",
            "709.1365963051348\n"
          ]
        }
      ],
      "source": [
        "# Calcula los parametros con la ecuación de la normal \n",
        "theta = normalEqn(X, y );\n",
        "\n",
        "# Muestra los resultados optenidos a partir de la aplicación de la ecuación de la normal\n",
        "print('Theta calculado a partir de la ecuación de la normal: {:s}'.format(str(theta)));\n",
        "\n",
        "# Estimar el precio para la miel con las siguientes caracteristicas\n",
        "\n",
        "X_array = [6.68,1.38,12.6,5.94,0.72,47.95,26.4, 3,4908.49,1.0]\n",
        "price = np.dot(X_array, theta)\n",
        "\n",
        "print(format(price))"
      ]
    }
  ],
  "metadata": {
    "colab": {
      "provenance": []
    },
    "kernelspec": {
      "display_name": "Python 3",
      "name": "python3"
    },
    "language_info": {
      "codemirror_mode": {
        "name": "ipython",
        "version": 3
      },
      "file_extension": ".py",
      "mimetype": "text/x-python",
      "name": "python",
      "nbconvert_exporter": "python",
      "pygments_lexer": "ipython3",
      "version": "3.8.8"
    }
  },
  "nbformat": 4,
  "nbformat_minor": 0
}
