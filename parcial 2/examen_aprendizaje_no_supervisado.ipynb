{
  "cells": [
    {
      "cell_type": "markdown",
      "metadata": {
        "id": "uX1pNyXFZ_hP"
      },
      "source": [
        "# Examen 2do Parcial (Aprendizaje no supervisado) \n",
        "# Examen de Laboratorio Grupo 1\n",
        "\n",
        "- Nombre: Dimar Gabriel Lopez Chiri\n",
        "\n",
        "| ID | Nombre | Enlace | Descripción |\n",
        "|----|--------|--------|-------------|\n",
        "| 83 | Elevator Predictive Maintenance Dataset | [Link](https://www.kaggle.com/datasets/shivamb/elevator-predictive-maintenance-dataset) | predecir el valor absoluto de la vibración |\n",
        "|158 | Point Cloud Mnist 2D\t| [Link](https://www.kaggle.com/datasets/cristiangarcia/pointcloudmnist2d?select=test.csv) | Consiste en convertir cada uno de los píxeles distintos de cero en puntos en un espacio 2D clasificando cada colección de puntos en lugar de imágenes que son números  de 0 a 9 |\n"
      ]
    },
    {
      "cell_type": "code",
      "execution_count": 1,
      "metadata": {
        "id": "jmBuLrUM7Aqs"
      },
      "outputs": [],
      "source": [
        "import numpy as np #para el manejo de matrices y vectores\n",
        "from sklearn.cluster import KMeans\n",
        "from sklearn.metrics import silhouette_score\n",
        "from sklearn.linear_model import LogisticRegression\n",
        "\n",
        "# used for manipulating directory paths\n",
        "import os\n",
        "# Scientific and vector computation for python\n",
        "import numpy as np\n",
        "# Plotting library\n",
        "from matplotlib import pyplot\n",
        "# Optimization module in scipy\n",
        "from scipy import optimize\n",
        "import pandas as pd\n",
        "# Librerias para graficación (trazado de gráficos)\n",
        "from matplotlib import pyplot as plt\n",
        "# tells matplotlib to embed plots within the notebook\n",
        "#Para separa el 20% y 80%\n",
        "from sklearn.model_selection import train_test_split\n",
        "%matplotlib inline"
      ]
    },
    {
      "cell_type": "markdown",
      "metadata": {
        "id": "v4BsETtDZ_hf"
      },
      "source": [
        "### Carga del dataset"
      ]
    },
    {
      "cell_type": "code",
      "execution_count": 2,
      "metadata": {
        "colab": {
          "base_uri": "https://localhost:8080/"
        },
        "id": "GwTApE3M7Aqx",
        "outputId": "8ef03cb1-f05b-4620-d3fc-d142dd95bdd6"
      },
      "outputs": [
        {
          "data": {
            "text/html": [
              "<div>\n",
              "<style scoped>\n",
              "    .dataframe tbody tr th:only-of-type {\n",
              "        vertical-align: middle;\n",
              "    }\n",
              "\n",
              "    .dataframe tbody tr th {\n",
              "        vertical-align: top;\n",
              "    }\n",
              "\n",
              "    .dataframe thead th {\n",
              "        text-align: right;\n",
              "    }\n",
              "</style>\n",
              "<table border=\"1\" class=\"dataframe\">\n",
              "  <thead>\n",
              "    <tr style=\"text-align: right;\">\n",
              "      <th></th>\n",
              "      <th>revolutions</th>\n",
              "      <th>humidity</th>\n",
              "      <th>vibration</th>\n",
              "      <th>x1</th>\n",
              "      <th>x2</th>\n",
              "      <th>x3</th>\n",
              "      <th>x4</th>\n",
              "      <th>x5</th>\n",
              "    </tr>\n",
              "  </thead>\n",
              "  <tbody>\n",
              "    <tr>\n",
              "      <th>0</th>\n",
              "      <td>93.744</td>\n",
              "      <td>73.999</td>\n",
              "      <td>18.00</td>\n",
              "      <td>167.743</td>\n",
              "      <td>19.745</td>\n",
              "      <td>1.266828</td>\n",
              "      <td>8787.937536</td>\n",
              "      <td>5475.852001</td>\n",
              "    </tr>\n",
              "    <tr>\n",
              "      <th>1</th>\n",
              "      <td>93.740</td>\n",
              "      <td>73.999</td>\n",
              "      <td>18.00</td>\n",
              "      <td>167.739</td>\n",
              "      <td>19.741</td>\n",
              "      <td>1.266774</td>\n",
              "      <td>8787.187600</td>\n",
              "      <td>5475.852001</td>\n",
              "    </tr>\n",
              "    <tr>\n",
              "      <th>2</th>\n",
              "      <td>93.736</td>\n",
              "      <td>73.998</td>\n",
              "      <td>18.00</td>\n",
              "      <td>167.734</td>\n",
              "      <td>19.738</td>\n",
              "      <td>1.266737</td>\n",
              "      <td>8786.437696</td>\n",
              "      <td>5475.704004</td>\n",
              "    </tr>\n",
              "    <tr>\n",
              "      <th>3</th>\n",
              "      <td>93.732</td>\n",
              "      <td>73.998</td>\n",
              "      <td>18.00</td>\n",
              "      <td>167.730</td>\n",
              "      <td>19.734</td>\n",
              "      <td>1.266683</td>\n",
              "      <td>8785.687824</td>\n",
              "      <td>5475.704004</td>\n",
              "    </tr>\n",
              "    <tr>\n",
              "      <th>4</th>\n",
              "      <td>93.729</td>\n",
              "      <td>73.998</td>\n",
              "      <td>18.00</td>\n",
              "      <td>167.727</td>\n",
              "      <td>19.731</td>\n",
              "      <td>1.266642</td>\n",
              "      <td>8785.125441</td>\n",
              "      <td>5475.704004</td>\n",
              "    </tr>\n",
              "    <tr>\n",
              "      <th>...</th>\n",
              "      <td>...</td>\n",
              "      <td>...</td>\n",
              "      <td>...</td>\n",
              "      <td>...</td>\n",
              "      <td>...</td>\n",
              "      <td>...</td>\n",
              "      <td>...</td>\n",
              "      <td>...</td>\n",
              "    </tr>\n",
              "    <tr>\n",
              "      <th>111996</th>\n",
              "      <td>20.186</td>\n",
              "      <td>73.992</td>\n",
              "      <td>2.00</td>\n",
              "      <td>94.178</td>\n",
              "      <td>-53.806</td>\n",
              "      <td>0.272813</td>\n",
              "      <td>407.474596</td>\n",
              "      <td>5474.816064</td>\n",
              "    </tr>\n",
              "    <tr>\n",
              "      <th>111997</th>\n",
              "      <td>20.186</td>\n",
              "      <td>73.992</td>\n",
              "      <td>20.01</td>\n",
              "      <td>94.178</td>\n",
              "      <td>-53.806</td>\n",
              "      <td>0.272813</td>\n",
              "      <td>407.474596</td>\n",
              "      <td>5474.816064</td>\n",
              "    </tr>\n",
              "    <tr>\n",
              "      <th>111998</th>\n",
              "      <td>20.185</td>\n",
              "      <td>73.992</td>\n",
              "      <td>20.01</td>\n",
              "      <td>94.177</td>\n",
              "      <td>-53.807</td>\n",
              "      <td>0.272800</td>\n",
              "      <td>407.434225</td>\n",
              "      <td>5474.816064</td>\n",
              "    </tr>\n",
              "    <tr>\n",
              "      <th>111999</th>\n",
              "      <td>20.185</td>\n",
              "      <td>73.992</td>\n",
              "      <td>20.00</td>\n",
              "      <td>94.177</td>\n",
              "      <td>-53.807</td>\n",
              "      <td>0.272800</td>\n",
              "      <td>407.434225</td>\n",
              "      <td>5474.816064</td>\n",
              "    </tr>\n",
              "    <tr>\n",
              "      <th>112000</th>\n",
              "      <td>20.184</td>\n",
              "      <td>73.992</td>\n",
              "      <td>2.00</td>\n",
              "      <td>94.176</td>\n",
              "      <td>-53.808</td>\n",
              "      <td>0.272786</td>\n",
              "      <td>407.393856</td>\n",
              "      <td>5474.816064</td>\n",
              "    </tr>\n",
              "  </tbody>\n",
              "</table>\n",
              "<p>112001 rows × 8 columns</p>\n",
              "</div>"
            ],
            "text/plain": [
              "        revolutions  humidity  vibration       x1      x2        x3  \\\n",
              "0            93.744    73.999      18.00  167.743  19.745  1.266828   \n",
              "1            93.740    73.999      18.00  167.739  19.741  1.266774   \n",
              "2            93.736    73.998      18.00  167.734  19.738  1.266737   \n",
              "3            93.732    73.998      18.00  167.730  19.734  1.266683   \n",
              "4            93.729    73.998      18.00  167.727  19.731  1.266642   \n",
              "...             ...       ...        ...      ...     ...       ...   \n",
              "111996       20.186    73.992       2.00   94.178 -53.806  0.272813   \n",
              "111997       20.186    73.992      20.01   94.178 -53.806  0.272813   \n",
              "111998       20.185    73.992      20.01   94.177 -53.807  0.272800   \n",
              "111999       20.185    73.992      20.00   94.177 -53.807  0.272800   \n",
              "112000       20.184    73.992       2.00   94.176 -53.808  0.272786   \n",
              "\n",
              "                 x4           x5  \n",
              "0       8787.937536  5475.852001  \n",
              "1       8787.187600  5475.852001  \n",
              "2       8786.437696  5475.704004  \n",
              "3       8785.687824  5475.704004  \n",
              "4       8785.125441  5475.704004  \n",
              "...             ...          ...  \n",
              "111996   407.474596  5474.816064  \n",
              "111997   407.474596  5474.816064  \n",
              "111998   407.434225  5474.816064  \n",
              "111999   407.434225  5474.816064  \n",
              "112000   407.393856  5474.816064  \n",
              "\n",
              "[112001 rows x 8 columns]"
            ]
          },
          "execution_count": 2,
          "metadata": {},
          "output_type": "execute_result"
        }
      ],
      "source": [
        "\n",
        "dataset = pd.read_csv('/home/dilpz/Documentos/SIS420-2024/datasets/predictive-maintenance-dataset.csv', delimiter=',')\n",
        "dataset = dataset.drop(dataset.columns[0], axis=1)\n",
        "\n",
        "dataset"
      ]
    },
    {
      "cell_type": "markdown",
      "metadata": {
        "id": "omE7E2TxZ_hf"
      },
      "source": [
        "#### Separamos 80% para entrenamiento y 20% para pruebas"
      ]
    },
    {
      "cell_type": "code",
      "execution_count": 3,
      "metadata": {
        "id": "NqS0gPuNZ_hg"
      },
      "outputs": [],
      "source": [
        "# usamos la libreria train_test_split que nos ayudara a separar el 80% y 20% de los datos.\n",
        "train_dataset, test_dataset = train_test_split(dataset, test_size=0.2, random_state=42)\n",
        "#Separamos en X_test los datos, pero dropeando nuestra y que seria 'CARDIO_DISEASE'\n",
        "X_test = test_dataset.drop(['vibration'], axis=1).values\n",
        "#Separamos en y_test los datos, pero solo cargando la columna de 'CARDIO_DISEASE', ya que esa sera nuestra y\n",
        "y_test = test_dataset['vibration'].values\n",
        "m_test = len(y_test)\n",
        "\n",
        "# tomamos train_dataset, seleccionamos las columnas para X_train y la columna 'CARDIO_DISEASE' para y_train\n",
        "X_train = train_dataset.drop(['vibration'], axis=1).values\n",
        "y_train = train_dataset['vibration'].values\n",
        "m_train = len(y_train)\n",
        "\n",
        "#para la aplicacion de la silueta\n",
        "X_train_subset = X_train[:2000]\n"
      ]
    },
    {
      "cell_type": "markdown",
      "metadata": {
        "id": "Hko1cHXQ7Aqx"
      },
      "source": [
        "Imagina que el dataset no estuviese etiquetado, es decir, que tuviésemos solo los dígitos sin la clase (sólo $X$ y no $y$) y tampoco supiésemos cuantas clases diferentes tenemos. Lo primero que podríamos hacer es entrenar un modelo de *K-Means* con, por ejemplos, 50 grupos. De esta manera encontraremos aquellas imágenes más representativas de cada grupo."
      ]
    },
    {
      "cell_type": "markdown",
      "metadata": {
        "id": "v9RxC9d7Z_hg"
      },
      "source": [
        "en ``kmeans.fit_transform(X_train)`` transformamos X_train en una matriz de distancias a los centroides de los clústeres. X_digits_dist contendrá una matriz donde cada fila representará una instancia de X_train y cada columna representará la distancia de esa instancia a cada uno de los 50 centroides de los clústeres.\n",
        "\n",
        "* la fila es la instancia de X_train.\n",
        "* la columna es la distancia de esa instancia a cada centroide de los 50 clusteres."
      ]
    },
    {
      "cell_type": "markdown",
      "metadata": {
        "id": "QDRC-Ww6Z_hg"
      },
      "source": [
        "#### Aplicacion de la silueta:"
      ]
    },
    {
      "cell_type": "code",
      "execution_count": 4,
      "metadata": {
        "id": "d6Mp4k4LZ_hg",
        "outputId": "1d738f2c-e775-4043-abdd-a84c574a4a09"
      },
      "outputs": [],
      "source": [
        "kmeans_per_k = [KMeans(n_clusters=k, random_state=42).fit(X_train_subset)\n",
        "                for k in range(1, 20)]\n",
        "\n",
        "silhouette_scores = [silhouette_score(X_train_subset, model.labels_)\n",
        "                     for model in kmeans_per_k[1:]]\n",
        "\n",
        "# The best value is 1 and the worst value is -1.\n",
        "# Values near 0 indicate overlapping clusters. \n",
        "# Negative values generally indicate that a sample has been assigned to the wrong cluster\n",
        "\n",
        "plt.figure(figsize=(8, 3))\n",
        "plt.plot(range(2, 20), silhouette_scores, \"bo-\")\n",
        "plt.xlabel(\"$k$\", fontsize=14)\n",
        "plt.ylabel(\"Silhouette score\", fontsize=14)\n",
        "plt.axis([0, 20.5, 0, 1.1])\n",
        "plt.show()"
      ]
    },
    {
      "cell_type": "code",
      "execution_count": null,
      "metadata": {},
      "outputs": [
        {
          "name": "stdout",
          "output_type": "stream",
          "text": [
            "K=1: WCSS=315642472500.20337\n",
            "K=2: WCSS=65789212936.477806\n",
            "K=3: WCSS=33989029970.206882\n",
            "K=4: WCSS=15379720394.920034\n",
            "K=5: WCSS=9684650966.3782\n",
            "K=6: WCSS=7069840101.642891\n",
            "K=7: WCSS=5132191911.693962\n",
            "K=8: WCSS=4139456112.88551\n",
            "K=9: WCSS=3436339632.13306\n",
            "K=10: WCSS=2803864289.020535\n"
          ]
        },
        {
          "data": {
            "image/png": "[encoded data removed]",
            "text/plain": [
              "<Figure size 720x432 with 1 Axes>"
            ]
          },
          "metadata": {
            "needs_background": "light"
          },
          "output_type": "display_data"
        }
      ],
      "source": [
        "import matplotlib.pyplot as plt\n",
        "from sklearn.cluster import KMeans\n",
        "\n",
        "wcss = []   \n",
        "\n",
        "valores_k = []\n",
        "\n",
        "for k in range(1, 11):\n",
        "    kmeans = KMeans(n_clusters=k, n_init=10, random_state=42)\n",
        "\n",
        "    kmeans.fit(X_train)\n",
        "    # Calculamos la suma de cuadrados intra-cluster (WCSS)\n",
        "    wcss.append(kmeans.inertia_)\n",
        "    valores_k.append(k)  # Guarda el valor de K en esta iteración\n",
        "\n",
        "    # Imprime el valor de K y su correspondiente WCSS\n",
        "    print(f\"K={k}: WCSS={kmeans.inertia_}\")\n",
        "\n",
        "plt.figure(figsize=(10, 6))\n",
        "plt.plot(valores_k, wcss, marker='o')\n",
        "plt.xlabel('Número de clústeres (K)')\n",
        "plt.ylabel('Suma de cuadrados intra-cluster (WCSS)')\n",
        "plt.title('Método del codo para encontrar el mejor valor de K')\n",
        "plt.xticks(valores_k)\n",
        "plt.grid(True)\n",
        "plt.show()"
      ]
    },
    {
      "cell_type": "code",
      "execution_count": null,
      "metadata": {
        "colab": {
          "base_uri": "https://localhost:8080/"
        },
        "id": "3O8w5yVl7Aqy",
        "outputId": "20887ddc-bf82-4750-cfb3-11d4915447fe"
      },
      "outputs": [
        {
          "name": "stdout",
          "output_type": "stream",
          "text": [
            "(89600, 3)\n"
          ]
        }
      ],
      "source": [
        "from sklearn.cluster import KMeans\n",
        "\n",
        "k = 3\n",
        "kmeans = KMeans(n_clusters=k, random_state=42)\n",
        "X_digits_dist = kmeans.fit_transform(X_train)\n",
        "\n",
        "print(X_digits_dist.shape)"
      ]
    },
    {
      "cell_type": "code",
      "execution_count": null,
      "metadata": {},
      "outputs": [
        {
          "name": "stdout",
          "output_type": "stream",
          "text": [
            "[ 3.61  3.24 38.47  4.07 99.86 21.12  8.   66.54 30.4   7.41]\n"
          ]
        }
      ],
      "source": [
        "print(y_train[:10])"
      ]
    },
    {
      "cell_type": "code",
      "execution_count": null,
      "metadata": {},
      "outputs": [
        {
          "name": "stdout",
          "output_type": "stream",
          "text": [
            "[1 2 1 0 0 1 0 0 0 1]\n"
          ]
        }
      ],
      "source": [
        "y_pred = kmeans.predict(X_test)\n",
        "print(y_pred[:10])"
      ]
    },
    {
      "cell_type": "code",
      "execution_count": null,
      "metadata": {
        "colab": {
          "base_uri": "https://localhost:8080/"
        },
        "id": "gcT-4z1Y7Aqy",
        "outputId": "82651078-a80c-4e0c-e145-ba85c845cd23"
      },
      "outputs": [
        {
          "name": "stdout",
          "output_type": "stream",
          "text": [
            "CPU times: user 18.1 ms, sys: 716 µs, total: 18.8 ms\n",
            "Wall time: 17.3 ms\n"
          ]
        },
        {
          "data": {
            "text/plain": [
              "0.7139413419043793"
            ]
          },
          "execution_count": 59,
          "metadata": {},
          "output_type": "execute_result"
        }
      ],
      "source": [
        "log_reg = LogisticRegression(multi_class=\"ovr\", solver=\"lbfgs\", max_iter=50000, random_state=42)\n",
        "%time log_reg.fit(X_train[:50], y_pred[:50])\n",
        "log_reg.score(X_test, y_pred)"
      ]
    },
    {
      "cell_type": "markdown",
      "metadata": {},
      "source": [
        "### Segundo dataset"
      ]
    },
    {
      "cell_type": "code",
      "execution_count": null,
      "metadata": {},
      "outputs": [],
      "source": [
        "# Importamos el dataset\n",
        "train_dataset = pd.read_csv('/home/dilpz/Documentos/SIS420-2024/datasets/numeros POINT cloud MNIST/train.csv', delimiter=',')\n",
        "test_dataset = pd.read_csv('/home/dilpz/Documentos/SIS420-2024/datasets/numeros POINT cloud MNIST/test.csv', delimiter=',')\n",
        "\n",
        "\n",
        "#Separamos en X_test los datos\n",
        "X_test = test_dataset.drop(['label'], axis=1).values\n",
        "#Separamos en y_test los datos, pero solo cargando la columna de 'CARDIO_DISEASE', ya que esa sera nuestra y\n",
        "y_test = test_dataset['label'].values\n",
        "m_test = len(y_test)\n",
        "\n",
        "# tomamos train_dataset\n",
        "X_train = train_dataset.drop(['label'], axis=1).values\n",
        "y_train = train_dataset['label'].values\n",
        "m_train = len(y_train)\n",
        "\n",
        "#para la aplicacion de la silueta\n",
        "X_train_subset = X_train[:10000]\n"
      ]
    },
    {
      "cell_type": "code",
      "execution_count": null,
      "metadata": {},
      "outputs": [
        {
          "data": {
            "image/png": "[encoded data removed]",
            "text/plain": [
              "<Figure size 576x216 with 1 Axes>"
            ]
          },
          "metadata": {
            "needs_background": "light"
          },
          "output_type": "display_data"
        }
      ],
      "source": [
        "kmeans_per_k = [KMeans(n_clusters=k, random_state=42).fit(X_train_subset)\n",
        "                for k in range(1, 20)]\n",
        "\n",
        "silhouette_scores = [silhouette_score(X_train_subset, model.labels_)\n",
        "                     for model in kmeans_per_k[1:]]\n",
        "\n",
        "# The best value is 1 and the worst value is -1.\n",
        "# Values near 0 indicate overlapping clusters. \n",
        "# Negative values generally indicate that a sample has been assigned to the wrong cluster\n",
        "\n",
        "plt.figure(figsize=(8, 3))\n",
        "plt.plot(range(2, 20), silhouette_scores, \"bo-\")\n",
        "plt.xlabel(\"$k$\", fontsize=14)\n",
        "plt.ylabel(\"Silhouette score\", fontsize=14)\n",
        "plt.axis([0, 20.5, 0, 1.1])\n",
        "plt.show()"
      ]
    },
    {
      "cell_type": "code",
      "execution_count": null,
      "metadata": {},
      "outputs": [
        {
          "name": "stdout",
          "output_type": "stream",
          "text": [
            "K=1: WCSS=116254511892.89008\n",
            "K=2: WCSS=95661118724.8894\n",
            "K=3: WCSS=87566999941.0177\n",
            "K=4: WCSS=83292790417.09293\n",
            "K=5: WCSS=80608843799.6057\n",
            "K=6: WCSS=78787703757.75461\n",
            "K=7: WCSS=77464060340.22978\n",
            "K=8: WCSS=76430405266.93298\n",
            "K=9: WCSS=75660203210.52554\n",
            "K=10: WCSS=75031371425.2793\n"
          ]
        },
        {
          "data": {
            "image/png": "[encoded data removed]",
            "text/plain": [
              "<Figure size 720x432 with 1 Axes>"
            ]
          },
          "metadata": {
            "needs_background": "light"
          },
          "output_type": "display_data"
        }
      ],
      "source": [
        "wcss = []   \n",
        "\n",
        "valores_k = []\n",
        "\n",
        "for k in range(1, 7):\n",
        "    kmeans = KMeans(n_clusters=k, n_init=6, random_state=42)\n",
        "\n",
        "    kmeans.fit(X_train)\n",
        "    # Calculamos la suma de cuadrados intra-cluster (WCSS)\n",
        "    wcss.append(kmeans.inertia_)\n",
        "    valores_k.append(k)  # Guarda el valor de K en esta iteración\n",
        "\n",
        "    # Imprime el valor de K y su correspondiente WCSS\n",
        "    print(f\"K={k}: WCSS={kmeans.inertia_}\")\n",
        "\n",
        "plt.figure(figsize=(10, 6))\n",
        "plt.plot(valores_k, wcss, marker='o')\n",
        "plt.xlabel('Número de clústeres (K)')\n",
        "plt.ylabel('Suma de cuadrados intra-cluster (WCSS)')\n",
        "plt.title('Método del codo para encontrar el mejor valor de K')\n",
        "plt.xticks(valores_k)\n",
        "plt.grid(True)\n",
        "plt.show()"
      ]
    },
    {
      "cell_type": "code",
      "execution_count": null,
      "metadata": {},
      "outputs": [
        {
          "name": "stdout",
          "output_type": "stream",
          "text": [
            "(89600, 3)\n"
          ]
        }
      ],
      "source": [
        "k = 3\n",
        "kmeans = KMeans(n_clusters=k, random_state=42)\n",
        "X_digits_dist = kmeans.fit_transform(X_train)\n",
        "\n",
        "print(X_digits_dist.shape)"
      ]
    },
    {
      "cell_type": "code",
      "execution_count": null,
      "metadata": {},
      "outputs": [
        {
          "name": "stdout",
          "output_type": "stream",
          "text": [
            "[1 2 1 0 0 1 0 0 0 1]\n"
          ]
        }
      ],
      "source": [
        "y_pred = kmeans.predict(X_test)\n",
        "print(y_pred[:10])"
      ]
    },
    {
      "cell_type": "code",
      "execution_count": null,
      "metadata": {},
      "outputs": [
        {
          "name": "stdout",
          "output_type": "stream",
          "text": [
            "CPU times: user 252 ms, sys: 735 ms, total: 987 ms\n",
            "Wall time: 77.5 ms\n"
          ]
        },
        {
          "data": {
            "text/plain": [
              "0.6090353109236195"
            ]
          },
          "execution_count": 55,
          "metadata": {},
          "output_type": "execute_result"
        }
      ],
      "source": [
        "log_reg = LogisticRegression(multi_class=\"ovr\", solver=\"lbfgs\", max_iter=5000, random_state=42)\n",
        "%time log_reg.fit(X_train[:200], y_pred[:200])\n",
        "log_reg.score(X_test, y_pred)"
      ]
    },
    {
      "cell_type": "code",
      "execution_count": null,
      "metadata": {},
      "outputs": [],
      "source": []
    }
  ],
  "metadata": {
    "colab": {
      "provenance": [],
      "toc_visible": true
    },
    "kernelspec": {
      "display_name": "Python 3.8.12 ('base')",
      "language": "python",
      "name": "python3"
    },
    "language_info": {
      "codemirror_mode": {
        "name": "ipython",
        "version": 3
      },
      "file_extension": ".py",
      "mimetype": "text/x-python",
      "name": "python",
      "nbconvert_exporter": "python",
      "pygments_lexer": "ipython3",
      "version": "3.8.8"
    },
    "orig_nbformat": 4,
    "vscode": {
      "interpreter": {
        "hash": "74dbfc52f168b3071122cf9c0781887d6121c12f9c1b29bca56ce221bccb2a07"
      }
    }
  },
  "nbformat": 4,
  "nbformat_minor": 0
}
